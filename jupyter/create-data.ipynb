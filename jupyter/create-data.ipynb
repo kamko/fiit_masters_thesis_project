{
 "cells": [
  {
   "cell_type": "code",
   "execution_count": 2,
   "metadata": {},
   "outputs": [],
   "source": [
    "import sys\n",
    "\n",
    "import importlib\n",
    "import numpy as np\n",
    "import pandas as pd\n",
    "import seaborn as sns\n",
    "import matplotlib.pyplot as plt\n",
    "import sqlalchemy\n",
    "import gensim\n",
    "import logging\n",
    "\n",
    "import common\n",
    "import util\n",
    "importlib.reload(common)\n",
    "importlib.reload(util)\n",
    "\n",
    "from common import create_engine\n",
    "from common import display_all\n",
    "from common import figsize\n",
    "from common import save_df, load_df\n",
    "from common import save_session, load_session\n",
    "\n",
    "from util import show_importances\n",
    "from util import split_X_y_all, split_X_y, split_data\n",
    "from util import empty_features, column_feature, str_contains\n",
    "\n",
    "from pbar import Pbar\n",
    "\n",
    "from pandas.plotting import register_matplotlib_converters\n",
    "\n",
    "register_matplotlib_converters() # converters e.g. for datetime in plots\n",
    "logging.basicConfig(format='%(asctime)s : %(levelname)s : %(message)s', level=logging.INFO)"
   ]
  },
  {
   "cell_type": "code",
   "execution_count": 3,
   "metadata": {},
   "outputs": [],
   "source": [
    "engine = create_engine('db-conf.json', 'local')\n",
    "pd.sql = lambda sql: pd.read_sql(sqlalchemy.text(sql), con=engine)"
   ]
  },
  {
   "cell_type": "markdown",
   "metadata": {},
   "source": [
    "Vytvorenie materialized views kvoli obmedzeniu datovej mnoziny"
   ]
  },
  {
   "cell_type": "code",
   "execution_count": 4,
   "metadata": {},
   "outputs": [],
   "source": [
    "REFRESH_MVIEWS = True"
   ]
  },
  {
   "cell_type": "code",
   "execution_count": 6,
   "metadata": {},
   "outputs": [],
   "source": [
    "mviews_queries = [\n",
    "    # iba clanky z monitorov v kategoriach 'english' a 'medical' + publikovane po 'zaciatok-monitoringu' - 4 dni\n",
    "    '''\n",
    "    DROP MATERIALIZED VIEW IF EXISTS new_articles CASCADE;\n",
    "    CREATE MATERIALIZED VIEW new_articles AS (\n",
    "    SELECT *\n",
    "    FROM article\n",
    "    WHERE monitor_id in (1, 4, 5, 7, 8, 9, 10)\n",
    "      AND published_at >= '2019-10-10 00:00:00.000000');\n",
    "    ''',\n",
    "    \n",
    "    # maximalne id pozorovania pre danu kombinaciu (url, datum)\n",
    "    '''\n",
    "    DROP MATERIALIZED VIEW IF EXISTS article_fb_engagement_per_day CASCADE;\n",
    "    CREATE MATERIALIZED VIEW article_fb_engagement_per_day AS (\n",
    "    SELECT max(id) last_id_on_day, related_object_url as url, extracted_at::date as sync_on_day\n",
    "    FROM feedback_facebook\n",
    "    GROUP BY url, sync_on_day);\n",
    "    ''',\n",
    "    \n",
    "    # fb popularita + url + rozdiel medzi datumom publikovania a datumom ziskania dat z FB\n",
    "    '''\n",
    "    DROP MATERIALIZED VIEW IF EXISTS new_articles_fb_engagement CASCADE;\n",
    "    CREATE MATERIALIZED VIEW new_articles_fb_engagement AS (\n",
    "    SELECT fb.id,\n",
    "           fb.related_object_url                     as url,\n",
    "           fb.reaction_count,\n",
    "           fb.comment_count,\n",
    "           fb.share_count,\n",
    "           fb.comment_plugin_count,\n",
    "           afepd.sync_on_day,\n",
    "           na.published_at,\n",
    "           afepd.sync_on_day - na.published_at::date as days_after_publication\n",
    "    FROM article_fb_engagement_per_day afepd\n",
    "             JOIN feedback_facebook fb ON fb.id = afepd.last_id_on_day\n",
    "             JOIN new_articles na ON na.url = afepd.url);\n",
    "    '''\n",
    "]\n",
    "\n",
    "if REFRESH_MVIEWS:\n",
    "    with engine.connect() as connection:\n",
    "        for q in mviews_queries:\n",
    "            connection.execute(q)"
   ]
  },
  {
   "cell_type": "code",
   "execution_count": 42,
   "metadata": {},
   "outputs": [],
   "source": [
    "main_view = '''\n",
    "CREATE OR REPLACE VIEW main_articles_view AS\n",
    "SELECT a.id,\n",
    "       a.url,\n",
    "       title,\n",
    "       perex,\n",
    "       body,\n",
    "       a.published_at,\n",
    "       extracted_at,\n",
    "       category,\n",
    "       other_info,\n",
    "       coalesce(imgc.cnt, 0)            as image_count,\n",
    "       coalesce(vidc.cnt, 0)            as video_count,\n",
    "       aut.name                         as author_name,\n",
    "       s.id                             as source_id,\n",
    "       s.name                           as source_name,\n",
    "       s.url                            as source_url,\n",
    "       stype                            as source_type,\n",
    "       is_reliable::integer             as source_is_reliable,\n",
    "       av.veracity                      as av_veracity,\n",
    "       coalesce(claims_false, 0)        as av_claims_false,\n",
    "       coalesce(claims_mostly_false, 0) as av_claims_mostly_false,\n",
    "       coalesce(claims_mixture, 0)      as av_claims_mixture,\n",
    "       coalesce(claims_mostly_true, 0)  as av_claims_mostly_true,\n",
    "       coalesce(claims_true, 0)         as av_claims_true,\n",
    "       coalesce(av.claims_unknown, 0)   as av_claims_unknown\n",
    "FROM new_articles a\n",
    "         JOIN source s on a.source_id = s.id\n",
    "         JOIN author aut on a.author_id = aut.id\n",
    "         LEFT JOIN (SELECT article_id, count(*) as cnt\n",
    "                    FROM media\n",
    "                    WHERE media_type = 'image'\n",
    "                    GROUP BY article_id) imgc ON a.id = imgc.article_id\n",
    "         LEFT JOIN (SELECT article_id, count(*) as cnt\n",
    "                    FROM media\n",
    "                    WHERE media_type = 'video'\n",
    "                    GROUP BY article_id) vidc ON a.id = vidc.article_id\n",
    "         LEFT JOIN article_veracity av on a.id = av.article_id\n",
    "WHERE s.is_reliable IS NOT NULL;\n",
    "'''\n",
    "with engine.connect() as connection:\n",
    "     connection.execute(main_view)"
   ]
  },
  {
   "cell_type": "code",
   "execution_count": 43,
   "metadata": {},
   "outputs": [],
   "source": [
    "# - obsah clanku (+meta)\n",
    "# - meno autora\n",
    "# - pocet obrazkov / videii\n",
    "# - pocet claimov\n",
    "# - veracity (podla claimov)\n",
    "# - zdroj (nazov, url)\n",
    "# - anotacia doveryhodnosti zdroja\n",
    "\n",
    "df = pd.sql('SELECT * FROM main_articles_view;')"
   ]
  },
  {
   "cell_type": "code",
   "execution_count": 44,
   "metadata": {},
   "outputs": [
    {
     "name": "stdout",
     "output_type": "stream",
     "text": [
      "<class 'pandas.core.frame.DataFrame'>\n",
      "RangeIndex: 20194 entries, 0 to 20193\n",
      "Data columns (total 24 columns):\n",
      "id                        20194 non-null int64\n",
      "url                       20194 non-null object\n",
      "title                     20194 non-null object\n",
      "perex                     15639 non-null object\n",
      "body                      20160 non-null object\n",
      "published_at              20194 non-null datetime64[ns]\n",
      "extracted_at              20194 non-null datetime64[ns]\n",
      "category                  13237 non-null object\n",
      "other_info                20190 non-null object\n",
      "image_count               20194 non-null int64\n",
      "video_count               20194 non-null int64\n",
      "author_name               20194 non-null object\n",
      "source_id                 20194 non-null int64\n",
      "source_name               20194 non-null object\n",
      "source_url                20194 non-null object\n",
      "source_type               20194 non-null object\n",
      "source_is_reliable        20194 non-null int64\n",
      "av_veracity               4248 non-null object\n",
      "av_claims_false           20194 non-null int64\n",
      "av_claims_mostly_false    20194 non-null int64\n",
      "av_claims_mixture         20194 non-null int64\n",
      "av_claims_mostly_true     20194 non-null int64\n",
      "av_claims_true            20194 non-null int64\n",
      "av_claims_unknown         20194 non-null int64\n",
      "dtypes: datetime64[ns](2), int64(11), object(11)\n",
      "memory usage: 3.7+ MB\n"
     ]
    }
   ],
   "source": [
    "df.info()"
   ]
  },
  {
   "cell_type": "code",
   "execution_count": 45,
   "metadata": {},
   "outputs": [],
   "source": [
    "# url, popularita na fb, rozdiel sync - publikovanie (max 30 dni)\n",
    "\n",
    "DAYS_AFTER_POP_CUTOUT = 15\n",
    "\n",
    "fb = pd.sql(f'''\n",
    "\n",
    "SELECT url,\n",
    "       reaction_count,\n",
    "       share_count,\n",
    "       comment_count,\n",
    "       comment_plugin_count,\n",
    "       sync_on_day,\n",
    "       days_after_publication\n",
    "FROM new_articles_fb_engagement\n",
    "WHERE days_after_publication BETWEEN 0 AND {DAYS_AFTER_POP_CUTOUT}\n",
    "AND url in (SELECT url FROM main_articles_view);\n",
    "''')"
   ]
  },
  {
   "cell_type": "code",
   "execution_count": 47,
   "metadata": {},
   "outputs": [],
   "source": [
    "assert DAYS_AFTER_POP_CUTOUT >= fb.days_after_publication.max()"
   ]
  },
  {
   "cell_type": "code",
   "execution_count": 48,
   "metadata": {},
   "outputs": [
    {
     "name": "stdout",
     "output_type": "stream",
     "text": [
      "<class 'pandas.core.frame.DataFrame'>\n",
      "RangeIndex: 245730 entries, 0 to 245729\n",
      "Data columns (total 7 columns):\n",
      "url                       245730 non-null object\n",
      "reaction_count            245730 non-null int64\n",
      "share_count               245730 non-null int64\n",
      "comment_count             245730 non-null int64\n",
      "comment_plugin_count      245730 non-null int64\n",
      "sync_on_day               245730 non-null object\n",
      "days_after_publication    245730 non-null int64\n",
      "dtypes: int64(5), object(2)\n",
      "memory usage: 13.1+ MB\n"
     ]
    }
   ],
   "source": [
    "fb.info()"
   ]
  },
  {
   "cell_type": "code",
   "execution_count": 49,
   "metadata": {},
   "outputs": [],
   "source": [
    "def append_popularity_columns(df, fb):\n",
    "    df = df.copy()\n",
    "    fb = fb.copy()\n",
    "    \n",
    "    cols = [\n",
    "        'url',\n",
    "        'days_after_publication',\n",
    "        'reaction_count',\n",
    "        'share_count',\n",
    "        'comment_count'\n",
    "    ] \n",
    "    \n",
    "    fb = fb[cols].pivot_table(index='url',\n",
    "                         columns='days_after_publication')\n",
    "    fb.columns = [f'fb_ad_{j}_{i}' for i,j in fb.columns.values]\n",
    "    \n",
    "    df = df.query(\"url in @fb.index\")\n",
    "    df = pd.concat((df.set_index('url'), fb), axis=1, join='inner')\n",
    "    return df.set_index('id')"
   ]
  },
  {
   "cell_type": "code",
   "execution_count": 50,
   "metadata": {},
   "outputs": [],
   "source": [
    "def append_fb_pop_sum(df):\n",
    "    df = df.copy()\n",
    "    for i in range(0, DAYS_AFTER_POP_CUTOUT + 1):\n",
    "        cols = [\n",
    "            f'fb_ad_{i}_comment_count',\n",
    "            f'fb_ad_{i}_share_count',\n",
    "            f'fb_ad_{i}_reaction_count'\n",
    "        ]\n",
    "        df[f'fb_popularity_ad_{i}'] = df[cols].apply(np.sum, axis=1)\n",
    "    return df"
   ]
  },
  {
   "cell_type": "code",
   "execution_count": 51,
   "metadata": {},
   "outputs": [],
   "source": [
    "xdf = append_popularity_columns(df, fb)\n",
    "xdf = append_fb_pop_sum(xdf)\n",
    "\n",
    "df = xdf"
   ]
  },
  {
   "cell_type": "code",
   "execution_count": 53,
   "metadata": {},
   "outputs": [
    {
     "name": "stdout",
     "output_type": "stream",
     "text": [
      "<class 'pandas.core.frame.DataFrame'>\n",
      "Int64Index: 18967 entries, 428781 to 809428\n",
      "Data columns (total 86 columns):\n",
      "title                      18967 non-null object\n",
      "perex                      15077 non-null object\n",
      "body                       18933 non-null object\n",
      "published_at               18967 non-null datetime64[ns]\n",
      "extracted_at               18967 non-null datetime64[ns]\n",
      "category                   12710 non-null object\n",
      "other_info                 18963 non-null object\n",
      "image_count                18967 non-null int64\n",
      "video_count                18967 non-null int64\n",
      "author_name                18967 non-null object\n",
      "source_id                  18967 non-null int64\n",
      "source_name                18967 non-null object\n",
      "source_url                 18967 non-null object\n",
      "source_type                18967 non-null object\n",
      "source_is_reliable         18967 non-null int64\n",
      "av_veracity                3898 non-null object\n",
      "av_claims_false            18967 non-null int64\n",
      "av_claims_mostly_false     18967 non-null int64\n",
      "av_claims_mixture          18967 non-null int64\n",
      "av_claims_mostly_true      18967 non-null int64\n",
      "av_claims_true             18967 non-null int64\n",
      "av_claims_unknown          18967 non-null int64\n",
      "fb_ad_0_comment_count      8602 non-null float64\n",
      "fb_ad_1_comment_count      13307 non-null float64\n",
      "fb_ad_2_comment_count      14358 non-null float64\n",
      "fb_ad_3_comment_count      15109 non-null float64\n",
      "fb_ad_4_comment_count      15690 non-null float64\n",
      "fb_ad_5_comment_count      15895 non-null float64\n",
      "fb_ad_6_comment_count      16148 non-null float64\n",
      "fb_ad_7_comment_count      16319 non-null float64\n",
      "fb_ad_8_comment_count      16118 non-null float64\n",
      "fb_ad_9_comment_count      16232 non-null float64\n",
      "fb_ad_10_comment_count     16482 non-null float64\n",
      "fb_ad_11_comment_count     16672 non-null float64\n",
      "fb_ad_12_comment_count     16566 non-null float64\n",
      "fb_ad_13_comment_count     16265 non-null float64\n",
      "fb_ad_14_comment_count     16049 non-null float64\n",
      "fb_ad_15_comment_count     15934 non-null float64\n",
      "fb_ad_0_reaction_count     8602 non-null float64\n",
      "fb_ad_1_reaction_count     13307 non-null float64\n",
      "fb_ad_2_reaction_count     14358 non-null float64\n",
      "fb_ad_3_reaction_count     15109 non-null float64\n",
      "fb_ad_4_reaction_count     15690 non-null float64\n",
      "fb_ad_5_reaction_count     15895 non-null float64\n",
      "fb_ad_6_reaction_count     16148 non-null float64\n",
      "fb_ad_7_reaction_count     16319 non-null float64\n",
      "fb_ad_8_reaction_count     16118 non-null float64\n",
      "fb_ad_9_reaction_count     16232 non-null float64\n",
      "fb_ad_10_reaction_count    16482 non-null float64\n",
      "fb_ad_11_reaction_count    16672 non-null float64\n",
      "fb_ad_12_reaction_count    16566 non-null float64\n",
      "fb_ad_13_reaction_count    16265 non-null float64\n",
      "fb_ad_14_reaction_count    16049 non-null float64\n",
      "fb_ad_15_reaction_count    15934 non-null float64\n",
      "fb_ad_0_share_count        8602 non-null float64\n",
      "fb_ad_1_share_count        13307 non-null float64\n",
      "fb_ad_2_share_count        14358 non-null float64\n",
      "fb_ad_3_share_count        15109 non-null float64\n",
      "fb_ad_4_share_count        15690 non-null float64\n",
      "fb_ad_5_share_count        15895 non-null float64\n",
      "fb_ad_6_share_count        16148 non-null float64\n",
      "fb_ad_7_share_count        16319 non-null float64\n",
      "fb_ad_8_share_count        16118 non-null float64\n",
      "fb_ad_9_share_count        16232 non-null float64\n",
      "fb_ad_10_share_count       16482 non-null float64\n",
      "fb_ad_11_share_count       16672 non-null float64\n",
      "fb_ad_12_share_count       16566 non-null float64\n",
      "fb_ad_13_share_count       16265 non-null float64\n",
      "fb_ad_14_share_count       16049 non-null float64\n",
      "fb_ad_15_share_count       15934 non-null float64\n",
      "fb_popularity_ad_0         18967 non-null float64\n",
      "fb_popularity_ad_1         18967 non-null float64\n",
      "fb_popularity_ad_2         18967 non-null float64\n",
      "fb_popularity_ad_3         18967 non-null float64\n",
      "fb_popularity_ad_4         18967 non-null float64\n",
      "fb_popularity_ad_5         18967 non-null float64\n",
      "fb_popularity_ad_6         18967 non-null float64\n",
      "fb_popularity_ad_7         18967 non-null float64\n",
      "fb_popularity_ad_8         18967 non-null float64\n",
      "fb_popularity_ad_9         18967 non-null float64\n",
      "fb_popularity_ad_10        18967 non-null float64\n",
      "fb_popularity_ad_11        18967 non-null float64\n",
      "fb_popularity_ad_12        18967 non-null float64\n",
      "fb_popularity_ad_13        18967 non-null float64\n",
      "fb_popularity_ad_14        18967 non-null float64\n",
      "fb_popularity_ad_15        18967 non-null float64\n",
      "dtypes: datetime64[ns](2), float64(64), int64(10), object(10)\n",
      "memory usage: 12.6+ MB\n"
     ]
    }
   ],
   "source": [
    "df.info()"
   ]
  },
  {
   "cell_type": "code",
   "execution_count": 54,
   "metadata": {},
   "outputs": [
    {
     "data": {
      "text/plain": [
       "<matplotlib.axes._subplots.AxesSubplot at 0x250fff8a748>"
      ]
     },
     "execution_count": 54,
     "metadata": {},
     "output_type": "execute_result"
    },
    {
     "data": {
      "image/png": "[encoded data removed]",
      "text/plain": [
       "<Figure size 432x288 with 1 Axes>"
      ]
     },
     "metadata": {
      "needs_background": "light"
     },
     "output_type": "display_data"
    }
   ],
   "source": [
    "sns.countplot(x='source_is_reliable', data=df)"
   ]
  },
  {
   "cell_type": "code",
   "execution_count": 55,
   "metadata": {},
   "outputs": [
    {
     "name": "stdout",
     "output_type": "stream",
     "text": [
      "d=0\ttotal=18967\tNaN_count = 10365\tNotNaN_count = 8602\n",
      "d=1\ttotal=18967\tNaN_count = 5660\tNotNaN_count = 13307\n",
      "d=2\ttotal=18967\tNaN_count = 4609\tNotNaN_count = 14358\n",
      "d=3\ttotal=18967\tNaN_count = 3858\tNotNaN_count = 15109\n",
      "d=4\ttotal=18967\tNaN_count = 3277\tNotNaN_count = 15690\n",
      "d=5\ttotal=18967\tNaN_count = 3072\tNotNaN_count = 15895\n",
      "d=6\ttotal=18967\tNaN_count = 2819\tNotNaN_count = 16148\n",
      "d=7\ttotal=18967\tNaN_count = 2648\tNotNaN_count = 16319\n",
      "d=8\ttotal=18967\tNaN_count = 2849\tNotNaN_count = 16118\n",
      "d=9\ttotal=18967\tNaN_count = 2735\tNotNaN_count = 16232\n",
      "d=10\ttotal=18967\tNaN_count = 2485\tNotNaN_count = 16482\n",
      "d=11\ttotal=18967\tNaN_count = 2295\tNotNaN_count = 16672\n",
      "d=12\ttotal=18967\tNaN_count = 2401\tNotNaN_count = 16566\n",
      "d=13\ttotal=18967\tNaN_count = 2702\tNotNaN_count = 16265\n",
      "d=14\ttotal=18967\tNaN_count = 2918\tNotNaN_count = 16049\n",
      "d=15\ttotal=18967\tNaN_count = 3033\tNotNaN_count = 15934\n"
     ]
    }
   ],
   "source": [
    "for i in range(0, DAYS_AFTER_POP_CUTOUT + 1):\n",
    "    col = f'fb_ad_{i}_share_count' \n",
    "    \n",
    "    nan_cnt = df[col].isna().sum()\n",
    "    not_nan_cnt = df[col].notna().sum()\n",
    "    \n",
    "    print(f'd={i}\\ttotal={df[col].size}\\tNaN_count = {nan_cnt}\\tNotNaN_count = {not_nan_cnt}')"
   ]
  },
  {
   "cell_type": "code",
   "execution_count": 57,
   "metadata": {},
   "outputs": [
    {
     "data": {
      "text/plain": [
       "naturalnews.com                  2716\n",
       "medicinenet.com                  1886\n",
       "statnews.com                     1336\n",
       "nytimes.com                      1225\n",
       "medicaldaily.com                 1172\n",
       "latimes.com                      1048\n",
       "foxnews.com                      1047\n",
       "themindunleashed.com              989\n",
       "neurosciencenews.com              983\n",
       "webmd.com                         818\n",
       "thenewsdoctors.com                621\n",
       "healthnutnews.com                 500\n",
       "healthy-holistic-living.com       469\n",
       "healthcentral.com                 435\n",
       "emedicinehealth.com               343\n",
       "medicalnewstoday.com              298\n",
       "ageofautism.com                   256\n",
       "healthimpactnews.com              214\n",
       "realfarmacy.com                   208\n",
       "organicfacts.net                  203\n",
       "consciouslifenews.com             195\n",
       "hsionline.com                     193\n",
       "who.int                           187\n",
       "naturalhealth365.com              186\n",
       "infowars.com                      180\n",
       "collective-evolution.com          143\n",
       "allianceforadvancedhealth.com     113\n",
       "vaxopedia.org                      96\n",
       "vaccineimpact.com                  91\n",
       "iheartintelligence.com             70\n",
       "medicalkidnap.com                  65\n",
       "healthadvocate.com                 62\n",
       "medlineplus.gov                    56\n",
       "lifespa.com                        54\n",
       "thetruthaboutcancer.com            53\n",
       "cancer.gov                         46\n",
       "wakeup-world.com                   42\n",
       "vaxxter.com                        42\n",
       "althealthworks.com                 42\n",
       "cancer.org                         38\n",
       "youngwomenshealth.org              37\n",
       "educateinspirechange.org           35\n",
       "healthline.com                     27\n",
       "naturalnewsblogs.com               26\n",
       "sciencebasedmedicine.org           21\n",
       "genuinehealth.com                  18\n",
       "naturalcures.com                   16\n",
       "thesacredscience.com               14\n",
       "kellybroganmd.com                   9\n",
       "thinkingmomsrevolution.com          9\n",
       "naturalsociety.com                  8\n",
       "lifeandhealth.org                   8\n",
       "justhealthyway.com                  6\n",
       "coconutoil.com                      5\n",
       "foodbabe.com                        4\n",
       "sanevax.org                         3\n",
       "Name: source_name, dtype: int64"
      ]
     },
     "execution_count": 57,
     "metadata": {},
     "output_type": "execute_result"
    }
   ],
   "source": [
    "df.source_name.value_counts()"
   ]
  },
  {
   "cell_type": "code",
   "execution_count": 58,
   "metadata": {},
   "outputs": [
    {
     "data": {
      "text/plain": [
       "1    11161\n",
       "0     7806\n",
       "Name: source_is_reliable, dtype: int64"
      ]
     },
     "execution_count": 58,
     "metadata": {},
     "output_type": "execute_result"
    }
   ],
   "source": [
    "df.source_is_reliable.value_counts()"
   ]
  },
  {
   "cell_type": "markdown",
   "metadata": {},
   "source": [
    "### Save final data"
   ]
  },
  {
   "cell_type": "code",
   "execution_count": 59,
   "metadata": {},
   "outputs": [],
   "source": [
    "save_df(df, 'final_data.pickle')"
   ]
  }
 ],
 "metadata": {
  "kernelspec": {
   "display_name": "Python 3",
   "language": "python",
   "name": "python3"
  },
  "language_info": {
   "codemirror_mode": {
    "name": "ipython",
    "version": 3
   },
   "file_extension": ".py",
   "mimetype": "text/x-python",
   "name": "python",
   "nbconvert_exporter": "python",
   "pygments_lexer": "ipython3",
   "version": "3.7.4"
  }
 },
 "nbformat": 4,
 "nbformat_minor": 4
}
