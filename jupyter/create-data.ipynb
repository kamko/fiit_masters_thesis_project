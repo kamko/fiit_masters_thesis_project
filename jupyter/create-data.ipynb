{
 "cells": [
  {
   "cell_type": "code",
   "execution_count": 1,
   "metadata": {},
   "outputs": [],
   "source": [
    "import sys\n",
    "\n",
    "import importlib\n",
    "import numpy as np\n",
    "import pandas as pd\n",
    "import seaborn as sns\n",
    "import matplotlib.pyplot as plt\n",
    "import sqlalchemy\n",
    "import logging\n",
    "\n",
    "import common\n",
    "import util\n",
    "importlib.reload(common)\n",
    "importlib.reload(util)\n",
    "\n",
    "from common import create_engine\n",
    "from common import display_all\n",
    "from common import figsize\n",
    "from common import save_df, load_df\n",
    "from common import save_session, load_session\n",
    "\n",
    "from util import show_importances\n",
    "from util import split_X_y_all, split_X_y, split_data\n",
    "from util import empty_features, column_feature, str_contains\n",
    "\n",
    "from pbar import Pbar\n",
    "\n",
    "from pandas.plotting import register_matplotlib_converters\n",
    "\n",
    "register_matplotlib_converters() # converters e.g. for datetime in plots\n",
    "logging.basicConfig(format='%(asctime)s : %(levelname)s : %(message)s', level=logging.INFO)"
   ]
  },
  {
   "cell_type": "code",
   "execution_count": 2,
   "metadata": {},
   "outputs": [],
   "source": [
    "engine = create_engine('db-conf.json', 'local')\n",
    "pd.sql = lambda sql: pd.read_sql(sqlalchemy.text(sql), con=engine)"
   ]
  },
  {
   "cell_type": "markdown",
   "metadata": {},
   "source": [
    "Vytvorenie materialized views kvoli obmedzeniu datovej mnoziny"
   ]
  },
  {
   "cell_type": "code",
   "execution_count": 3,
   "metadata": {},
   "outputs": [],
   "source": [
    "REFRESH_MVIEWS = False"
   ]
  },
  {
   "cell_type": "code",
   "execution_count": 4,
   "metadata": {},
   "outputs": [],
   "source": [
    "mviews_queries = [\n",
    "    # iba clanky z monitorov v kategoriach 'english' a 'medical' + publikovane po 'zaciatok-monitoringu'\n",
    "    '''\n",
    "    DROP MATERIALIZED VIEW IF EXISTS new_articles CASCADE;\n",
    "    CREATE MATERIALIZED VIEW new_articles AS (\n",
    "    SELECT *\n",
    "    FROM article\n",
    "    WHERE monitor_id in (1, 4, 5, 7, 8, 9, 10)\n",
    "      AND published_at >= '2019-10-21 00:00:00.000000');\n",
    "    ''',\n",
    "    \n",
    "    # maximalne id pozorovania pre danu kombinaciu (url, datum)\n",
    "    '''\n",
    "    DROP MATERIALIZED VIEW IF EXISTS article_fb_engagement_per_day CASCADE;\n",
    "    CREATE MATERIALIZED VIEW article_fb_engagement_per_day AS (\n",
    "    SELECT max(id) last_id_on_day, related_object_url as url, extracted_at::date as sync_on_day\n",
    "    FROM feedback_facebook\n",
    "    GROUP BY url, sync_on_day);\n",
    "    ''',\n",
    "    \n",
    "    # fb popularita + url + rozdiel medzi datumom publikovania a datumom ziskania dat z FB\n",
    "    '''\n",
    "    DROP MATERIALIZED VIEW IF EXISTS new_articles_fb_engagement CASCADE;\n",
    "    CREATE MATERIALIZED VIEW new_articles_fb_engagement AS (\n",
    "    SELECT fb.id,\n",
    "           fb.related_object_url                     as url,\n",
    "           fb.reaction_count,\n",
    "           fb.comment_count,\n",
    "           fb.share_count,\n",
    "           fb.comment_plugin_count,\n",
    "           afepd.sync_on_day,\n",
    "           na.published_at,\n",
    "           afepd.sync_on_day - na.published_at::date as days_after_publication\n",
    "    FROM article_fb_engagement_per_day afepd\n",
    "             JOIN feedback_facebook fb ON fb.id = afepd.last_id_on_day\n",
    "             JOIN new_articles na ON na.url = afepd.url);\n",
    "    '''\n",
    "]\n",
    "\n",
    "if REFRESH_MVIEWS:\n",
    "    with engine.connect() as connection:\n",
    "        for q in mviews_queries:\n",
    "            connection.execute(q)"
   ]
  },
  {
   "cell_type": "code",
   "execution_count": 5,
   "metadata": {},
   "outputs": [],
   "source": [
    "main_view = '''\n",
    "CREATE OR REPLACE VIEW main_articles_view AS\n",
    "SELECT a.id,\n",
    "       a.url,\n",
    "       title,\n",
    "       perex,\n",
    "       body,\n",
    "       raw_body,\n",
    "       a.published_at,\n",
    "       extracted_at,\n",
    "       category,\n",
    "       other_info,\n",
    "       coalesce(imgc.cnt, 0)            as image_count,\n",
    "       coalesce(vidc.cnt, 0)            as video_count,\n",
    "       aut.name                         as author_name,\n",
    "       s.id                             as source_id,\n",
    "       s.name                           as source_name,\n",
    "       s.url                            as source_url,\n",
    "       stype                            as source_type,\n",
    "       is_reliable::integer             as source_is_reliable,\n",
    "       av.veracity                      as av_veracity,\n",
    "       coalesce(claims_false, 0)        as av_claims_false,\n",
    "       coalesce(claims_mostly_false, 0) as av_claims_mostly_false,\n",
    "       coalesce(claims_mixture, 0)      as av_claims_mixture,\n",
    "       coalesce(claims_mostly_true, 0)  as av_claims_mostly_true,\n",
    "       coalesce(claims_true, 0)         as av_claims_true,\n",
    "       coalesce(av.claims_unknown, 0)   as av_claims_unknown\n",
    "FROM new_articles a\n",
    "         JOIN source s on a.source_id = s.id\n",
    "         JOIN author aut on a.author_id = aut.id\n",
    "         LEFT JOIN (SELECT article_id, count(*) as cnt\n",
    "                    FROM media\n",
    "                    WHERE media_type = 'image'\n",
    "                    GROUP BY article_id) imgc ON a.id = imgc.article_id\n",
    "         LEFT JOIN (SELECT article_id, count(*) as cnt\n",
    "                    FROM media\n",
    "                    WHERE media_type = 'video'\n",
    "                    GROUP BY article_id) vidc ON a.id = vidc.article_id\n",
    "         LEFT JOIN article_veracity av on a.id = av.article_id\n",
    "WHERE s.is_reliable IS NOT NULL;\n",
    "'''\n",
    "with engine.connect() as connection:\n",
    "     connection.execute(main_view)"
   ]
  },
  {
   "cell_type": "code",
   "execution_count": 6,
   "metadata": {},
   "outputs": [],
   "source": [
    "# - obsah clanku (+meta)\n",
    "# - meno autora\n",
    "# - pocet obrazkov / videii\n",
    "# - pocet claimov\n",
    "# - veracity (podla claimov)\n",
    "# - zdroj (nazov, url)\n",
    "# - anotacia doveryhodnosti zdroja\n",
    "\n",
    "df = pd.sql('SELECT * FROM main_articles_view;')"
   ]
  },
  {
   "cell_type": "code",
   "execution_count": 7,
   "metadata": {},
   "outputs": [
    {
     "name": "stdout",
     "output_type": "stream",
     "text": [
      "<class 'pandas.core.frame.DataFrame'>\n",
      "RangeIndex: 24200 entries, 0 to 24199\n",
      "Data columns (total 25 columns):\n",
      " #   Column                  Non-Null Count  Dtype         \n",
      "---  ------                  --------------  -----         \n",
      " 0   id                      24200 non-null  int64         \n",
      " 1   url                     24200 non-null  object        \n",
      " 2   title                   24200 non-null  object        \n",
      " 3   perex                   18922 non-null  object        \n",
      " 4   body                    24166 non-null  object        \n",
      " 5   raw_body                24198 non-null  object        \n",
      " 6   published_at            24200 non-null  datetime64[ns]\n",
      " 7   extracted_at            24200 non-null  datetime64[ns]\n",
      " 8   category                16624 non-null  object        \n",
      " 9   other_info              24195 non-null  object        \n",
      " 10  image_count             24200 non-null  int64         \n",
      " 11  video_count             24200 non-null  int64         \n",
      " 12  author_name             24200 non-null  object        \n",
      " 13  source_id               24200 non-null  int64         \n",
      " 14  source_name             24200 non-null  object        \n",
      " 15  source_url              24200 non-null  object        \n",
      " 16  source_type             24200 non-null  object        \n",
      " 17  source_is_reliable      24200 non-null  int64         \n",
      " 18  av_veracity             4628 non-null   object        \n",
      " 19  av_claims_false         24200 non-null  int64         \n",
      " 20  av_claims_mostly_false  24200 non-null  int64         \n",
      " 21  av_claims_mixture       24200 non-null  int64         \n",
      " 22  av_claims_mostly_true   24200 non-null  int64         \n",
      " 23  av_claims_true          24200 non-null  int64         \n",
      " 24  av_claims_unknown       24200 non-null  int64         \n",
      "dtypes: datetime64[ns](2), int64(11), object(12)\n",
      "memory usage: 4.6+ MB\n"
     ]
    }
   ],
   "source": [
    "df.info()"
   ]
  },
  {
   "cell_type": "code",
   "execution_count": 8,
   "metadata": {},
   "outputs": [],
   "source": [
    "# url, popularita na fb, rozdiel sync - publikovanie (max 30 dni)\n",
    "\n",
    "DAYS_AFTER_POP_CUTOUT = 10\n",
    "\n",
    "fb = pd.sql(f'''\n",
    "\n",
    "SELECT url,\n",
    "       reaction_count,\n",
    "       share_count,\n",
    "       comment_count,\n",
    "       comment_plugin_count,\n",
    "       sync_on_day,\n",
    "       days_after_publication\n",
    "FROM new_articles_fb_engagement\n",
    "WHERE days_after_publication BETWEEN 0 AND {DAYS_AFTER_POP_CUTOUT}\n",
    "AND url in (SELECT url FROM main_articles_view);\n",
    "''')"
   ]
  },
  {
   "cell_type": "code",
   "execution_count": 9,
   "metadata": {},
   "outputs": [],
   "source": [
    "assert fb.days_after_publication.max() <= DAYS_AFTER_POP_CUTOUT"
   ]
  },
  {
   "cell_type": "code",
   "execution_count": 10,
   "metadata": {},
   "outputs": [
    {
     "name": "stdout",
     "output_type": "stream",
     "text": [
      "<class 'pandas.core.frame.DataFrame'>\n",
      "RangeIndex: 169027 entries, 0 to 169026\n",
      "Data columns (total 7 columns):\n",
      " #   Column                  Non-Null Count   Dtype \n",
      "---  ------                  --------------   ----- \n",
      " 0   url                     169027 non-null  object\n",
      " 1   reaction_count          169027 non-null  int64 \n",
      " 2   share_count             169027 non-null  int64 \n",
      " 3   comment_count           169027 non-null  int64 \n",
      " 4   comment_plugin_count    169027 non-null  int64 \n",
      " 5   sync_on_day             169027 non-null  object\n",
      " 6   days_after_publication  169027 non-null  int64 \n",
      "dtypes: int64(5), object(2)\n",
      "memory usage: 9.0+ MB\n"
     ]
    }
   ],
   "source": [
    "fb.info()"
   ]
  },
  {
   "cell_type": "code",
   "execution_count": 11,
   "metadata": {},
   "outputs": [],
   "source": [
    "def append_popularity_columns(df, fb):\n",
    "    df = df.copy()\n",
    "    fb = fb.copy()\n",
    "    \n",
    "    cols = [\n",
    "        'url',\n",
    "        'days_after_publication',\n",
    "        'reaction_count',\n",
    "        'share_count',\n",
    "        'comment_count'\n",
    "    ] \n",
    "    \n",
    "    fb = fb[cols].pivot_table(index='url',\n",
    "                         columns='days_after_publication')\n",
    "    fb.columns = [f'fb_ad_{j}_{i}' for i,j in fb.columns.values]\n",
    "    \n",
    "    df = df.query(\"url in @fb.index\")\n",
    "    df = pd.concat((df.set_index('url'), fb), axis=1, join='inner')\n",
    "    return df.set_index('id')"
   ]
  },
  {
   "cell_type": "code",
   "execution_count": 12,
   "metadata": {},
   "outputs": [],
   "source": [
    "def append_fb_pop_sum(df):\n",
    "    df = df.copy()\n",
    "    for i in range(0, DAYS_AFTER_POP_CUTOUT + 1):\n",
    "        cols = [\n",
    "            f'fb_ad_{i}_comment_count',\n",
    "            f'fb_ad_{i}_share_count',\n",
    "            f'fb_ad_{i}_reaction_count'\n",
    "        ]\n",
    "        df[f'fb_popularity_ad_{i}'] = df[cols].apply(np.sum, axis=1)\n",
    "    return df"
   ]
  },
  {
   "cell_type": "code",
   "execution_count": 13,
   "metadata": {},
   "outputs": [
    {
     "name": "stderr",
     "output_type": "stream",
     "text": [
      "2020-05-06 17:38:54,619 : INFO : Note: NumExpr detected 12 cores but \"NUMEXPR_MAX_THREADS\" not set, so enforcing safe limit of 8.\n",
      "2020-05-06 17:38:54,620 : INFO : NumExpr defaulting to 8 threads.\n"
     ]
    }
   ],
   "source": [
    "xdf = append_popularity_columns(df, fb)\n",
    "xdf = append_fb_pop_sum(xdf)\n",
    "\n",
    "df = xdf"
   ]
  },
  {
   "cell_type": "code",
   "execution_count": 14,
   "metadata": {},
   "outputs": [
    {
     "name": "stdout",
     "output_type": "stream",
     "text": [
      "<class 'pandas.core.frame.DataFrame'>\n",
      "Int64Index: 18635 entries, 431065 to 812426\n",
      "Data columns (total 67 columns):\n",
      " #   Column                   Non-Null Count  Dtype         \n",
      "---  ------                   --------------  -----         \n",
      " 0   title                    18635 non-null  object        \n",
      " 1   perex                    15047 non-null  object        \n",
      " 2   body                     18605 non-null  object        \n",
      " 3   raw_body                 18634 non-null  object        \n",
      " 4   published_at             18635 non-null  datetime64[ns]\n",
      " 5   extracted_at             18635 non-null  datetime64[ns]\n",
      " 6   category                 13051 non-null  object        \n",
      " 7   other_info               18631 non-null  object        \n",
      " 8   image_count              18635 non-null  int64         \n",
      " 9   video_count              18635 non-null  int64         \n",
      " 10  author_name              18635 non-null  object        \n",
      " 11  source_id                18635 non-null  int64         \n",
      " 12  source_name              18635 non-null  object        \n",
      " 13  source_url               18635 non-null  object        \n",
      " 14  source_type              18635 non-null  object        \n",
      " 15  source_is_reliable       18635 non-null  int64         \n",
      " 16  av_veracity              3758 non-null   object        \n",
      " 17  av_claims_false          18635 non-null  int64         \n",
      " 18  av_claims_mostly_false   18635 non-null  int64         \n",
      " 19  av_claims_mixture        18635 non-null  int64         \n",
      " 20  av_claims_mostly_true    18635 non-null  int64         \n",
      " 21  av_claims_true           18635 non-null  int64         \n",
      " 22  av_claims_unknown        18635 non-null  int64         \n",
      " 23  fb_ad_0_comment_count    9352 non-null   float64       \n",
      " 24  fb_ad_1_comment_count    14291 non-null  float64       \n",
      " 25  fb_ad_2_comment_count    15254 non-null  float64       \n",
      " 26  fb_ad_3_comment_count    15876 non-null  float64       \n",
      " 27  fb_ad_4_comment_count    16291 non-null  float64       \n",
      " 28  fb_ad_5_comment_count    16463 non-null  float64       \n",
      " 29  fb_ad_6_comment_count    16491 non-null  float64       \n",
      " 30  fb_ad_7_comment_count    16411 non-null  float64       \n",
      " 31  fb_ad_8_comment_count    16089 non-null  float64       \n",
      " 32  fb_ad_9_comment_count    16141 non-null  float64       \n",
      " 33  fb_ad_10_comment_count   16368 non-null  float64       \n",
      " 34  fb_ad_0_reaction_count   9352 non-null   float64       \n",
      " 35  fb_ad_1_reaction_count   14291 non-null  float64       \n",
      " 36  fb_ad_2_reaction_count   15254 non-null  float64       \n",
      " 37  fb_ad_3_reaction_count   15876 non-null  float64       \n",
      " 38  fb_ad_4_reaction_count   16291 non-null  float64       \n",
      " 39  fb_ad_5_reaction_count   16463 non-null  float64       \n",
      " 40  fb_ad_6_reaction_count   16491 non-null  float64       \n",
      " 41  fb_ad_7_reaction_count   16411 non-null  float64       \n",
      " 42  fb_ad_8_reaction_count   16089 non-null  float64       \n",
      " 43  fb_ad_9_reaction_count   16141 non-null  float64       \n",
      " 44  fb_ad_10_reaction_count  16368 non-null  float64       \n",
      " 45  fb_ad_0_share_count      9352 non-null   float64       \n",
      " 46  fb_ad_1_share_count      14291 non-null  float64       \n",
      " 47  fb_ad_2_share_count      15254 non-null  float64       \n",
      " 48  fb_ad_3_share_count      15876 non-null  float64       \n",
      " 49  fb_ad_4_share_count      16291 non-null  float64       \n",
      " 50  fb_ad_5_share_count      16463 non-null  float64       \n",
      " 51  fb_ad_6_share_count      16491 non-null  float64       \n",
      " 52  fb_ad_7_share_count      16411 non-null  float64       \n",
      " 53  fb_ad_8_share_count      16089 non-null  float64       \n",
      " 54  fb_ad_9_share_count      16141 non-null  float64       \n",
      " 55  fb_ad_10_share_count     16368 non-null  float64       \n",
      " 56  fb_popularity_ad_0       18635 non-null  float64       \n",
      " 57  fb_popularity_ad_1       18635 non-null  float64       \n",
      " 58  fb_popularity_ad_2       18635 non-null  float64       \n",
      " 59  fb_popularity_ad_3       18635 non-null  float64       \n",
      " 60  fb_popularity_ad_4       18635 non-null  float64       \n",
      " 61  fb_popularity_ad_5       18635 non-null  float64       \n",
      " 62  fb_popularity_ad_6       18635 non-null  float64       \n",
      " 63  fb_popularity_ad_7       18635 non-null  float64       \n",
      " 64  fb_popularity_ad_8       18635 non-null  float64       \n",
      " 65  fb_popularity_ad_9       18635 non-null  float64       \n",
      " 66  fb_popularity_ad_10      18635 non-null  float64       \n",
      "dtypes: datetime64[ns](2), float64(44), int64(10), object(11)\n",
      "memory usage: 9.7+ MB\n"
     ]
    }
   ],
   "source": [
    "df.info()"
   ]
  },
  {
   "cell_type": "code",
   "execution_count": 15,
   "metadata": {},
   "outputs": [
    {
     "data": {
      "text/plain": [
       "<matplotlib.axes._subplots.AxesSubplot at 0x1ee64e47b88>"
      ]
     },
     "execution_count": 15,
     "metadata": {},
     "output_type": "execute_result"
    },
    {
     "data": {
      "image/png": "[encoded data removed]",
      "text/plain": [
       "<Figure size 432x288 with 1 Axes>"
      ]
     },
     "metadata": {
      "needs_background": "light"
     },
     "output_type": "display_data"
    }
   ],
   "source": [
    "sns.countplot(x='source_is_reliable', data=df)"
   ]
  },
  {
   "cell_type": "code",
   "execution_count": 37,
   "metadata": {},
   "outputs": [
    {
     "data": {
      "text/plain": [
       "1    9068\n",
       "0    6390\n",
       "Name: source_is_reliable, dtype: int64"
      ]
     },
     "execution_count": 37,
     "metadata": {},
     "output_type": "execute_result"
    }
   ],
   "source": [
    "df.source_is_reliable.value_counts()"
   ]
  },
  {
   "cell_type": "code",
   "execution_count": 38,
   "metadata": {},
   "outputs": [
    {
     "name": "stdout",
     "output_type": "stream",
     "text": [
      "0.5866218139474706\n"
     ]
    }
   ],
   "source": [
    "print(9068 / (9068 + 6390))"
   ]
  },
  {
   "cell_type": "code",
   "execution_count": 39,
   "metadata": {},
   "outputs": [
    {
     "name": "stdout",
     "output_type": "stream",
     "text": [
      "0.41337818605252946\n"
     ]
    }
   ],
   "source": [
    "print(6390 / (9068 + 6390))"
   ]
  },
  {
   "cell_type": "code",
   "execution_count": 16,
   "metadata": {},
   "outputs": [
    {
     "name": "stdout",
     "output_type": "stream",
     "text": [
      "d=0\ttotal=18635\tNaN_count = 9283\tNotNaN_count = 9352\n",
      "d=1\ttotal=18635\tNaN_count = 4344\tNotNaN_count = 14291\n",
      "d=2\ttotal=18635\tNaN_count = 3381\tNotNaN_count = 15254\n",
      "d=3\ttotal=18635\tNaN_count = 2759\tNotNaN_count = 15876\n",
      "d=4\ttotal=18635\tNaN_count = 2344\tNotNaN_count = 16291\n",
      "d=5\ttotal=18635\tNaN_count = 2172\tNotNaN_count = 16463\n",
      "d=6\ttotal=18635\tNaN_count = 2144\tNotNaN_count = 16491\n",
      "d=7\ttotal=18635\tNaN_count = 2224\tNotNaN_count = 16411\n",
      "d=8\ttotal=18635\tNaN_count = 2546\tNotNaN_count = 16089\n",
      "d=9\ttotal=18635\tNaN_count = 2494\tNotNaN_count = 16141\n",
      "d=10\ttotal=18635\tNaN_count = 2267\tNotNaN_count = 16368\n"
     ]
    }
   ],
   "source": [
    "for i in range(0, DAYS_AFTER_POP_CUTOUT + 1):\n",
    "    col = f'fb_ad_{i}_reaction_count'\n",
    "    \n",
    "    nan_cnt = df[col].isna().sum()\n",
    "    not_nan_cnt = df[col].notna().sum()\n",
    "    \n",
    "    print(f'd={i}\\ttotal={df[col].size}\\tNaN_count = {nan_cnt}\\tNotNaN_count = {not_nan_cnt}')"
   ]
  },
  {
   "cell_type": "code",
   "execution_count": 17,
   "metadata": {},
   "outputs": [],
   "source": [
    "from sklearn.impute import KNNImputer"
   ]
  },
  {
   "cell_type": "code",
   "execution_count": 18,
   "metadata": {},
   "outputs": [],
   "source": [
    "reactions = [f'fb_ad_{i}_reaction_count' for i in range(0, DAYS_AFTER_POP_CUTOUT + 1)]\n",
    "comments = [f'fb_ad_{i}_comment_count' for i in range(0, DAYS_AFTER_POP_CUTOUT + 1)]\n",
    "shares = [f'fb_ad_{i}_share_count' for i in range(0, DAYS_AFTER_POP_CUTOUT + 1)]\n",
    "popularity = [f'fb_popularity_ad_{i}' for i in range(0, DAYS_AFTER_POP_CUTOUT + 1)]\n",
    "\n",
    "def knn_input(df, cols):\n",
    "    imputer = KNNImputer()\n",
    "    return imputer.fit_transform(df[cols])  \n",
    "\n",
    "df[reactions] = knn_input(df, reactions)\n",
    "df[comments] = knn_input(df, comments)\n",
    "df[shares] = knn_input(df, shares)"
   ]
  },
  {
   "cell_type": "code",
   "execution_count": 19,
   "metadata": {},
   "outputs": [],
   "source": [
    "for r,c,s,p in zip(reactions, comments, shares, popularity):\n",
    "    df[p] = df[r] + df[c] + df[s]"
   ]
  },
  {
   "cell_type": "code",
   "execution_count": 20,
   "metadata": {},
   "outputs": [],
   "source": [
    "df[popularity] = df[popularity].round()"
   ]
  },
  {
   "cell_type": "code",
   "execution_count": 21,
   "metadata": {},
   "outputs": [
    {
     "name": "stdout",
     "output_type": "stream",
     "text": [
      "d=0\ttotal=18635\tNaN_count = 0\tNotNaN_count = 18635\n",
      "d=1\ttotal=18635\tNaN_count = 0\tNotNaN_count = 18635\n",
      "d=2\ttotal=18635\tNaN_count = 0\tNotNaN_count = 18635\n",
      "d=3\ttotal=18635\tNaN_count = 0\tNotNaN_count = 18635\n",
      "d=4\ttotal=18635\tNaN_count = 0\tNotNaN_count = 18635\n",
      "d=5\ttotal=18635\tNaN_count = 0\tNotNaN_count = 18635\n",
      "d=6\ttotal=18635\tNaN_count = 0\tNotNaN_count = 18635\n",
      "d=7\ttotal=18635\tNaN_count = 0\tNotNaN_count = 18635\n",
      "d=8\ttotal=18635\tNaN_count = 0\tNotNaN_count = 18635\n",
      "d=9\ttotal=18635\tNaN_count = 0\tNotNaN_count = 18635\n",
      "d=10\ttotal=18635\tNaN_count = 0\tNotNaN_count = 18635\n"
     ]
    }
   ],
   "source": [
    "for i in range(0, DAYS_AFTER_POP_CUTOUT + 1):\n",
    "    col = f'fb_ad_{i}_reaction_count'\n",
    "    \n",
    "    nan_cnt = df[col].isna().sum()\n",
    "    not_nan_cnt = df[col].notna().sum()\n",
    "    \n",
    "    print(f'd={i}\\ttotal={df[col].size}\\tNaN_count = {nan_cnt}\\tNotNaN_count = {not_nan_cnt}')"
   ]
  },
  {
   "cell_type": "code",
   "execution_count": 22,
   "metadata": {},
   "outputs": [
    {
     "data": {
      "text/plain": [
       "naturalnews.com                  2307\n",
       "medicinenet.com                  1860\n",
       "statnews.com                     1285\n",
       "medicaldaily.com                 1275\n",
       "latimes.com                      1259\n",
       "nytimes.com                      1219\n",
       "foxnews.com                      1091\n",
       "neurosciencenews.com              979\n",
       "themindunleashed.com              963\n",
       "webmd.com                         801\n",
       "thenewsdoctors.com                655\n",
       "healthy-holistic-living.com       481\n",
       "healthnutnews.com                 441\n",
       "healthcentral.com                 438\n",
       "emedicinehealth.com               350\n",
       "ageofautism.com                   241\n",
       "medicalnewstoday.com              237\n",
       "realfarmacy.com                   221\n",
       "healthimpactnews.com              211\n",
       "who.int                           201\n",
       "organicfacts.net                  192\n",
       "hsionline.com                     191\n",
       "consciouslifenews.com             186\n",
       "infowars.com                      179\n",
       "naturalhealth365.com              176\n",
       "collective-evolution.com          133\n",
       "allianceforadvancedhealth.com     111\n",
       "vaccineimpact.com                  93\n",
       "vaxopedia.org                      82\n",
       "iheartintelligence.com             82\n",
       "medicalkidnap.com                  59\n",
       "medlineplus.gov                    56\n",
       "healthadvocate.com                 56\n",
       "lifespa.com                        52\n",
       "thetruthaboutcancer.com            50\n",
       "cancer.gov                         43\n",
       "althealthworks.com                 42\n",
       "wakeup-world.com                   41\n",
       "youngwomenshealth.org              40\n",
       "vaxxter.com                        38\n",
       "educateinspirechange.org           34\n",
       "naturalnewsblogs.com               26\n",
       "healthline.com                     25\n",
       "cancer.org                         25\n",
       "naturalcures.com                   17\n",
       "genuinehealth.com                  17\n",
       "sciencebasedmedicine.org           14\n",
       "thesacredscience.com               14\n",
       "kellybroganmd.com                   9\n",
       "thinkingmomsrevolution.com          8\n",
       "naturalsociety.com                  8\n",
       "lifeandhealth.org                   6\n",
       "justhealthyway.com                  5\n",
       "coconutoil.com                      4\n",
       "sanevax.org                         3\n",
       "foodbabe.com                        3\n",
       "Name: source_name, dtype: int64"
      ]
     },
     "execution_count": 22,
     "metadata": {},
     "output_type": "execute_result"
    }
   ],
   "source": [
    "df.source_name.value_counts()"
   ]
  },
  {
   "cell_type": "code",
   "execution_count": 23,
   "metadata": {},
   "outputs": [
    {
     "data": {
      "text/plain": [
       "1    11336\n",
       "0     7299\n",
       "Name: source_is_reliable, dtype: int64"
      ]
     },
     "execution_count": 23,
     "metadata": {},
     "output_type": "execute_result"
    }
   ],
   "source": [
    "df.source_is_reliable.value_counts()"
   ]
  },
  {
   "cell_type": "code",
   "execution_count": 24,
   "metadata": {},
   "outputs": [],
   "source": [
    "from bs4 import BeautifulSoup\n",
    "import re\n",
    "import unicodedata\n",
    "\n",
    "def clear_text(text):\n",
    "    if text is None:\n",
    "        return ''\n",
    "\n",
    "    text = BeautifulSoup(text, features='html.parser').text\n",
    "    text = text.lower()\n",
    "    text = text.replace('\\r', '')\n",
    "    text = text.replace('\\n', ' ')\n",
    "    text = unicodedata.normalize('NFKD', text)\n",
    "\n",
    "    return text\n",
    "\n",
    "def clear_column(df, column):\n",
    "    df[column] = df[column].apply(clear_text)\n",
    "\n",
    "def clear_columns(df, columns):\n",
    "    pbar_conf = {\n",
    "        'refresh_rate': 1,\n",
    "        'action_names': columns\n",
    "    }\n",
    "        \n",
    "    for c in Pbar(columns, **pbar_conf):\n",
    "        clear_column(df, c)"
   ]
  },
  {
   "cell_type": "code",
   "execution_count": 25,
   "metadata": {},
   "outputs": [
    {
     "name": "stdout",
     "output_type": "stream",
     "text": [
      "[==================================================] -- 3 / 3 -- (finished)2 / 33\n"
     ]
    }
   ],
   "source": [
    "clear_columns(df, ['title', 'perex', 'body'])"
   ]
  },
  {
   "cell_type": "code",
   "execution_count": 26,
   "metadata": {},
   "outputs": [],
   "source": [
    "# drop rows without body\n",
    "df = df[~df.body.isnull()]\n",
    "df = df[~df.raw_body.isnull()]\n",
    "df = df[~df.title.isnull()]\n",
    "df = df[df.body.str.len() > 0]"
   ]
  },
  {
   "cell_type": "code",
   "execution_count": 27,
   "metadata": {},
   "outputs": [],
   "source": [
    "# remove short articles (e.g. ending at paywall)\n",
    "df = df[df.body.str.len() > 6 * 250]"
   ]
  },
  {
   "cell_type": "code",
   "execution_count": 28,
   "metadata": {},
   "outputs": [],
   "source": [
    "df['body'] = df.perex + df.body"
   ]
  },
  {
   "cell_type": "code",
   "execution_count": 29,
   "metadata": {},
   "outputs": [],
   "source": [
    "def extract_urls(text):\n",
    "    soup = BeautifulSoup(text, features='html.parser')\n",
    "    \n",
    "    tags = soup.find_all('a')\n",
    "    \n",
    "    return list(set([tag for tag in map(lambda x: x.get('href'), tags) if tag is not None]))\n",
    "\n",
    "def remove_urls(text, urls):\n",
    "    for u in urls:\n",
    "        text = re.sub(re.escape(u), '', text, flags=re.IGNORECASE)\n",
    "    \n",
    "    return text"
   ]
  },
  {
   "cell_type": "code",
   "execution_count": 30,
   "metadata": {},
   "outputs": [],
   "source": [
    "df['body_urls'] = df.raw_body.apply(extract_urls)\n",
    "df['body'] = df.apply(lambda r: remove_urls(r.body, r.body_urls), axis=1)"
   ]
  },
  {
   "cell_type": "code",
   "execution_count": 31,
   "metadata": {},
   "outputs": [
    {
     "data": {
      "text/plain": [
       "naturalnews.com                  2301\n",
       "medicinenet.com                  1607\n",
       "medicaldaily.com                 1273\n",
       "latimes.com                      1141\n",
       "foxnews.com                       962\n",
       "neurosciencenews.com              957\n",
       "themindunleashed.com              956\n",
       "statnews.com                      753\n",
       "webmd.com                         642\n",
       "nytimes.com                       589\n",
       "healthy-holistic-living.com       481\n",
       "healthnutnews.com                 392\n",
       "medicalnewstoday.com              235\n",
       "healthcentral.com                 231\n",
       "emedicinehealth.com               230\n",
       "healthimpactnews.com              206\n",
       "organicfacts.net                  192\n",
       "realfarmacy.com                   182\n",
       "naturalhealth365.com              176\n",
       "who.int                           172\n",
       "ageofautism.com                   171\n",
       "hsionline.com                     171\n",
       "consciouslifenews.com             170\n",
       "infowars.com                      157\n",
       "collective-evolution.com          133\n",
       "allianceforadvancedhealth.com     107\n",
       "vaccineimpact.com                  88\n",
       "iheartintelligence.com             81\n",
       "vaxopedia.org                      78\n",
       "medicalkidnap.com                  57\n",
       "lifespa.com                        51\n",
       "thetruthaboutcancer.com            48\n",
       "healthadvocate.com                 47\n",
       "althealthworks.com                 42\n",
       "cancer.gov                         39\n",
       "wakeup-world.com                   38\n",
       "vaxxter.com                        38\n",
       "medlineplus.gov                    36\n",
       "educateinspirechange.org           31\n",
       "naturalnewsblogs.com               26\n",
       "cancer.org                         24\n",
       "healthline.com                     21\n",
       "genuinehealth.com                  17\n",
       "naturalcures.com                   17\n",
       "youngwomenshealth.org              17\n",
       "sciencebasedmedicine.org           14\n",
       "thesacredscience.com               13\n",
       "thinkingmomsrevolution.com          8\n",
       "kellybroganmd.com                   8\n",
       "naturalsociety.com                  8\n",
       "lifeandhealth.org                   6\n",
       "thenewsdoctors.com                  5\n",
       "coconutoil.com                      4\n",
       "sanevax.org                         3\n",
       "foodbabe.com                        3\n",
       "justhealthyway.com                  3\n",
       "Name: source_name, dtype: int64"
      ]
     },
     "execution_count": 31,
     "metadata": {},
     "output_type": "execute_result"
    }
   ],
   "source": [
    "df.source_name.value_counts()"
   ]
  },
  {
   "cell_type": "markdown",
   "metadata": {},
   "source": [
    "### Save final data"
   ]
  },
  {
   "cell_type": "code",
   "execution_count": 32,
   "metadata": {},
   "outputs": [],
   "source": [
    "save_df(df, 'final_data.pickle')"
   ]
  }
 ],
 "metadata": {
  "kernelspec": {
   "display_name": "Python 3",
   "language": "python",
   "name": "python3"
  },
  "language_info": {
   "codemirror_mode": {
    "name": "ipython",
    "version": 3
   },
   "file_extension": ".py",
   "mimetype": "text/x-python",
   "name": "python",
   "nbconvert_exporter": "python",
   "pygments_lexer": "ipython3",
   "version": "3.7.6"
  }
 },
 "nbformat": 4,
 "nbformat_minor": 4
}
