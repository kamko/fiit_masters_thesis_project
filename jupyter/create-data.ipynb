{
 "cells": [
  {
   "cell_type": "code",
   "execution_count": 1,
   "metadata": {},
   "outputs": [],
   "source": [
    "import sys\n",
    "\n",
    "import importlib\n",
    "import numpy as np\n",
    "import pandas as pd\n",
    "import seaborn as sns\n",
    "import matplotlib.pyplot as plt\n",
    "import sqlalchemy\n",
    "import logging\n",
    "\n",
    "import common\n",
    "import util\n",
    "importlib.reload(common)\n",
    "importlib.reload(util)\n",
    "\n",
    "from common import create_engine\n",
    "from common import display_all\n",
    "from common import figsize\n",
    "from common import save_df, load_df\n",
    "from common import save_session, load_session\n",
    "\n",
    "from util import show_importances\n",
    "from util import split_X_y_all, split_X_y, split_data\n",
    "from util import empty_features, column_feature, str_contains\n",
    "\n",
    "from pbar import Pbar\n",
    "\n",
    "from pandas.plotting import register_matplotlib_converters\n",
    "\n",
    "register_matplotlib_converters() # converters e.g. for datetime in plots\n",
    "logging.basicConfig(format='%(asctime)s : %(levelname)s : %(message)s', level=logging.INFO)"
   ]
  },
  {
   "cell_type": "code",
   "execution_count": 2,
   "metadata": {},
   "outputs": [],
   "source": [
    "engine = create_engine('db-conf.json', 'local')\n",
    "pd.sql = lambda sql: pd.read_sql(sqlalchemy.text(sql), con=engine)"
   ]
  },
  {
   "cell_type": "markdown",
   "metadata": {},
   "source": [
    "Vytvorenie materialized views kvoli obmedzeniu datovej mnoziny"
   ]
  },
  {
   "cell_type": "code",
   "execution_count": 3,
   "metadata": {},
   "outputs": [],
   "source": [
    "REFRESH_MVIEWS = False"
   ]
  },
  {
   "cell_type": "code",
   "execution_count": 5,
   "metadata": {},
   "outputs": [],
   "source": [
    "mviews_queries = [\n",
    "    # iba clanky z monitorov v kategoriach 'english' a 'medical' + publikovane po 'zaciatok-monitoringu' - 4 dni\n",
    "    '''\n",
    "    DROP MATERIALIZED VIEW IF EXISTS new_articles CASCADE;\n",
    "    CREATE MATERIALIZED VIEW new_articles AS (\n",
    "    SELECT *\n",
    "    FROM article\n",
    "    WHERE monitor_id in (1, 4, 5, 7, 8, 9, 10)\n",
    "      AND published_at >= '2019-10-10 00:00:00.000000');\n",
    "    ''',\n",
    "    \n",
    "    # maximalne id pozorovania pre danu kombinaciu (url, datum)\n",
    "    '''\n",
    "    DROP MATERIALIZED VIEW IF EXISTS article_fb_engagement_per_day CASCADE;\n",
    "    CREATE MATERIALIZED VIEW article_fb_engagement_per_day AS (\n",
    "    SELECT max(id) last_id_on_day, related_object_url as url, extracted_at::date as sync_on_day\n",
    "    FROM feedback_facebook\n",
    "    GROUP BY url, sync_on_day);\n",
    "    ''',\n",
    "    \n",
    "    # fb popularita + url + rozdiel medzi datumom publikovania a datumom ziskania dat z FB\n",
    "    '''\n",
    "    DROP MATERIALIZED VIEW IF EXISTS new_articles_fb_engagement CASCADE;\n",
    "    CREATE MATERIALIZED VIEW new_articles_fb_engagement AS (\n",
    "    SELECT fb.id,\n",
    "           fb.related_object_url                     as url,\n",
    "           fb.reaction_count,\n",
    "           fb.comment_count,\n",
    "           fb.share_count,\n",
    "           fb.comment_plugin_count,\n",
    "           afepd.sync_on_day,\n",
    "           na.published_at,\n",
    "           afepd.sync_on_day - na.published_at::date as days_after_publication\n",
    "    FROM article_fb_engagement_per_day afepd\n",
    "             JOIN feedback_facebook fb ON fb.id = afepd.last_id_on_day\n",
    "             JOIN new_articles na ON na.url = afepd.url);\n",
    "    '''\n",
    "]\n",
    "\n",
    "if REFRESH_MVIEWS:\n",
    "    with engine.connect() as connection:\n",
    "        for q in mviews_queries:\n",
    "            connection.execute(q)"
   ]
  },
  {
   "cell_type": "code",
   "execution_count": 6,
   "metadata": {},
   "outputs": [],
   "source": [
    "main_view = '''\n",
    "CREATE OR REPLACE VIEW main_articles_view AS\n",
    "SELECT a.id,\n",
    "       a.url,\n",
    "       title,\n",
    "       perex,\n",
    "       body,\n",
    "       raw_body,\n",
    "       a.published_at,\n",
    "       extracted_at,\n",
    "       category,\n",
    "       other_info,\n",
    "       coalesce(imgc.cnt, 0)            as image_count,\n",
    "       coalesce(vidc.cnt, 0)            as video_count,\n",
    "       aut.name                         as author_name,\n",
    "       s.id                             as source_id,\n",
    "       s.name                           as source_name,\n",
    "       s.url                            as source_url,\n",
    "       stype                            as source_type,\n",
    "       is_reliable::integer             as source_is_reliable,\n",
    "       av.veracity                      as av_veracity,\n",
    "       coalesce(claims_false, 0)        as av_claims_false,\n",
    "       coalesce(claims_mostly_false, 0) as av_claims_mostly_false,\n",
    "       coalesce(claims_mixture, 0)      as av_claims_mixture,\n",
    "       coalesce(claims_mostly_true, 0)  as av_claims_mostly_true,\n",
    "       coalesce(claims_true, 0)         as av_claims_true,\n",
    "       coalesce(av.claims_unknown, 0)   as av_claims_unknown\n",
    "FROM new_articles a\n",
    "         JOIN source s on a.source_id = s.id\n",
    "         JOIN author aut on a.author_id = aut.id\n",
    "         LEFT JOIN (SELECT article_id, count(*) as cnt\n",
    "                    FROM media\n",
    "                    WHERE media_type = 'image'\n",
    "                    GROUP BY article_id) imgc ON a.id = imgc.article_id\n",
    "         LEFT JOIN (SELECT article_id, count(*) as cnt\n",
    "                    FROM media\n",
    "                    WHERE media_type = 'video'\n",
    "                    GROUP BY article_id) vidc ON a.id = vidc.article_id\n",
    "         LEFT JOIN article_veracity av on a.id = av.article_id\n",
    "WHERE s.is_reliable IS NOT NULL;\n",
    "'''\n",
    "with engine.connect() as connection:\n",
    "     connection.execute(main_view)"
   ]
  },
  {
   "cell_type": "code",
   "execution_count": 7,
   "metadata": {},
   "outputs": [],
   "source": [
    "# - obsah clanku (+meta)\n",
    "# - meno autora\n",
    "# - pocet obrazkov / videii\n",
    "# - pocet claimov\n",
    "# - veracity (podla claimov)\n",
    "# - zdroj (nazov, url)\n",
    "# - anotacia doveryhodnosti zdroja\n",
    "\n",
    "df = pd.sql('SELECT * FROM main_articles_view;')"
   ]
  },
  {
   "cell_type": "code",
   "execution_count": 8,
   "metadata": {},
   "outputs": [
    {
     "name": "stdout",
     "output_type": "stream",
     "text": [
      "<class 'pandas.core.frame.DataFrame'>\n",
      "RangeIndex: 25079 entries, 0 to 25078\n",
      "Data columns (total 25 columns):\n",
      " #   Column                  Non-Null Count  Dtype         \n",
      "---  ------                  --------------  -----         \n",
      " 0   id                      25079 non-null  int64         \n",
      " 1   url                     25079 non-null  object        \n",
      " 2   title                   25079 non-null  object        \n",
      " 3   perex                   19589 non-null  object        \n",
      " 4   body                    25045 non-null  object        \n",
      " 5   raw_body                25077 non-null  object        \n",
      " 6   published_at            25079 non-null  datetime64[ns]\n",
      " 7   extracted_at            25079 non-null  datetime64[ns]\n",
      " 8   category                17017 non-null  object        \n",
      " 9   other_info              25074 non-null  object        \n",
      " 10  image_count             25079 non-null  int64         \n",
      " 11  video_count             25079 non-null  int64         \n",
      " 12  author_name             25079 non-null  object        \n",
      " 13  source_id               25079 non-null  int64         \n",
      " 14  source_name             25079 non-null  object        \n",
      " 15  source_url              25079 non-null  object        \n",
      " 16  source_type             25079 non-null  object        \n",
      " 17  source_is_reliable      25079 non-null  int64         \n",
      " 18  av_veracity             4916 non-null   object        \n",
      " 19  av_claims_false         25079 non-null  int64         \n",
      " 20  av_claims_mostly_false  25079 non-null  int64         \n",
      " 21  av_claims_mixture       25079 non-null  int64         \n",
      " 22  av_claims_mostly_true   25079 non-null  int64         \n",
      " 23  av_claims_true          25079 non-null  int64         \n",
      " 24  av_claims_unknown       25079 non-null  int64         \n",
      "dtypes: datetime64[ns](2), int64(11), object(12)\n",
      "memory usage: 4.8+ MB\n"
     ]
    }
   ],
   "source": [
    "df.info()"
   ]
  },
  {
   "cell_type": "code",
   "execution_count": 9,
   "metadata": {},
   "outputs": [],
   "source": [
    "# url, popularita na fb, rozdiel sync - publikovanie (max 30 dni)\n",
    "\n",
    "DAYS_AFTER_POP_CUTOUT = 15\n",
    "\n",
    "fb = pd.sql(f'''\n",
    "\n",
    "SELECT url,\n",
    "       reaction_count,\n",
    "       share_count,\n",
    "       comment_count,\n",
    "       comment_plugin_count,\n",
    "       sync_on_day,\n",
    "       days_after_publication\n",
    "FROM new_articles_fb_engagement\n",
    "WHERE days_after_publication BETWEEN 0 AND {DAYS_AFTER_POP_CUTOUT}\n",
    "AND url in (SELECT url FROM main_articles_view);\n",
    "''')"
   ]
  },
  {
   "cell_type": "code",
   "execution_count": 10,
   "metadata": {},
   "outputs": [],
   "source": [
    "assert fb.days_after_publication.max() <= DAYS_AFTER_POP_CUTOUT"
   ]
  },
  {
   "cell_type": "code",
   "execution_count": 11,
   "metadata": {},
   "outputs": [
    {
     "name": "stdout",
     "output_type": "stream",
     "text": [
      "<class 'pandas.core.frame.DataFrame'>\n",
      "RangeIndex: 251653 entries, 0 to 251652\n",
      "Data columns (total 7 columns):\n",
      " #   Column                  Non-Null Count   Dtype \n",
      "---  ------                  --------------   ----- \n",
      " 0   url                     251653 non-null  object\n",
      " 1   reaction_count          251653 non-null  int64 \n",
      " 2   share_count             251653 non-null  int64 \n",
      " 3   comment_count           251653 non-null  int64 \n",
      " 4   comment_plugin_count    251653 non-null  int64 \n",
      " 5   sync_on_day             251653 non-null  object\n",
      " 6   days_after_publication  251653 non-null  int64 \n",
      "dtypes: int64(5), object(2)\n",
      "memory usage: 13.4+ MB\n"
     ]
    }
   ],
   "source": [
    "fb.info()"
   ]
  },
  {
   "cell_type": "code",
   "execution_count": 12,
   "metadata": {},
   "outputs": [],
   "source": [
    "def append_popularity_columns(df, fb):\n",
    "    df = df.copy()\n",
    "    fb = fb.copy()\n",
    "    \n",
    "    cols = [\n",
    "        'url',\n",
    "        'days_after_publication',\n",
    "        'reaction_count',\n",
    "        'share_count',\n",
    "        'comment_count'\n",
    "    ] \n",
    "    \n",
    "    fb = fb[cols].pivot_table(index='url',\n",
    "                         columns='days_after_publication')\n",
    "    fb.columns = [f'fb_ad_{j}_{i}' for i,j in fb.columns.values]\n",
    "    \n",
    "    df = df.query(\"url in @fb.index\")\n",
    "    df = pd.concat((df.set_index('url'), fb), axis=1, join='inner')\n",
    "    return df.set_index('id')"
   ]
  },
  {
   "cell_type": "code",
   "execution_count": 13,
   "metadata": {},
   "outputs": [],
   "source": [
    "def append_fb_pop_sum(df):\n",
    "    df = df.copy()\n",
    "    for i in range(0, DAYS_AFTER_POP_CUTOUT + 1):\n",
    "        cols = [\n",
    "            f'fb_ad_{i}_comment_count',\n",
    "            f'fb_ad_{i}_share_count',\n",
    "            f'fb_ad_{i}_reaction_count'\n",
    "        ]\n",
    "        df[f'fb_popularity_ad_{i}'] = df[cols].apply(np.sum, axis=1)\n",
    "    return df"
   ]
  },
  {
   "cell_type": "code",
   "execution_count": 14,
   "metadata": {},
   "outputs": [
    {
     "name": "stderr",
     "output_type": "stream",
     "text": [
      "2020-05-04 21:20:14,877 : INFO : Note: NumExpr detected 12 cores but \"NUMEXPR_MAX_THREADS\" not set, so enforcing safe limit of 8.\n",
      "2020-05-04 21:20:14,878 : INFO : NumExpr defaulting to 8 threads.\n"
     ]
    }
   ],
   "source": [
    "xdf = append_popularity_columns(df, fb)\n",
    "xdf = append_fb_pop_sum(xdf)\n",
    "\n",
    "df = xdf"
   ]
  },
  {
   "cell_type": "code",
   "execution_count": 15,
   "metadata": {},
   "outputs": [
    {
     "name": "stdout",
     "output_type": "stream",
     "text": [
      "<class 'pandas.core.frame.DataFrame'>\n",
      "Int64Index: 20280 entries, 428781 to 812426\n",
      "Data columns (total 87 columns):\n",
      " #   Column                   Non-Null Count  Dtype         \n",
      "---  ------                   --------------  -----         \n",
      " 0   title                    20280 non-null  object        \n",
      " 1   perex                    16137 non-null  object        \n",
      " 2   body                     20246 non-null  object        \n",
      " 3   raw_body                 20279 non-null  object        \n",
      " 4   published_at             20280 non-null  datetime64[ns]\n",
      " 5   extracted_at             20280 non-null  datetime64[ns]\n",
      " 6   category                 13716 non-null  object        \n",
      " 7   other_info               20276 non-null  object        \n",
      " 8   image_count              20280 non-null  int64         \n",
      " 9   video_count              20280 non-null  int64         \n",
      " 10  author_name              20280 non-null  object        \n",
      " 11  source_id                20280 non-null  int64         \n",
      " 12  source_name              20280 non-null  object        \n",
      " 13  source_url               20280 non-null  object        \n",
      " 14  source_type              20280 non-null  object        \n",
      " 15  source_is_reliable       20280 non-null  int64         \n",
      " 16  av_veracity              4254 non-null   object        \n",
      " 17  av_claims_false          20280 non-null  int64         \n",
      " 18  av_claims_mostly_false   20280 non-null  int64         \n",
      " 19  av_claims_mixture        20280 non-null  int64         \n",
      " 20  av_claims_mostly_true    20280 non-null  int64         \n",
      " 21  av_claims_true           20280 non-null  int64         \n",
      " 22  av_claims_unknown        20280 non-null  int64         \n",
      " 23  fb_ad_0_comment_count    9389 non-null   float64       \n",
      " 24  fb_ad_1_comment_count    14407 non-null  float64       \n",
      " 25  fb_ad_2_comment_count    15363 non-null  float64       \n",
      " 26  fb_ad_3_comment_count    16059 non-null  float64       \n",
      " 27  fb_ad_4_comment_count    16531 non-null  float64       \n",
      " 28  fb_ad_5_comment_count    16527 non-null  float64       \n",
      " 29  fb_ad_6_comment_count    16534 non-null  float64       \n",
      " 30  fb_ad_7_comment_count    16476 non-null  float64       \n",
      " 31  fb_ad_8_comment_count    16163 non-null  float64       \n",
      " 32  fb_ad_9_comment_count    16232 non-null  float64       \n",
      " 33  fb_ad_10_comment_count   16482 non-null  float64       \n",
      " 34  fb_ad_11_comment_count   16673 non-null  float64       \n",
      " 35  fb_ad_12_comment_count   16567 non-null  float64       \n",
      " 36  fb_ad_13_comment_count   16266 non-null  float64       \n",
      " 37  fb_ad_14_comment_count   16050 non-null  float64       \n",
      " 38  fb_ad_15_comment_count   15934 non-null  float64       \n",
      " 39  fb_ad_0_reaction_count   9389 non-null   float64       \n",
      " 40  fb_ad_1_reaction_count   14407 non-null  float64       \n",
      " 41  fb_ad_2_reaction_count   15363 non-null  float64       \n",
      " 42  fb_ad_3_reaction_count   16059 non-null  float64       \n",
      " 43  fb_ad_4_reaction_count   16531 non-null  float64       \n",
      " 44  fb_ad_5_reaction_count   16527 non-null  float64       \n",
      " 45  fb_ad_6_reaction_count   16534 non-null  float64       \n",
      " 46  fb_ad_7_reaction_count   16476 non-null  float64       \n",
      " 47  fb_ad_8_reaction_count   16163 non-null  float64       \n",
      " 48  fb_ad_9_reaction_count   16232 non-null  float64       \n",
      " 49  fb_ad_10_reaction_count  16482 non-null  float64       \n",
      " 50  fb_ad_11_reaction_count  16673 non-null  float64       \n",
      " 51  fb_ad_12_reaction_count  16567 non-null  float64       \n",
      " 52  fb_ad_13_reaction_count  16266 non-null  float64       \n",
      " 53  fb_ad_14_reaction_count  16050 non-null  float64       \n",
      " 54  fb_ad_15_reaction_count  15934 non-null  float64       \n",
      " 55  fb_ad_0_share_count      9389 non-null   float64       \n",
      " 56  fb_ad_1_share_count      14407 non-null  float64       \n",
      " 57  fb_ad_2_share_count      15363 non-null  float64       \n",
      " 58  fb_ad_3_share_count      16059 non-null  float64       \n",
      " 59  fb_ad_4_share_count      16531 non-null  float64       \n",
      " 60  fb_ad_5_share_count      16527 non-null  float64       \n",
      " 61  fb_ad_6_share_count      16534 non-null  float64       \n",
      " 62  fb_ad_7_share_count      16476 non-null  float64       \n",
      " 63  fb_ad_8_share_count      16163 non-null  float64       \n",
      " 64  fb_ad_9_share_count      16232 non-null  float64       \n",
      " 65  fb_ad_10_share_count     16482 non-null  float64       \n",
      " 66  fb_ad_11_share_count     16673 non-null  float64       \n",
      " 67  fb_ad_12_share_count     16567 non-null  float64       \n",
      " 68  fb_ad_13_share_count     16266 non-null  float64       \n",
      " 69  fb_ad_14_share_count     16050 non-null  float64       \n",
      " 70  fb_ad_15_share_count     15934 non-null  float64       \n",
      " 71  fb_popularity_ad_0       20280 non-null  float64       \n",
      " 72  fb_popularity_ad_1       20280 non-null  float64       \n",
      " 73  fb_popularity_ad_2       20280 non-null  float64       \n",
      " 74  fb_popularity_ad_3       20280 non-null  float64       \n",
      " 75  fb_popularity_ad_4       20280 non-null  float64       \n",
      " 76  fb_popularity_ad_5       20280 non-null  float64       \n",
      " 77  fb_popularity_ad_6       20280 non-null  float64       \n",
      " 78  fb_popularity_ad_7       20280 non-null  float64       \n",
      " 79  fb_popularity_ad_8       20280 non-null  float64       \n",
      " 80  fb_popularity_ad_9       20280 non-null  float64       \n",
      " 81  fb_popularity_ad_10      20280 non-null  float64       \n",
      " 82  fb_popularity_ad_11      20280 non-null  float64       \n",
      " 83  fb_popularity_ad_12      20280 non-null  float64       \n",
      " 84  fb_popularity_ad_13      20280 non-null  float64       \n",
      " 85  fb_popularity_ad_14      20280 non-null  float64       \n",
      " 86  fb_popularity_ad_15      20280 non-null  float64       \n",
      "dtypes: datetime64[ns](2), float64(64), int64(10), object(11)\n",
      "memory usage: 13.6+ MB\n"
     ]
    }
   ],
   "source": [
    "df.info()"
   ]
  },
  {
   "cell_type": "code",
   "execution_count": 16,
   "metadata": {},
   "outputs": [
    {
     "data": {
      "text/plain": [
       "<matplotlib.axes._subplots.AxesSubplot at 0x1d01bc90588>"
      ]
     },
     "execution_count": 16,
     "metadata": {},
     "output_type": "execute_result"
    },
    {
     "data": {
      "image/png": "[encoded data removed]",
      "text/plain": [
       "<Figure size 432x288 with 1 Axes>"
      ]
     },
     "metadata": {
      "needs_background": "light"
     },
     "output_type": "display_data"
    }
   ],
   "source": [
    "sns.countplot(x='source_is_reliable', data=df)"
   ]
  },
  {
   "cell_type": "code",
   "execution_count": 17,
   "metadata": {},
   "outputs": [
    {
     "name": "stdout",
     "output_type": "stream",
     "text": [
      "d=0\ttotal=20280\tNaN_count = 10891\tNotNaN_count = 9389\n",
      "d=1\ttotal=20280\tNaN_count = 5873\tNotNaN_count = 14407\n",
      "d=2\ttotal=20280\tNaN_count = 4917\tNotNaN_count = 15363\n",
      "d=3\ttotal=20280\tNaN_count = 4221\tNotNaN_count = 16059\n",
      "d=4\ttotal=20280\tNaN_count = 3749\tNotNaN_count = 16531\n",
      "d=5\ttotal=20280\tNaN_count = 3753\tNotNaN_count = 16527\n",
      "d=6\ttotal=20280\tNaN_count = 3746\tNotNaN_count = 16534\n",
      "d=7\ttotal=20280\tNaN_count = 3804\tNotNaN_count = 16476\n",
      "d=8\ttotal=20280\tNaN_count = 4117\tNotNaN_count = 16163\n",
      "d=9\ttotal=20280\tNaN_count = 4048\tNotNaN_count = 16232\n",
      "d=10\ttotal=20280\tNaN_count = 3798\tNotNaN_count = 16482\n",
      "d=11\ttotal=20280\tNaN_count = 3607\tNotNaN_count = 16673\n",
      "d=12\ttotal=20280\tNaN_count = 3713\tNotNaN_count = 16567\n",
      "d=13\ttotal=20280\tNaN_count = 4014\tNotNaN_count = 16266\n",
      "d=14\ttotal=20280\tNaN_count = 4230\tNotNaN_count = 16050\n",
      "d=15\ttotal=20280\tNaN_count = 4346\tNotNaN_count = 15934\n"
     ]
    }
   ],
   "source": [
    "for i in range(0, DAYS_AFTER_POP_CUTOUT + 1):\n",
    "    col = f'fb_ad_{i}_share_count' \n",
    "    \n",
    "    nan_cnt = df[col].isna().sum()\n",
    "    not_nan_cnt = df[col].notna().sum()\n",
    "    \n",
    "    print(f'd={i}\\ttotal={df[col].size}\\tNaN_count = {nan_cnt}\\tNotNaN_count = {not_nan_cnt}')"
   ]
  },
  {
   "cell_type": "code",
   "execution_count": 18,
   "metadata": {},
   "outputs": [
    {
     "data": {
      "text/plain": [
       "naturalnews.com                  2858\n",
       "medicinenet.com                  2007\n",
       "statnews.com                     1394\n",
       "nytimes.com                      1315\n",
       "latimes.com                      1281\n",
       "medicaldaily.com                 1279\n",
       "foxnews.com                      1122\n",
       "themindunleashed.com             1041\n",
       "neurosciencenews.com             1035\n",
       "webmd.com                         876\n",
       "thenewsdoctors.com                696\n",
       "healthnutnews.com                 501\n",
       "healthy-holistic-living.com       500\n",
       "healthcentral.com                 451\n",
       "emedicinehealth.com               358\n",
       "medicalnewstoday.com              298\n",
       "ageofautism.com                   264\n",
       "healthimpactnews.com              230\n",
       "realfarmacy.com                   225\n",
       "organicfacts.net                  213\n",
       "consciouslifenews.com             207\n",
       "hsionline.com                     206\n",
       "who.int                           204\n",
       "naturalhealth365.com              195\n",
       "infowars.com                      193\n",
       "collective-evolution.com          145\n",
       "allianceforadvancedhealth.com     119\n",
       "vaccineimpact.com                 101\n",
       "vaxopedia.org                      98\n",
       "iheartintelligence.com             88\n",
       "medicalkidnap.com                  67\n",
       "healthadvocate.com                 65\n",
       "lifespa.com                        57\n",
       "medlineplus.gov                    56\n",
       "thetruthaboutcancer.com            54\n",
       "cancer.gov                         47\n",
       "wakeup-world.com                   45\n",
       "althealthworks.com                 44\n",
       "vaxxter.com                        44\n",
       "youngwomenshealth.org              42\n",
       "cancer.org                         42\n",
       "educateinspirechange.org           35\n",
       "naturalnewsblogs.com               29\n",
       "healthline.com                     27\n",
       "sciencebasedmedicine.org           21\n",
       "genuinehealth.com                  19\n",
       "naturalcures.com                   17\n",
       "thesacredscience.com               16\n",
       "kellybroganmd.com                  10\n",
       "thinkingmomsrevolution.com          9\n",
       "naturalsociety.com                  8\n",
       "lifeandhealth.org                   8\n",
       "justhealthyway.com                  6\n",
       "coconutoil.com                      5\n",
       "foodbabe.com                        4\n",
       "sanevax.org                         3\n",
       "Name: source_name, dtype: int64"
      ]
     },
     "execution_count": 18,
     "metadata": {},
     "output_type": "execute_result"
    }
   ],
   "source": [
    "df.source_name.value_counts()"
   ]
  },
  {
   "cell_type": "code",
   "execution_count": 19,
   "metadata": {},
   "outputs": [
    {
     "data": {
      "text/plain": [
       "1    12018\n",
       "0     8262\n",
       "Name: source_is_reliable, dtype: int64"
      ]
     },
     "execution_count": 19,
     "metadata": {},
     "output_type": "execute_result"
    }
   ],
   "source": [
    "df.source_is_reliable.value_counts()"
   ]
  },
  {
   "cell_type": "code",
   "execution_count": 20,
   "metadata": {},
   "outputs": [],
   "source": [
    "from bs4 import BeautifulSoup\n",
    "import re\n",
    "import unicodedata\n",
    "\n",
    "def clear_text(text):\n",
    "    if text is None:\n",
    "        return ''\n",
    "\n",
    "    text = BeautifulSoup(text, features='html.parser').text\n",
    "    text = text.lower()\n",
    "    text = text.replace('\\r', '')\n",
    "    text = text.replace('\\n', ' ')\n",
    "    text = unicodedata.normalize('NFKD', text)\n",
    "\n",
    "    return text\n",
    "\n",
    "def clear_column(df, column):\n",
    "    df[column] = df[column].apply(clear_text)\n",
    "\n",
    "def clear_columns(df, columns):\n",
    "    pbar_conf = {\n",
    "        'refresh_rate': 1,\n",
    "        'action_names': columns\n",
    "    }\n",
    "        \n",
    "    for c in Pbar(columns, **pbar_conf):\n",
    "        clear_column(df, c)"
   ]
  },
  {
   "cell_type": "code",
   "execution_count": 21,
   "metadata": {},
   "outputs": [
    {
     "name": "stdout",
     "output_type": "stream",
     "text": [
      "[==================================================] -- 3 / 3 -- (finished)2 / 33\n"
     ]
    }
   ],
   "source": [
    "clear_columns(df, ['title', 'perex', 'body'])"
   ]
  },
  {
   "cell_type": "code",
   "execution_count": 22,
   "metadata": {},
   "outputs": [],
   "source": [
    "# drop rows without body\n",
    "df = df[~df.body.isnull()]\n",
    "df = df[~df.raw_body.isnull()]\n",
    "df = df[~df.title.isnull()]\n",
    "df = df[df.body.str.len() > 0]"
   ]
  },
  {
   "cell_type": "code",
   "execution_count": 23,
   "metadata": {},
   "outputs": [],
   "source": [
    "df['body'] = df.perex + df.body"
   ]
  },
  {
   "cell_type": "code",
   "execution_count": 24,
   "metadata": {},
   "outputs": [],
   "source": [
    "def extract_urls(text):\n",
    "    soup = BeautifulSoup(text, features='html.parser')\n",
    "    \n",
    "    tags = soup.find_all('a')\n",
    "    \n",
    "    return list(set([tag for tag in map(lambda x: x.get('href'), tags) if tag is not None]))\n",
    "\n",
    "def remove_urls(text, urls):\n",
    "    for u in urls:\n",
    "        text = re.sub(re.escape(u), '', text, flags=re.IGNORECASE)\n",
    "    \n",
    "    return text"
   ]
  },
  {
   "cell_type": "code",
   "execution_count": 25,
   "metadata": {},
   "outputs": [],
   "source": [
    "df['body_urls'] = df.raw_body.apply(extract_urls)\n",
    "df['body'] = df.apply(lambda r: remove_urls(r.body, r.body_urls), axis=1)"
   ]
  },
  {
   "cell_type": "markdown",
   "metadata": {},
   "source": [
    "### Save final data"
   ]
  },
  {
   "cell_type": "code",
   "execution_count": 26,
   "metadata": {},
   "outputs": [],
   "source": [
    "save_df(df, 'final_data.pickle')"
   ]
  }
 ],
 "metadata": {
  "kernelspec": {
   "display_name": "Python 3",
   "language": "python",
   "name": "python3"
  },
  "language_info": {
   "codemirror_mode": {
    "name": "ipython",
    "version": 3
   },
   "file_extension": ".py",
   "mimetype": "text/x-python",
   "name": "python",
   "nbconvert_exporter": "python",
   "pygments_lexer": "ipython3",
   "version": "3.7.6"
  }
 },
 "nbformat": 4,
 "nbformat_minor": 4
}
