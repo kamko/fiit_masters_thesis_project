{
 "cells": [
  {
   "cell_type": "code",
   "execution_count": 37,
   "metadata": {},
   "outputs": [
    {
     "data": {
      "text/plain": [
       "<module 'common' from 'C:\\\\Users\\\\j\\\\IdeaProjects\\\\fiit_masters_thesis_project\\\\jupyter\\\\common.py'>"
      ]
     },
     "execution_count": 37,
     "metadata": {},
     "output_type": "execute_result"
    }
   ],
   "source": [
    "import importlib\n",
    "\n",
    "import common\n",
    "\n",
    "importlib.reload(common)"
   ]
  },
  {
   "cell_type": "code",
   "execution_count": 38,
   "metadata": {},
   "outputs": [],
   "source": [
    "%matplotlib inline\n",
    "\n",
    "import pandas as pd\n",
    "import seaborn as sns\n",
    "import matplotlib.pyplot as plt\n",
    "import sqlalchemy\n",
    "from common import create_engine, display_all, figsize\n",
    "\n",
    "from pandas.plotting import register_matplotlib_converters\n",
    "register_matplotlib_converters() # converters e.g. for datetime in plots"
   ]
  },
  {
   "cell_type": "code",
   "execution_count": 3,
   "metadata": {},
   "outputs": [],
   "source": [
    "engine = create_engine('db-conf.json', 'dp.kamko.dev')\n",
    "pd.sql = lambda sql: pd.read_sql(sqlalchemy.text(sql), con=engine)"
   ]
  },
  {
   "cell_type": "markdown",
   "metadata": {},
   "source": [
    "Nacitanie dat z db (live data z monant snapshotu)"
   ]
  },
  {
   "cell_type": "code",
   "execution_count": 4,
   "metadata": {},
   "outputs": [],
   "source": [
    "fetch_data_query = '''\n",
    "WITH fb_popularity AS (SELECT sbq.url, sbq.sync_date, sbq.reaction_count, sbq.comment_count, sbq.share_count\n",
    "                       FROM (\n",
    "                                SELECT afe.*, row_number() OVER (PARTITION BY url ORDER BY sync_date) as rn\n",
    "                                FROM article_fb_engagement afe) sbq\n",
    "                       WHERE sbq.rn = 1\n",
    ")\n",
    "SELECT a.id,\n",
    "       a.url,\n",
    "       title,\n",
    "       perex,\n",
    "       body,\n",
    "       published_at,\n",
    "       source_id,\n",
    "       category,\n",
    "       other_info,\n",
    "       s.id           as source_id,\n",
    "       name           as source_name,\n",
    "       stype          as source_type,\n",
    "       is_reliable    as source_is_reliable,\n",
    "       sync_date      as fb_sync_date,\n",
    "       reaction_count as fb_reaction_count,\n",
    "       comment_count  as fb_comment_count,\n",
    "       share_count    as fb_share_count,\n",
    "       (reaction_count + comment_count + share_count) as fb_popularity\n",
    "FROM article a\n",
    "         JOIN source s on a.source_id = s.id\n",
    "         JOIN (SELECT * FROM fb_popularity) p ON a.url = p.url\n",
    "WHERE s.url !~ '(\\.sk$)|(\\.cz$)' -- remove cz/sk sources\n",
    "  AND s.url NOT IN ('https://www.badatel.net', -- cz/sk portals not using cz/sk domain\n",
    "                    'https://www.energiezivota.com',\n",
    "                    'https://vedomec.com')\n",
    "  AND a.published_at IS NOT NULL;\n",
    "'''\n",
    "\n",
    "df = pd.sql(fetch_data_query)"
   ]
  },
  {
   "cell_type": "code",
   "execution_count": 45,
   "metadata": {
    "collapsed": true,
    "jupyter": {
     "outputs_hidden": true
    }
   },
   "outputs": [
    {
     "data": {
      "text/html": [
       "<div>\n",
       "<style scoped>\n",
       "    .dataframe tbody tr th:only-of-type {\n",
       "        vertical-align: middle;\n",
       "    }\n",
       "\n",
       "    .dataframe tbody tr th {\n",
       "        vertical-align: top;\n",
       "    }\n",
       "\n",
       "    .dataframe thead th {\n",
       "        text-align: right;\n",
       "    }\n",
       "</style>\n",
       "<table border=\"1\" class=\"dataframe\">\n",
       "  <thead>\n",
       "    <tr style=\"text-align: right;\">\n",
       "      <th></th>\n",
       "      <th>id</th>\n",
       "      <th>url</th>\n",
       "      <th>title</th>\n",
       "      <th>perex</th>\n",
       "      <th>body</th>\n",
       "      <th>published_at</th>\n",
       "      <th>source_id</th>\n",
       "      <th>category</th>\n",
       "      <th>other_info</th>\n",
       "      <th>source_id</th>\n",
       "      <th>source_name</th>\n",
       "      <th>source_type</th>\n",
       "      <th>source_is_reliable</th>\n",
       "      <th>fb_sync_date</th>\n",
       "      <th>fb_reaction_count</th>\n",
       "      <th>fb_comment_count</th>\n",
       "      <th>fb_share_count</th>\n",
       "      <th>fb_popularity</th>\n",
       "    </tr>\n",
       "  </thead>\n",
       "  <tbody>\n",
       "    <tr>\n",
       "      <td>0</td>\n",
       "      <td>355149</td>\n",
       "      <td>http://blog.healthadvocate.com/2009/12/discove...</td>\n",
       "      <td>Discover Health Advocacy: Coverage for hospita...</td>\n",
       "      <td>&lt;p&gt;We built our company, Health Advocate, Inc....</td>\n",
       "      <td>We built our company, Health Advocate, Inc., t...</td>\n",
       "      <td>2009-12-29 16:22:36</td>\n",
       "      <td>223</td>\n",
       "      <td>Advocacy in Action</td>\n",
       "      <td>{'tags': ['Advocacy', 'Health Advocate', 'Heal...</td>\n",
       "      <td>223</td>\n",
       "      <td>healthadvocate.com</td>\n",
       "      <td>news_website</td>\n",
       "      <td>True</td>\n",
       "      <td>2019-10-14 21:53:23.370152</td>\n",
       "      <td>0</td>\n",
       "      <td>0</td>\n",
       "      <td>0</td>\n",
       "      <td>0</td>\n",
       "    </tr>\n",
       "    <tr>\n",
       "      <td>1</td>\n",
       "      <td>355150</td>\n",
       "      <td>http://blog.healthadvocate.com/2010/01/discove...</td>\n",
       "      <td>Discover Health Advocacy: Comparing medical costs</td>\n",
       "      <td>&lt;p&gt;We built our company, Health Advocate, Inc....</td>\n",
       "      <td>We built our company, Health Advocate, Inc., t...</td>\n",
       "      <td>2010-01-18 16:54:05</td>\n",
       "      <td>223</td>\n",
       "      <td>Advocacy in Action</td>\n",
       "      <td>{'tags': ['Benefits', 'Health Advocacy', 'Heal...</td>\n",
       "      <td>223</td>\n",
       "      <td>healthadvocate.com</td>\n",
       "      <td>news_website</td>\n",
       "      <td>True</td>\n",
       "      <td>2019-10-14 21:53:23.370164</td>\n",
       "      <td>0</td>\n",
       "      <td>0</td>\n",
       "      <td>0</td>\n",
       "      <td>0</td>\n",
       "    </tr>\n",
       "    <tr>\n",
       "      <td>2</td>\n",
       "      <td>355151</td>\n",
       "      <td>http://blog.healthadvocate.com/2010/01/discove...</td>\n",
       "      <td>Discover Health Advocacy: Underinsured patient...</td>\n",
       "      <td>&lt;p&gt;We built our company, Health Advocate, Inc....</td>\n",
       "      <td>We built our company, Health Advocate, Inc., t...</td>\n",
       "      <td>2010-01-29 16:56:15</td>\n",
       "      <td>223</td>\n",
       "      <td>Advocacy in Action</td>\n",
       "      <td>{'tags': ['Health Advocacy', 'Health Advocate'...</td>\n",
       "      <td>223</td>\n",
       "      <td>healthadvocate.com</td>\n",
       "      <td>news_website</td>\n",
       "      <td>True</td>\n",
       "      <td>2019-10-14 21:53:23.370171</td>\n",
       "      <td>0</td>\n",
       "      <td>0</td>\n",
       "      <td>0</td>\n",
       "      <td>0</td>\n",
       "    </tr>\n",
       "    <tr>\n",
       "      <td>3</td>\n",
       "      <td>355152</td>\n",
       "      <td>http://blog.healthadvocate.com/2010/02/discove...</td>\n",
       "      <td>Discover Health Advocacy: Coverage denied for ...</td>\n",
       "      <td>&lt;p&gt;We built our company, Health Advocate, Inc....</td>\n",
       "      <td>We built our company, Health Advocate, Inc., t...</td>\n",
       "      <td>2010-02-04 16:59:52</td>\n",
       "      <td>223</td>\n",
       "      <td>Advocacy in Action</td>\n",
       "      <td>{'tags': ['Health Advocacy', 'Health Advocate'...</td>\n",
       "      <td>223</td>\n",
       "      <td>healthadvocate.com</td>\n",
       "      <td>news_website</td>\n",
       "      <td>True</td>\n",
       "      <td>2019-10-14 21:53:23.370178</td>\n",
       "      <td>0</td>\n",
       "      <td>0</td>\n",
       "      <td>0</td>\n",
       "      <td>0</td>\n",
       "    </tr>\n",
       "    <tr>\n",
       "      <td>4</td>\n",
       "      <td>355153</td>\n",
       "      <td>http://blog.healthadvocate.com/2010/02/discove...</td>\n",
       "      <td>Discover Health Advocacy: Unreasonable balance...</td>\n",
       "      <td>&lt;p&gt;We built our company, Health Advocate, Inc....</td>\n",
       "      <td>We built our company, Health Advocate, Inc., t...</td>\n",
       "      <td>2010-02-10 10:39:36</td>\n",
       "      <td>223</td>\n",
       "      <td>Advocacy in Action</td>\n",
       "      <td>{'tags': ['Health Advocacy', 'Health Advocate'...</td>\n",
       "      <td>223</td>\n",
       "      <td>healthadvocate.com</td>\n",
       "      <td>news_website</td>\n",
       "      <td>True</td>\n",
       "      <td>2019-10-14 21:53:23.370185</td>\n",
       "      <td>0</td>\n",
       "      <td>0</td>\n",
       "      <td>0</td>\n",
       "      <td>0</td>\n",
       "    </tr>\n",
       "  </tbody>\n",
       "</table>\n",
       "</div>"
      ],
      "text/plain": [
       "       id                                                url  \\\n",
       "0  355149  http://blog.healthadvocate.com/2009/12/discove...   \n",
       "1  355150  http://blog.healthadvocate.com/2010/01/discove...   \n",
       "2  355151  http://blog.healthadvocate.com/2010/01/discove...   \n",
       "3  355152  http://blog.healthadvocate.com/2010/02/discove...   \n",
       "4  355153  http://blog.healthadvocate.com/2010/02/discove...   \n",
       "\n",
       "                                               title  \\\n",
       "0  Discover Health Advocacy: Coverage for hospita...   \n",
       "1  Discover Health Advocacy: Comparing medical costs   \n",
       "2  Discover Health Advocacy: Underinsured patient...   \n",
       "3  Discover Health Advocacy: Coverage denied for ...   \n",
       "4  Discover Health Advocacy: Unreasonable balance...   \n",
       "\n",
       "                                               perex  \\\n",
       "0  <p>We built our company, Health Advocate, Inc....   \n",
       "1  <p>We built our company, Health Advocate, Inc....   \n",
       "2  <p>We built our company, Health Advocate, Inc....   \n",
       "3  <p>We built our company, Health Advocate, Inc....   \n",
       "4  <p>We built our company, Health Advocate, Inc....   \n",
       "\n",
       "                                                body        published_at  \\\n",
       "0  We built our company, Health Advocate, Inc., t... 2009-12-29 16:22:36   \n",
       "1  We built our company, Health Advocate, Inc., t... 2010-01-18 16:54:05   \n",
       "2  We built our company, Health Advocate, Inc., t... 2010-01-29 16:56:15   \n",
       "3  We built our company, Health Advocate, Inc., t... 2010-02-04 16:59:52   \n",
       "4  We built our company, Health Advocate, Inc., t... 2010-02-10 10:39:36   \n",
       "\n",
       "   source_id            category  \\\n",
       "0        223  Advocacy in Action   \n",
       "1        223  Advocacy in Action   \n",
       "2        223  Advocacy in Action   \n",
       "3        223  Advocacy in Action   \n",
       "4        223  Advocacy in Action   \n",
       "\n",
       "                                          other_info  source_id  \\\n",
       "0  {'tags': ['Advocacy', 'Health Advocate', 'Heal...        223   \n",
       "1  {'tags': ['Benefits', 'Health Advocacy', 'Heal...        223   \n",
       "2  {'tags': ['Health Advocacy', 'Health Advocate'...        223   \n",
       "3  {'tags': ['Health Advocacy', 'Health Advocate'...        223   \n",
       "4  {'tags': ['Health Advocacy', 'Health Advocate'...        223   \n",
       "\n",
       "          source_name   source_type source_is_reliable  \\\n",
       "0  healthadvocate.com  news_website               True   \n",
       "1  healthadvocate.com  news_website               True   \n",
       "2  healthadvocate.com  news_website               True   \n",
       "3  healthadvocate.com  news_website               True   \n",
       "4  healthadvocate.com  news_website               True   \n",
       "\n",
       "                fb_sync_date  fb_reaction_count  fb_comment_count  \\\n",
       "0 2019-10-14 21:53:23.370152                  0                 0   \n",
       "1 2019-10-14 21:53:23.370164                  0                 0   \n",
       "2 2019-10-14 21:53:23.370171                  0                 0   \n",
       "3 2019-10-14 21:53:23.370178                  0                 0   \n",
       "4 2019-10-14 21:53:23.370185                  0                 0   \n",
       "\n",
       "   fb_share_count  fb_popularity  \n",
       "0               0              0  \n",
       "1               0              0  \n",
       "2               0              0  \n",
       "3               0              0  \n",
       "4               0              0  "
      ]
     },
     "execution_count": 45,
     "metadata": {},
     "output_type": "execute_result"
    }
   ],
   "source": [
    "df.head()"
   ]
  },
  {
   "cell_type": "code",
   "execution_count": 5,
   "metadata": {},
   "outputs": [
    {
     "data": {
      "text/plain": [
       "<matplotlib.axes._subplots.AxesSubplot at 0x11d6195e588>"
      ]
     },
     "execution_count": 5,
     "metadata": {},
     "output_type": "execute_result"
    },
    {
     "data": {
      "image/png": "[encoded data removed]",
      "text/plain": [
       "<Figure size 432x288 with 1 Axes>"
      ]
     },
     "metadata": {
      "needs_background": "light"
     },
     "output_type": "display_data"
    }
   ],
   "source": [
    "sns.countplot(x='source_is_reliable', data=df)"
   ]
  },
  {
   "cell_type": "code",
   "execution_count": 46,
   "metadata": {},
   "outputs": [
    {
     "data": {
      "text/plain": [
       "count     165199.000\n",
       "mean        1078.787\n",
       "std        23826.760\n",
       "min            0.000\n",
       "25%            0.000\n",
       "50%            1.000\n",
       "75%           79.500\n",
       "max      5197586.000\n",
       "Name: fb_popularity, dtype: object"
      ]
     },
     "execution_count": 46,
     "metadata": {},
     "output_type": "execute_result"
    }
   ],
   "source": [
    "df['fb_popularity'].describe().apply(lambda x: '%.3f' % x)"
   ]
  },
  {
   "cell_type": "code",
   "execution_count": 20,
   "metadata": {},
   "outputs": [],
   "source": [
    "published_in_year = df.published_at.apply(lambda x: x.year)\n",
    "published_in_year_month = df.published_at.apply(lambda x: (x.month, x.year))"
   ]
  },
  {
   "cell_type": "code",
   "execution_count": 42,
   "metadata": {},
   "outputs": [
    {
     "data": {
      "image/png": "[encoded data removed]",
      "text/plain": [
       "<Figure size 1440x360 with 1 Axes>"
      ]
     },
     "metadata": {},
     "output_type": "display_data"
    }
   ],
   "source": [
    "with figsize(plt, 20, 5):\n",
    "    sns.countplot(published_in_year)"
   ]
  },
  {
   "cell_type": "code",
   "execution_count": null,
   "metadata": {},
   "outputs": [],
   "source": []
  }
 ],
 "metadata": {
  "kernelspec": {
   "display_name": "Python 3",
   "language": "python",
   "name": "python3"
  },
  "language_info": {
   "codemirror_mode": {
    "name": "ipython",
    "version": 3
   },
   "file_extension": ".py",
   "mimetype": "text/x-python",
   "name": "python",
   "nbconvert_exporter": "python",
   "pygments_lexer": "ipython3",
   "version": "3.7.4"
  }
 },
 "nbformat": 4,
 "nbformat_minor": 4
}
