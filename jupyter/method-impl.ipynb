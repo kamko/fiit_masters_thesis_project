{
 "cells": [
  {
   "cell_type": "code",
   "execution_count": 72,
   "metadata": {},
   "outputs": [
    {
     "data": {
      "text/plain": [
       "<module 'pbar' from 'C:\\\\Users\\\\j\\\\IdeaProjects\\\\fiit_masters_thesis_project\\\\jupyter\\\\pbar.py'>"
      ]
     },
     "execution_count": 72,
     "metadata": {},
     "output_type": "execute_result"
    }
   ],
   "source": [
    "import importlib\n",
    "\n",
    "import common\n",
    "import util\n",
    "import pbar\n",
    "import ml_util\n",
    "\n",
    "importlib.reload(common)\n",
    "importlib.reload(ml_util)\n",
    "importlib.reload(util)\n",
    "importlib.reload(pbar)"
   ]
  },
  {
   "cell_type": "code",
   "execution_count": 73,
   "metadata": {},
   "outputs": [],
   "source": [
    "%matplotlib inline\n",
    "\n",
    "import sys\n",
    "\n",
    "import numpy as np\n",
    "import pandas as pd\n",
    "import seaborn as sns\n",
    "import matplotlib.pyplot as plt\n",
    "import sqlalchemy\n",
    "\n",
    "from common import create_engine\n",
    "from common import display_all\n",
    "from common import figsize\n",
    "from common import save_df, load_df\n",
    "from common import save_session, load_session\n",
    "\n",
    "\n",
    "from util import *\n",
    "\n",
    "from pbar import Pbar\n",
    "\n",
    "from pandas.plotting import register_matplotlib_converters\n",
    "register_matplotlib_converters() # converters e.g. for datetime in plots"
   ]
  },
  {
   "cell_type": "code",
   "execution_count": 3,
   "metadata": {},
   "outputs": [],
   "source": [
    "SESSION_FILE_NAME = 'method-impl.session-db'\n",
    "\n",
    "load_session(SESSION_FILE_NAME)"
   ]
  },
  {
   "cell_type": "code",
   "execution_count": 4,
   "metadata": {},
   "outputs": [],
   "source": [
    "RANDOM_STATE = 123\n",
    "np_random = np.random.RandomState(RANDOM_STATE)"
   ]
  },
  {
   "cell_type": "markdown",
   "metadata": {},
   "source": [
    "### Load dataset"
   ]
  },
  {
   "cell_type": "code",
   "execution_count": 5,
   "metadata": {},
   "outputs": [],
   "source": [
    "df = load_df('final_data.pickle')"
   ]
  },
  {
   "cell_type": "code",
   "execution_count": 6,
   "metadata": {},
   "outputs": [
    {
     "data": {
      "text/html": [
       "<div>\n",
       "<style scoped>\n",
       "    .dataframe tbody tr th:only-of-type {\n",
       "        vertical-align: middle;\n",
       "    }\n",
       "\n",
       "    .dataframe tbody tr th {\n",
       "        vertical-align: top;\n",
       "    }\n",
       "\n",
       "    .dataframe thead th {\n",
       "        text-align: right;\n",
       "    }\n",
       "</style>\n",
       "<table border=\"1\" class=\"dataframe\">\n",
       "  <thead>\n",
       "    <tr style=\"text-align: right;\">\n",
       "      <th></th>\n",
       "      <th>id</th>\n",
       "      <th>url</th>\n",
       "      <th>title</th>\n",
       "      <th>perex</th>\n",
       "      <th>body</th>\n",
       "      <th>published_at</th>\n",
       "      <th>extracted_at</th>\n",
       "      <th>source_id</th>\n",
       "      <th>category</th>\n",
       "      <th>other_info</th>\n",
       "      <th>...</th>\n",
       "      <th>source_id</th>\n",
       "      <th>source_name</th>\n",
       "      <th>source_url</th>\n",
       "      <th>source_type</th>\n",
       "      <th>source_is_reliable</th>\n",
       "      <th>fb_sync_date</th>\n",
       "      <th>fb_reaction_count</th>\n",
       "      <th>fb_comment_count</th>\n",
       "      <th>fb_share_count</th>\n",
       "      <th>fb_popularity</th>\n",
       "    </tr>\n",
       "  </thead>\n",
       "  <tbody>\n",
       "    <tr>\n",
       "      <td>0</td>\n",
       "      <td>355165</td>\n",
       "      <td>http://blog.healthadvocate.com/2011/08/smarter...</td>\n",
       "      <td>Smarter eating at buffets</td>\n",
       "      <td>&lt;p&gt;It&amp;#8217;s easy to be fooled into thinking ...</td>\n",
       "      <td>It’s easy to be fooled into thinking that dini...</td>\n",
       "      <td>2011-08-02 17:06:00</td>\n",
       "      <td>2019-09-06 04:02:15.203668</td>\n",
       "      <td>223</td>\n",
       "      <td>{\"Health Tips\",Nutrition,\"Health Information\",...</td>\n",
       "      <td>{'tags': ['Healthy Eating', 'Nutrition', 'Well...</td>\n",
       "      <td>...</td>\n",
       "      <td>223</td>\n",
       "      <td>healthadvocate.com</td>\n",
       "      <td>http://healthadvocate.com</td>\n",
       "      <td>news_website</td>\n",
       "      <td>1</td>\n",
       "      <td>2019-10-14 21:53:23.370260</td>\n",
       "      <td>0</td>\n",
       "      <td>0</td>\n",
       "      <td>0</td>\n",
       "      <td>0</td>\n",
       "    </tr>\n",
       "    <tr>\n",
       "      <td>1</td>\n",
       "      <td>355267</td>\n",
       "      <td>http://blog.healthadvocate.com/2013/01/soups-on/</td>\n",
       "      <td>Soup&amp;#8217;s on!</td>\n",
       "      <td>&lt;p&gt;During the colder months, eating a bowl of ...</td>\n",
       "      <td>During the colder months, eating a bowl of sou...</td>\n",
       "      <td>2013-01-15 21:31:00</td>\n",
       "      <td>2019-09-06 04:02:58.622688</td>\n",
       "      <td>223</td>\n",
       "      <td>{Nutrition}</td>\n",
       "      <td>{'tags': [], 'updated_at': '2018-03-02T11:44:17'}</td>\n",
       "      <td>...</td>\n",
       "      <td>223</td>\n",
       "      <td>healthadvocate.com</td>\n",
       "      <td>http://healthadvocate.com</td>\n",
       "      <td>news_website</td>\n",
       "      <td>1</td>\n",
       "      <td>2019-10-14 21:53:24.046867</td>\n",
       "      <td>0</td>\n",
       "      <td>0</td>\n",
       "      <td>0</td>\n",
       "      <td>0</td>\n",
       "    </tr>\n",
       "    <tr>\n",
       "      <td>2</td>\n",
       "      <td>355283</td>\n",
       "      <td>http://blog.healthadvocate.com/2013/04/dancing...</td>\n",
       "      <td>Dancing Your Way to Better Health</td>\n",
       "      <td>&lt;p&gt;Do you enjoy dancing? If so, you may want t...</td>\n",
       "      <td>Do you enjoy dancing? If so, you may want to c...</td>\n",
       "      <td>2013-04-26 14:43:05</td>\n",
       "      <td>2019-09-06 04:03:06.256547</td>\n",
       "      <td>223</td>\n",
       "      <td>{Wellness,Fitness}</td>\n",
       "      <td>{'tags': [], 'updated_at': '2018-03-02T11:44:16'}</td>\n",
       "      <td>...</td>\n",
       "      <td>223</td>\n",
       "      <td>healthadvocate.com</td>\n",
       "      <td>http://healthadvocate.com</td>\n",
       "      <td>news_website</td>\n",
       "      <td>1</td>\n",
       "      <td>2019-10-14 21:53:24.047008</td>\n",
       "      <td>0</td>\n",
       "      <td>0</td>\n",
       "      <td>0</td>\n",
       "      <td>0</td>\n",
       "    </tr>\n",
       "    <tr>\n",
       "      <td>3</td>\n",
       "      <td>355307</td>\n",
       "      <td>http://blog.healthadvocate.com/2013/07/how-eap...</td>\n",
       "      <td>How EAPs Can Benefit a Company’s Employees…and...</td>\n",
       "      <td>&lt;p&gt;Job stress is a leading source of stress fo...</td>\n",
       "      <td>Job stress is a leading source of stress for A...</td>\n",
       "      <td>2013-07-09 17:24:00</td>\n",
       "      <td>2019-09-06 04:03:15.869432</td>\n",
       "      <td>223</td>\n",
       "      <td>{\"Stress Management\",\"Employee Assistance Prog...</td>\n",
       "      <td>{'tags': [], 'updated_at': '2018-03-02T11:43:40'}</td>\n",
       "      <td>...</td>\n",
       "      <td>223</td>\n",
       "      <td>healthadvocate.com</td>\n",
       "      <td>http://healthadvocate.com</td>\n",
       "      <td>news_website</td>\n",
       "      <td>1</td>\n",
       "      <td>2019-10-14 21:53:24.384061</td>\n",
       "      <td>0</td>\n",
       "      <td>0</td>\n",
       "      <td>0</td>\n",
       "      <td>0</td>\n",
       "    </tr>\n",
       "    <tr>\n",
       "      <td>4</td>\n",
       "      <td>355603</td>\n",
       "      <td>http://blog.healthadvocate.com/2015/05/healthy...</td>\n",
       "      <td>Healthy Reasons to Exercise</td>\n",
       "      <td>&lt;p&gt;We’re frequently exposed to public service ...</td>\n",
       "      <td>We’re frequently exposed to public service ann...</td>\n",
       "      <td>2015-05-19 11:55:40</td>\n",
       "      <td>2019-09-06 04:07:58.978488</td>\n",
       "      <td>223</td>\n",
       "      <td>{Wellness,Fitness}</td>\n",
       "      <td>{'tags': [], 'updated_at': '2018-03-02T11:37:20'}</td>\n",
       "      <td>...</td>\n",
       "      <td>223</td>\n",
       "      <td>healthadvocate.com</td>\n",
       "      <td>http://healthadvocate.com</td>\n",
       "      <td>news_website</td>\n",
       "      <td>1</td>\n",
       "      <td>2019-10-14 21:53:26.547686</td>\n",
       "      <td>2</td>\n",
       "      <td>0</td>\n",
       "      <td>4</td>\n",
       "      <td>6</td>\n",
       "    </tr>\n",
       "  </tbody>\n",
       "</table>\n",
       "<p>5 rows × 21 columns</p>\n",
       "</div>"
      ],
      "text/plain": [
       "       id                                                url  \\\n",
       "0  355165  http://blog.healthadvocate.com/2011/08/smarter...   \n",
       "1  355267   http://blog.healthadvocate.com/2013/01/soups-on/   \n",
       "2  355283  http://blog.healthadvocate.com/2013/04/dancing...   \n",
       "3  355307  http://blog.healthadvocate.com/2013/07/how-eap...   \n",
       "4  355603  http://blog.healthadvocate.com/2015/05/healthy...   \n",
       "\n",
       "                                               title  \\\n",
       "0                          Smarter eating at buffets   \n",
       "1                                   Soup&#8217;s on!   \n",
       "2                  Dancing Your Way to Better Health   \n",
       "3  How EAPs Can Benefit a Company’s Employees…and...   \n",
       "4                        Healthy Reasons to Exercise   \n",
       "\n",
       "                                               perex  \\\n",
       "0  <p>It&#8217;s easy to be fooled into thinking ...   \n",
       "1  <p>During the colder months, eating a bowl of ...   \n",
       "2  <p>Do you enjoy dancing? If so, you may want t...   \n",
       "3  <p>Job stress is a leading source of stress fo...   \n",
       "4  <p>We’re frequently exposed to public service ...   \n",
       "\n",
       "                                                body        published_at  \\\n",
       "0  It’s easy to be fooled into thinking that dini... 2011-08-02 17:06:00   \n",
       "1  During the colder months, eating a bowl of sou... 2013-01-15 21:31:00   \n",
       "2  Do you enjoy dancing? If so, you may want to c... 2013-04-26 14:43:05   \n",
       "3  Job stress is a leading source of stress for A... 2013-07-09 17:24:00   \n",
       "4  We’re frequently exposed to public service ann... 2015-05-19 11:55:40   \n",
       "\n",
       "                extracted_at source_id  \\\n",
       "0 2019-09-06 04:02:15.203668       223   \n",
       "1 2019-09-06 04:02:58.622688       223   \n",
       "2 2019-09-06 04:03:06.256547       223   \n",
       "3 2019-09-06 04:03:15.869432       223   \n",
       "4 2019-09-06 04:07:58.978488       223   \n",
       "\n",
       "                                            category  \\\n",
       "0  {\"Health Tips\",Nutrition,\"Health Information\",...   \n",
       "1                                        {Nutrition}   \n",
       "2                                 {Wellness,Fitness}   \n",
       "3  {\"Stress Management\",\"Employee Assistance Prog...   \n",
       "4                                 {Wellness,Fitness}   \n",
       "\n",
       "                                          other_info  ... source_id  \\\n",
       "0  {'tags': ['Healthy Eating', 'Nutrition', 'Well...  ...       223   \n",
       "1  {'tags': [], 'updated_at': '2018-03-02T11:44:17'}  ...       223   \n",
       "2  {'tags': [], 'updated_at': '2018-03-02T11:44:16'}  ...       223   \n",
       "3  {'tags': [], 'updated_at': '2018-03-02T11:43:40'}  ...       223   \n",
       "4  {'tags': [], 'updated_at': '2018-03-02T11:37:20'}  ...       223   \n",
       "\n",
       "          source_name                 source_url   source_type  \\\n",
       "0  healthadvocate.com  http://healthadvocate.com  news_website   \n",
       "1  healthadvocate.com  http://healthadvocate.com  news_website   \n",
       "2  healthadvocate.com  http://healthadvocate.com  news_website   \n",
       "3  healthadvocate.com  http://healthadvocate.com  news_website   \n",
       "4  healthadvocate.com  http://healthadvocate.com  news_website   \n",
       "\n",
       "  source_is_reliable               fb_sync_date fb_reaction_count  \\\n",
       "0                  1 2019-10-14 21:53:23.370260                 0   \n",
       "1                  1 2019-10-14 21:53:24.046867                 0   \n",
       "2                  1 2019-10-14 21:53:24.047008                 0   \n",
       "3                  1 2019-10-14 21:53:24.384061                 0   \n",
       "4                  1 2019-10-14 21:53:26.547686                 2   \n",
       "\n",
       "   fb_comment_count  fb_share_count  fb_popularity  \n",
       "0                 0               0              0  \n",
       "1                 0               0              0  \n",
       "2                 0               0              0  \n",
       "3                 0               0              0  \n",
       "4                 0               4              6  \n",
       "\n",
       "[5 rows x 21 columns]"
      ]
     },
     "execution_count": 6,
     "metadata": {},
     "output_type": "execute_result"
    }
   ],
   "source": [
    "df.head()"
   ]
  },
  {
   "cell_type": "code",
   "execution_count": 7,
   "metadata": {},
   "outputs": [
    {
     "name": "stdout",
     "output_type": "stream",
     "text": [
      "<class 'pandas.core.frame.DataFrame'>\n",
      "Int64Index: 160897 entries, 0 to 168190\n",
      "Data columns (total 21 columns):\n",
      "id                    160897 non-null int64\n",
      "url                   160897 non-null object\n",
      "title                 160897 non-null object\n",
      "perex                 137532 non-null object\n",
      "body                  160668 non-null object\n",
      "published_at          160897 non-null datetime64[ns]\n",
      "extracted_at          160897 non-null datetime64[ns]\n",
      "source_id             160897 non-null int64\n",
      "category              133794 non-null object\n",
      "other_info            160893 non-null object\n",
      "author_name           160897 non-null object\n",
      "source_id             160897 non-null int64\n",
      "source_name           160897 non-null object\n",
      "source_url            160897 non-null object\n",
      "source_type           160897 non-null object\n",
      "source_is_reliable    160897 non-null int64\n",
      "fb_sync_date          160897 non-null datetime64[ns]\n",
      "fb_reaction_count     160897 non-null int64\n",
      "fb_comment_count      160897 non-null int64\n",
      "fb_share_count        160897 non-null int64\n",
      "fb_popularity         160897 non-null int64\n",
      "dtypes: datetime64[ns](3), int64(8), object(10)\n",
      "memory usage: 27.0+ MB\n"
     ]
    }
   ],
   "source": [
    "df.info()"
   ]
  },
  {
   "cell_type": "markdown",
   "metadata": {},
   "source": [
    "-----"
   ]
  },
  {
   "cell_type": "markdown",
   "metadata": {},
   "source": [
    "Rozdelenie hodnot popularity do 5 skupin\n",
    "\n",
    "- `0 - 0.5`\n",
    "- `0.5 - 0.75`\n",
    "- `0.75 - 0.9`\n",
    "- `0.9 - 0.95`\n",
    "- `0.95 - 1`"
   ]
  },
  {
   "cell_type": "code",
   "execution_count": 8,
   "metadata": {},
   "outputs": [],
   "source": [
    "def add_labels(df, quantiles, column='fb_popularity'):\n",
    "    df = df.copy()\n",
    "    label_str = f'{column}_label'\n",
    "    \n",
    "    df[label_str] = -1\n",
    "    \n",
    "    label = 1    \n",
    "    for i in range(len(quantiles) - 1):\n",
    "        low = df[column].quantile(quantiles[i])\n",
    "        high = df[column].quantile(quantiles[i + 1])\n",
    "        \n",
    "        df.loc[(low <= df[column]) & (df[column] <= high), label_str] = label\n",
    "        \n",
    "        label += 1\n",
    "    \n",
    "    return df.copy()"
   ]
  },
  {
   "cell_type": "code",
   "execution_count": 9,
   "metadata": {},
   "outputs": [
    {
     "name": "stdout",
     "output_type": "stream",
     "text": [
      "0.00          0.0\n",
      "0.50          0.0\n",
      "0.75         50.0\n",
      "0.90        436.0\n",
      "0.95       1301.0\n",
      "1.00    3929532.0\n",
      "Name: fb_reaction_count, dtype: float64\n",
      "0.00         0.0\n",
      "0.50         0.0\n",
      "0.75         7.0\n",
      "0.90        85.0\n",
      "0.95       290.0\n",
      "1.00    714968.0\n",
      "Name: fb_comment_count, dtype: float64\n",
      "0.00         0.0\n",
      "0.50         1.0\n",
      "0.75        33.0\n",
      "0.90       185.0\n",
      "0.95       503.0\n",
      "1.00    572708.0\n",
      "Name: fb_share_count, dtype: float64\n",
      "0.00          0.0\n",
      "0.50          1.0\n",
      "0.75         99.0\n",
      "0.90        734.0\n",
      "0.95       2126.0\n",
      "1.00    5197586.0\n",
      "Name: fb_popularity, dtype: float64\n"
     ]
    }
   ],
   "source": [
    "quantiles = [\n",
    "    0,\n",
    "    .50,\n",
    "    .75,\n",
    "    .90,\n",
    "    .95,\n",
    "    1\n",
    "]\n",
    "\n",
    "cols = [\n",
    "    'fb_reaction_count',\n",
    "    'fb_comment_count',\n",
    "    'fb_share_count',\n",
    "    'fb_popularity'    \n",
    "]\n",
    "\n",
    "for i in cols:\n",
    "    print(df[i].quantile(quantiles))\n",
    "    df = add_labels(df, quantiles, column=i)"
   ]
  },
  {
   "cell_type": "markdown",
   "metadata": {},
   "source": [
    "Pri jednotlivych zlozkach sme pri tomto rozdeleni nasli len 4 skupiny (lebo 1 == 2)"
   ]
  },
  {
   "cell_type": "markdown",
   "metadata": {},
   "source": [
    "---"
   ]
  },
  {
   "cell_type": "markdown",
   "metadata": {},
   "source": [
    "Jednoducha heuristika: ak je zdroj nedoveryhodny tak aj clanok je nedoveryhodny"
   ]
  },
  {
   "cell_type": "code",
   "execution_count": 10,
   "metadata": {},
   "outputs": [],
   "source": [
    "df['is_fake_news_label'] = df.source_is_reliable.replace({0:1, 1:0})"
   ]
  },
  {
   "cell_type": "markdown",
   "metadata": {},
   "source": [
    "---"
   ]
  },
  {
   "cell_type": "markdown",
   "metadata": {},
   "source": [
    "### data cleanup"
   ]
  },
  {
   "cell_type": "code",
   "execution_count": 11,
   "metadata": {},
   "outputs": [],
   "source": [
    "# clear body, perex, etc from html...."
   ]
  },
  {
   "cell_type": "code",
   "execution_count": 12,
   "metadata": {},
   "outputs": [],
   "source": [
    "# drop rows without body\n",
    "df = df[~df.body.isnull()]\n",
    "df = df[~df.title.isnull()]"
   ]
  },
  {
   "cell_type": "markdown",
   "metadata": {},
   "source": [
    "## Feature engineering\n",
    "\n",
    "dve hlavne skupinky dat\n",
    "\n",
    "- metadata (rozne)\n",
    "- obsahove"
   ]
  },
  {
   "cell_type": "code",
   "execution_count": 13,
   "metadata": {},
   "outputs": [],
   "source": [
    "label_names = list(filter(lambda x: x.endswith('_label'), df.columns))"
   ]
  },
  {
   "cell_type": "code",
   "execution_count": 14,
   "metadata": {},
   "outputs": [],
   "source": [
    "f_df = pd.DataFrame()"
   ]
  },
  {
   "cell_type": "code",
   "execution_count": 15,
   "metadata": {},
   "outputs": [],
   "source": [
    "# labely\n",
    "f_df = pd.concat([f_df] + [df[label_name] for label_name in label_names], axis=1)"
   ]
  },
  {
   "cell_type": "markdown",
   "metadata": {},
   "source": [
    "df.info()"
   ]
  },
  {
   "cell_type": "code",
   "execution_count": 16,
   "metadata": {},
   "outputs": [],
   "source": [
    "from sklearn.feature_extraction.text import CountVectorizer\n",
    "from textblob import TextBlob"
   ]
  },
  {
   "cell_type": "code",
   "execution_count": 17,
   "metadata": {},
   "outputs": [],
   "source": [
    "def title_basic_features(df):\n",
    "    content_cv = CountVectorizer()\n",
    "    data = content_cv.fit_transform(df.body)\n",
    "\n",
    "    res = pd.DataFrame(index=df.index)\n",
    "    \n",
    "    res['title_word_count'] = data.sum(axis=1)\n",
    "    res['title_char_length'] = df.title.apply(lambda x: len(x))\n",
    "    \n",
    "    return res\n",
    "\n",
    "def title_sentiment(df):\n",
    "    return empty_features(df)"
   ]
  },
  {
   "cell_type": "code",
   "execution_count": 18,
   "metadata": {},
   "outputs": [],
   "source": [
    "def content_basic_features(df):\n",
    "    content_cv = CountVectorizer()\n",
    "    # todo preprocess body\n",
    "    data = content_cv.fit_transform(df.body)\n",
    "\n",
    "    res = pd.DataFrame(index=df.index)\n",
    "    \n",
    "    res['content_word_count'] = data.sum(axis=1)\n",
    "    res['content_char_length'] = df.body.apply(lambda x: len(x))\n",
    "    \n",
    "    return res\n",
    "\n",
    "def content_sentiment(df):\n",
    "    return empty_features(df)"
   ]
  },
  {
   "cell_type": "code",
   "execution_count": 19,
   "metadata": {},
   "outputs": [],
   "source": [
    "features = [\n",
    "    title_basic_features,\n",
    "    title_sentiment,\n",
    "    \n",
    "    content_basic_features,\n",
    "    content_sentiment\n",
    "]"
   ]
  },
  {
   "cell_type": "code",
   "execution_count": 20,
   "metadata": {},
   "outputs": [],
   "source": [
    "def add_features(df, f_df):\n",
    "    f_df = f_df.copy()\n",
    "    for feature_generator in Pbar(features, refresh_rate=1, action_names=[i.__name__ for i in features]):\n",
    "        f_df = pd.concat([f_df, feature_generator(df)], axis=1)\n",
    "        \n",
    "    return f_df"
   ]
  },
  {
   "cell_type": "code",
   "execution_count": 21,
   "metadata": {},
   "outputs": [
    {
     "name": "stdout",
     "output_type": "stream",
     "text": [
      "[======================================            ] (processing: content_sentiment) -- 3 / 4 -- (finished)\n",
      "[==================================================] -- 4 / 4"
     ]
    }
   ],
   "source": [
    "final_df = add_features(df, f_df)"
   ]
  },
  {
   "cell_type": "code",
   "execution_count": 22,
   "metadata": {},
   "outputs": [
    {
     "name": "stdout",
     "output_type": "stream",
     "text": [
      "<class 'pandas.core.frame.DataFrame'>\n",
      "Index: 160668 entries, 0 to 168190\n",
      "Data columns (total 9 columns):\n",
      "fb_reaction_count_label    160668 non-null int64\n",
      "fb_comment_count_label     160668 non-null int64\n",
      "fb_share_count_label       160668 non-null int64\n",
      "fb_popularity_label        160668 non-null int64\n",
      "is_fake_news_label         160668 non-null int64\n",
      "title_word_count           160668 non-null int64\n",
      "title_char_length          160668 non-null int64\n",
      "content_word_count         160668 non-null int64\n",
      "content_char_length        160668 non-null int64\n",
      "dtypes: int64(9)\n",
      "memory usage: 12.3+ MB\n"
     ]
    }
   ],
   "source": [
    "final_df.info()"
   ]
  },
  {
   "cell_type": "markdown",
   "metadata": {},
   "source": [
    "---"
   ]
  },
  {
   "cell_type": "markdown",
   "metadata": {},
   "source": [
    "## Rozdelenie dat"
   ]
  },
  {
   "cell_type": "code",
   "execution_count": 23,
   "metadata": {},
   "outputs": [],
   "source": [
    "train, test, validation = tuple(split_data(final_df, sizes=[2, 2, 1], shuffle=True, np_random=np_random))"
   ]
  },
  {
   "cell_type": "code",
   "execution_count": 24,
   "metadata": {},
   "outputs": [
    {
     "name": "stdout",
     "output_type": "stream",
     "text": [
      "[64268, 64267, 32133]\n"
     ]
    }
   ],
   "source": [
    "print([len(i) for i in [train,test,validation]])"
   ]
  },
  {
   "cell_type": "code",
   "execution_count": 25,
   "metadata": {},
   "outputs": [
    {
     "data": {
      "text/plain": [
       "['fb_reaction_count_label',\n",
       " 'fb_comment_count_label',\n",
       " 'fb_share_count_label',\n",
       " 'fb_popularity_label',\n",
       " 'is_fake_news_label']"
      ]
     },
     "execution_count": 25,
     "metadata": {},
     "output_type": "execute_result"
    }
   ],
   "source": [
    "label_names"
   ]
  },
  {
   "cell_type": "code",
   "execution_count": 26,
   "metadata": {},
   "outputs": [],
   "source": [
    "data = split_X_y_all(train, test, validation, selected_label='fb_popularity_label', all_labels=label_names)"
   ]
  },
  {
   "cell_type": "code",
   "execution_count": null,
   "metadata": {},
   "outputs": [],
   "source": []
  },
  {
   "cell_type": "code",
   "execution_count": 34,
   "metadata": {},
   "outputs": [],
   "source": [
    "from sklearn.metrics import classification_report\n",
    "\n",
    "from sklearn.ensemble import RandomForestClassifier"
   ]
  },
  {
   "cell_type": "code",
   "execution_count": 40,
   "metadata": {},
   "outputs": [],
   "source": [
    "def fit_predict(clf, data):\n",
    "    clf.fit(data.train.X, data.train.y)\n",
    "    return clf.predict(data.test.X)"
   ]
  },
  {
   "cell_type": "code",
   "execution_count": 74,
   "metadata": {},
   "outputs": [
    {
     "name": "stdout",
     "output_type": "stream",
     "text": [
      "[====================================================] -- 1 / 1 -- (finished) stClassifier) -- 0 / 1\n",
      "------------------------------------------------------\n",
      "              precision    recall  f1-score   support\n",
      "\n",
      "           1       0.54      0.70      0.61     29336\n",
      "           2       0.36      0.33      0.35     18940\n",
      "           3       0.25      0.17      0.20      9597\n",
      "           4       0.10      0.03      0.05      3206\n",
      "           5       0.11      0.04      0.06      3188\n",
      "\n",
      "    accuracy                           0.45     64267\n",
      "   macro avg       0.27      0.25      0.25     64267\n",
      "weighted avg       0.40      0.45      0.42     64267\n",
      "\n",
      "------------------------------------------------------\n"
     ]
    }
   ],
   "source": [
    "classifiers = [\n",
    "    RandomForestClassifier(n_estimators=100),\n",
    "\n",
    "]\n",
    "\n",
    "pbar_conf = {'length': len(classifiers), 'pbar_width': 52, 'action_names': [i.__class__.__name__ for i in classifiers]}\n",
    "\n",
    "predictions = list(Pbar((fit_predict(clf, data) for clf in classifiers), **pbar_conf))\n",
    "\n",
    "for p in predictions:\n",
    "    print(classification_report(data.test.y, p))\n",
    "    print('-' * 54)\n"
   ]
  },
  {
   "cell_type": "code",
   "execution_count": null,
   "metadata": {},
   "outputs": [],
   "source": []
  },
  {
   "cell_type": "code",
   "execution_count": 32,
   "metadata": {},
   "outputs": [],
   "source": [
    "save_session(SESSION_FILE_NAME)"
   ]
  }
 ],
 "metadata": {
  "kernelspec": {
   "display_name": "Python 3",
   "language": "python",
   "name": "python3"
  },
  "language_info": {
   "codemirror_mode": {
    "name": "ipython",
    "version": 3
   },
   "file_extension": ".py",
   "mimetype": "text/x-python",
   "name": "python",
   "nbconvert_exporter": "python",
   "pygments_lexer": "ipython3",
   "version": "3.7.4"
  }
 },
 "nbformat": 4,
 "nbformat_minor": 4
}
