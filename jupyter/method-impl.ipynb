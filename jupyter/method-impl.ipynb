{
 "cells": [
  {
   "cell_type": "code",
   "execution_count": 69,
   "metadata": {},
   "outputs": [
    {
     "data": {
      "text/plain": [
       "<module 'util' from 'C:\\\\Users\\\\kamko\\\\projects\\\\fiit_masters_thesis_project\\\\jupyter\\\\util.py'>"
      ]
     },
     "execution_count": 69,
     "metadata": {},
     "output_type": "execute_result"
    }
   ],
   "source": [
    "import importlib\n",
    "\n",
    "import common\n",
    "import util\n",
    "\n",
    "importlib.reload(common)\n",
    "importlib.reload(util)"
   ]
  },
  {
   "cell_type": "code",
   "execution_count": 70,
   "metadata": {},
   "outputs": [],
   "source": [
    "%matplotlib inline\n",
    "\n",
    "import numpy as np\n",
    "import pandas as pd\n",
    "import seaborn as sns\n",
    "import matplotlib.pyplot as plt\n",
    "import sqlalchemy\n",
    "\n",
    "from common import create_engine\n",
    "from common import display_all\n",
    "from common import figsize\n",
    "from common import save_df, load_df\n",
    "\n",
    "from util import split_data\n",
    "\n",
    "\n",
    "from pandas.plotting import register_matplotlib_converters\n",
    "register_matplotlib_converters() # converters e.g. for datetime in plots"
   ]
  },
  {
   "cell_type": "code",
   "execution_count": 3,
   "metadata": {},
   "outputs": [],
   "source": [
    "RANDOM_STATE = 123\n",
    "np_random = np.random.RandomState(RANDOM_STATE)"
   ]
  },
  {
   "cell_type": "markdown",
   "metadata": {},
   "source": [
    "### Load dataset"
   ]
  },
  {
   "cell_type": "code",
   "execution_count": 4,
   "metadata": {},
   "outputs": [],
   "source": [
    "df = load_df('final_data.pickle')"
   ]
  },
  {
   "cell_type": "code",
   "execution_count": 6,
   "metadata": {},
   "outputs": [
    {
     "data": {
      "text/html": [
       "<div>\n",
       "<style scoped>\n",
       "    .dataframe tbody tr th:only-of-type {\n",
       "        vertical-align: middle;\n",
       "    }\n",
       "\n",
       "    .dataframe tbody tr th {\n",
       "        vertical-align: top;\n",
       "    }\n",
       "\n",
       "    .dataframe thead th {\n",
       "        text-align: right;\n",
       "    }\n",
       "</style>\n",
       "<table border=\"1\" class=\"dataframe\">\n",
       "  <thead>\n",
       "    <tr style=\"text-align: right;\">\n",
       "      <th></th>\n",
       "      <th>id</th>\n",
       "      <th>url</th>\n",
       "      <th>title</th>\n",
       "      <th>perex</th>\n",
       "      <th>body</th>\n",
       "      <th>published_at</th>\n",
       "      <th>extracted_at</th>\n",
       "      <th>source_id</th>\n",
       "      <th>category</th>\n",
       "      <th>other_info</th>\n",
       "      <th>...</th>\n",
       "      <th>source_id</th>\n",
       "      <th>source_name</th>\n",
       "      <th>source_url</th>\n",
       "      <th>source_type</th>\n",
       "      <th>source_is_reliable</th>\n",
       "      <th>fb_sync_date</th>\n",
       "      <th>fb_reaction_count</th>\n",
       "      <th>fb_comment_count</th>\n",
       "      <th>fb_share_count</th>\n",
       "      <th>fb_popularity</th>\n",
       "    </tr>\n",
       "  </thead>\n",
       "  <tbody>\n",
       "    <tr>\n",
       "      <th>0</th>\n",
       "      <td>355323</td>\n",
       "      <td>http://blog.healthadvocate.com/2013/09/low-cos...</td>\n",
       "      <td>Low-cost workout essentials</td>\n",
       "      <td>&lt;p&gt;People are often under the assumption that ...</td>\n",
       "      <td>People are often under the assumption that wor...</td>\n",
       "      <td>2013-09-20 15:46:28</td>\n",
       "      <td>2019-09-06 04:03:23.886423</td>\n",
       "      <td>223</td>\n",
       "      <td>{Fitness}</td>\n",
       "      <td>{'tags': [], 'updated_at': '2018-03-02T11:43:39'}</td>\n",
       "      <td>...</td>\n",
       "      <td>223</td>\n",
       "      <td>healthadvocate.com</td>\n",
       "      <td>http://healthadvocate.com</td>\n",
       "      <td>news_website</td>\n",
       "      <td>1</td>\n",
       "      <td>2019-10-14 21:53:24.384129</td>\n",
       "      <td>0</td>\n",
       "      <td>0</td>\n",
       "      <td>0</td>\n",
       "      <td>0</td>\n",
       "    </tr>\n",
       "    <tr>\n",
       "      <th>1</th>\n",
       "      <td>355818</td>\n",
       "      <td>http://blog.healthadvocate.com/2016/05/be-prep...</td>\n",
       "      <td>Be prepared! Essential inventory for your firs...</td>\n",
       "      <td>&lt;p&gt;Summertime often means more time outside at...</td>\n",
       "      <td>Summertime often means more time outside at th...</td>\n",
       "      <td>2016-05-29 16:33:38</td>\n",
       "      <td>2019-09-06 04:09:33.886336</td>\n",
       "      <td>223</td>\n",
       "      <td>{\"Health Tips\",\"Health Information\",\"Safety Ti...</td>\n",
       "      <td>{'tags': [], 'updated_at': '2018-03-02T11:31:38'}</td>\n",
       "      <td>...</td>\n",
       "      <td>223</td>\n",
       "      <td>healthadvocate.com</td>\n",
       "      <td>http://healthadvocate.com</td>\n",
       "      <td>news_website</td>\n",
       "      <td>1</td>\n",
       "      <td>2019-10-14 21:53:28.006933</td>\n",
       "      <td>9</td>\n",
       "      <td>0</td>\n",
       "      <td>7</td>\n",
       "      <td>16</td>\n",
       "    </tr>\n",
       "    <tr>\n",
       "      <th>2</th>\n",
       "      <td>281114</td>\n",
       "      <td>https://coconutoil.com/achalasia-improvement-a...</td>\n",
       "      <td>Achalasia: Improvement after taking coconut oil</td>\n",
       "      <td>&lt;p&gt;In slightly over 2 weeks after starting the...</td>\n",
       "      <td>\\nby Chin (from Singapore)\\nHealingWell.com\\nF...</td>\n",
       "      <td>2012-07-03 12:49:50</td>\n",
       "      <td>2019-09-05 09:09:29.068001</td>\n",
       "      <td>173</td>\n",
       "      <td>{News}</td>\n",
       "      <td>{'tags': ['Achalasia', 'coconut oil', 'GERD'],...</td>\n",
       "      <td>...</td>\n",
       "      <td>173</td>\n",
       "      <td>coconutoil.com</td>\n",
       "      <td>http://coconutoil.com</td>\n",
       "      <td>news_website</td>\n",
       "      <td>0</td>\n",
       "      <td>2019-10-14 18:12:07.579041</td>\n",
       "      <td>0</td>\n",
       "      <td>0</td>\n",
       "      <td>0</td>\n",
       "      <td>0</td>\n",
       "    </tr>\n",
       "    <tr>\n",
       "      <th>3</th>\n",
       "      <td>281513</td>\n",
       "      <td>https://coconutoil.com/dr-brownstein-national-...</td>\n",
       "      <td>Dr. Brownstein: National Panel Reverses Idioti...</td>\n",
       "      <td>&lt;p&gt;As reported in the New York Times (2.20.15)...</td>\n",
       "      <td>\\nby Dr. Brownstein\\nDrbrownstein.com\\nAs repo...</td>\n",
       "      <td>2015-02-24 18:05:23</td>\n",
       "      <td>2019-09-05 09:10:44.903351</td>\n",
       "      <td>173</td>\n",
       "      <td>{News}</td>\n",
       "      <td>{'tags': ['cholesterol'], 'updated_at': '2015-...</td>\n",
       "      <td>...</td>\n",
       "      <td>173</td>\n",
       "      <td>coconutoil.com</td>\n",
       "      <td>http://coconutoil.com</td>\n",
       "      <td>news_website</td>\n",
       "      <td>0</td>\n",
       "      <td>2019-10-14 18:12:17.327260</td>\n",
       "      <td>0</td>\n",
       "      <td>0</td>\n",
       "      <td>0</td>\n",
       "      <td>0</td>\n",
       "    </tr>\n",
       "    <tr>\n",
       "      <th>4</th>\n",
       "      <td>281124</td>\n",
       "      <td>https://coconutoil.com/drug-side-effect-discov...</td>\n",
       "      <td>Drug Side Effect Discovery from Online Patient...</td>\n",
       "      <td>&lt;p&gt;We find a highly significant correlation be...</td>\n",
       "      <td>\\nby Jingjing Liu, Alice Li and Stephanie Sene...</td>\n",
       "      <td>2012-07-24 07:11:27</td>\n",
       "      <td>2019-09-05 09:09:32.477872</td>\n",
       "      <td>173</td>\n",
       "      <td>{News}</td>\n",
       "      <td>{'tags': ['cholesterol', 'statins'], 'updated_...</td>\n",
       "      <td>...</td>\n",
       "      <td>173</td>\n",
       "      <td>coconutoil.com</td>\n",
       "      <td>http://coconutoil.com</td>\n",
       "      <td>news_website</td>\n",
       "      <td>0</td>\n",
       "      <td>2019-10-14 18:12:07.579198</td>\n",
       "      <td>0</td>\n",
       "      <td>0</td>\n",
       "      <td>0</td>\n",
       "      <td>0</td>\n",
       "    </tr>\n",
       "  </tbody>\n",
       "</table>\n",
       "<p>5 rows × 21 columns</p>\n",
       "</div>"
      ],
      "text/plain": [
       "       id                                                url  \\\n",
       "0  355323  http://blog.healthadvocate.com/2013/09/low-cos...   \n",
       "1  355818  http://blog.healthadvocate.com/2016/05/be-prep...   \n",
       "2  281114  https://coconutoil.com/achalasia-improvement-a...   \n",
       "3  281513  https://coconutoil.com/dr-brownstein-national-...   \n",
       "4  281124  https://coconutoil.com/drug-side-effect-discov...   \n",
       "\n",
       "                                               title  \\\n",
       "0                        Low-cost workout essentials   \n",
       "1  Be prepared! Essential inventory for your firs...   \n",
       "2    Achalasia: Improvement after taking coconut oil   \n",
       "3  Dr. Brownstein: National Panel Reverses Idioti...   \n",
       "4  Drug Side Effect Discovery from Online Patient...   \n",
       "\n",
       "                                               perex  \\\n",
       "0  <p>People are often under the assumption that ...   \n",
       "1  <p>Summertime often means more time outside at...   \n",
       "2  <p>In slightly over 2 weeks after starting the...   \n",
       "3  <p>As reported in the New York Times (2.20.15)...   \n",
       "4  <p>We find a highly significant correlation be...   \n",
       "\n",
       "                                                body        published_at  \\\n",
       "0  People are often under the assumption that wor... 2013-09-20 15:46:28   \n",
       "1  Summertime often means more time outside at th... 2016-05-29 16:33:38   \n",
       "2  \\nby Chin (from Singapore)\\nHealingWell.com\\nF... 2012-07-03 12:49:50   \n",
       "3  \\nby Dr. Brownstein\\nDrbrownstein.com\\nAs repo... 2015-02-24 18:05:23   \n",
       "4  \\nby Jingjing Liu, Alice Li and Stephanie Sene... 2012-07-24 07:11:27   \n",
       "\n",
       "                extracted_at source_id  \\\n",
       "0 2019-09-06 04:03:23.886423       223   \n",
       "1 2019-09-06 04:09:33.886336       223   \n",
       "2 2019-09-05 09:09:29.068001       173   \n",
       "3 2019-09-05 09:10:44.903351       173   \n",
       "4 2019-09-05 09:09:32.477872       173   \n",
       "\n",
       "                                            category  \\\n",
       "0                                          {Fitness}   \n",
       "1  {\"Health Tips\",\"Health Information\",\"Safety Ti...   \n",
       "2                                             {News}   \n",
       "3                                             {News}   \n",
       "4                                             {News}   \n",
       "\n",
       "                                          other_info  ... source_id  \\\n",
       "0  {'tags': [], 'updated_at': '2018-03-02T11:43:39'}  ...       223   \n",
       "1  {'tags': [], 'updated_at': '2018-03-02T11:31:38'}  ...       223   \n",
       "2  {'tags': ['Achalasia', 'coconut oil', 'GERD'],...  ...       173   \n",
       "3  {'tags': ['cholesterol'], 'updated_at': '2015-...  ...       173   \n",
       "4  {'tags': ['cholesterol', 'statins'], 'updated_...  ...       173   \n",
       "\n",
       "          source_name                 source_url   source_type  \\\n",
       "0  healthadvocate.com  http://healthadvocate.com  news_website   \n",
       "1  healthadvocate.com  http://healthadvocate.com  news_website   \n",
       "2      coconutoil.com      http://coconutoil.com  news_website   \n",
       "3      coconutoil.com      http://coconutoil.com  news_website   \n",
       "4      coconutoil.com      http://coconutoil.com  news_website   \n",
       "\n",
       "  source_is_reliable               fb_sync_date fb_reaction_count  \\\n",
       "0                  1 2019-10-14 21:53:24.384129                 0   \n",
       "1                  1 2019-10-14 21:53:28.006933                 9   \n",
       "2                  0 2019-10-14 18:12:07.579041                 0   \n",
       "3                  0 2019-10-14 18:12:17.327260                 0   \n",
       "4                  0 2019-10-14 18:12:07.579198                 0   \n",
       "\n",
       "   fb_comment_count  fb_share_count  fb_popularity  \n",
       "0                 0               0              0  \n",
       "1                 0               7             16  \n",
       "2                 0               0              0  \n",
       "3                 0               0              0  \n",
       "4                 0               0              0  \n",
       "\n",
       "[5 rows x 21 columns]"
      ]
     },
     "execution_count": 6,
     "metadata": {},
     "output_type": "execute_result"
    }
   ],
   "source": [
    "df.head()"
   ]
  },
  {
   "cell_type": "code",
   "execution_count": 7,
   "metadata": {},
   "outputs": [
    {
     "name": "stdout",
     "output_type": "stream",
     "text": [
      "<class 'pandas.core.frame.DataFrame'>\n",
      "Int64Index: 160897 entries, 0 to 168190\n",
      "Data columns (total 21 columns):\n",
      " #   Column              Non-Null Count   Dtype         \n",
      "---  ------              --------------   -----         \n",
      " 0   id                  160897 non-null  int64         \n",
      " 1   url                 160897 non-null  object        \n",
      " 2   title               160897 non-null  object        \n",
      " 3   perex               137532 non-null  object        \n",
      " 4   body                160668 non-null  object        \n",
      " 5   published_at        160897 non-null  datetime64[ns]\n",
      " 6   extracted_at        160897 non-null  datetime64[ns]\n",
      " 7   source_id           160897 non-null  int64         \n",
      " 8   category            133794 non-null  object        \n",
      " 9   other_info          160893 non-null  object        \n",
      " 10  author_name         160897 non-null  object        \n",
      " 11  source_id           160897 non-null  int64         \n",
      " 12  source_name         160897 non-null  object        \n",
      " 13  source_url          160897 non-null  object        \n",
      " 14  source_type         160897 non-null  object        \n",
      " 15  source_is_reliable  160897 non-null  int64         \n",
      " 16  fb_sync_date        160897 non-null  datetime64[ns]\n",
      " 17  fb_reaction_count   160897 non-null  int64         \n",
      " 18  fb_comment_count    160897 non-null  int64         \n",
      " 19  fb_share_count      160897 non-null  int64         \n",
      " 20  fb_popularity       160897 non-null  int64         \n",
      "dtypes: datetime64[ns](3), int64(8), object(10)\n",
      "memory usage: 27.0+ MB\n"
     ]
    }
   ],
   "source": [
    "df.info()"
   ]
  },
  {
   "cell_type": "markdown",
   "metadata": {},
   "source": [
    "-----"
   ]
  },
  {
   "cell_type": "markdown",
   "metadata": {},
   "source": [
    "Rozdelenie hodnot popularity do 5 skupin\n",
    "\n",
    "- `0 - 0.5`\n",
    "- `0.5 - 0.75`\n",
    "- `0.75 - 0.9`\n",
    "- `0.9 - 0.95`\n",
    "- `0.95 - 1`"
   ]
  },
  {
   "cell_type": "code",
   "execution_count": 8,
   "metadata": {},
   "outputs": [],
   "source": [
    "def add_labels(df, quantiles, column='fb_popularity'):\n",
    "    df = df.copy()\n",
    "    label_str = f'{column}_label'\n",
    "    \n",
    "    df[label_str] = -1\n",
    "    \n",
    "    label = 1    \n",
    "    for i in range(len(quantiles) - 1):\n",
    "        low = df[column].quantile(quantiles[i])\n",
    "        high = df[column].quantile(quantiles[i + 1])\n",
    "        \n",
    "        df.loc[(low <= df[column]) & (df[column] <= high), label_str] = label\n",
    "        \n",
    "        label += 1\n",
    "    \n",
    "    return df.copy()"
   ]
  },
  {
   "cell_type": "code",
   "execution_count": 9,
   "metadata": {},
   "outputs": [
    {
     "name": "stdout",
     "output_type": "stream",
     "text": [
      "0.00          0.0\n",
      "0.50          0.0\n",
      "0.75         50.0\n",
      "0.90        436.0\n",
      "0.95       1301.0\n",
      "1.00    3929532.0\n",
      "Name: fb_reaction_count, dtype: float64\n",
      "0.00         0.0\n",
      "0.50         0.0\n",
      "0.75         7.0\n",
      "0.90        85.0\n",
      "0.95       290.0\n",
      "1.00    714968.0\n",
      "Name: fb_comment_count, dtype: float64\n",
      "0.00         0.0\n",
      "0.50         1.0\n",
      "0.75        33.0\n",
      "0.90       185.0\n",
      "0.95       503.0\n",
      "1.00    572708.0\n",
      "Name: fb_share_count, dtype: float64\n",
      "0.00          0.0\n",
      "0.50          1.0\n",
      "0.75         99.0\n",
      "0.90        734.0\n",
      "0.95       2126.0\n",
      "1.00    5197586.0\n",
      "Name: fb_popularity, dtype: float64\n"
     ]
    }
   ],
   "source": [
    "quantiles = [\n",
    "    0,\n",
    "    .50,\n",
    "    .75,\n",
    "    .90,\n",
    "    .95,\n",
    "    1\n",
    "]\n",
    "\n",
    "cols = [\n",
    "    'fb_reaction_count',\n",
    "    'fb_comment_count',\n",
    "    'fb_share_count',\n",
    "    'fb_popularity'    \n",
    "]\n",
    "\n",
    "for i in cols:\n",
    "    print(df[i].quantile(quantiles))\n",
    "    df = add_labels(df, quantiles, column=i)"
   ]
  },
  {
   "cell_type": "markdown",
   "metadata": {},
   "source": [
    "Pri jednotlivych zlozkach sme pri tomto rozdeleni nasli len 4 skupiny (lebo 1 == 2)"
   ]
  },
  {
   "cell_type": "markdown",
   "metadata": {},
   "source": [
    "---"
   ]
  },
  {
   "cell_type": "markdown",
   "metadata": {},
   "source": [
    "Jednoducha heuristika: ak je zdroj nedoveryhodny tak aj clanok je nedoveryhodny"
   ]
  },
  {
   "cell_type": "code",
   "execution_count": 10,
   "metadata": {},
   "outputs": [],
   "source": [
    "df['is_fake_news_label'] = df.source_is_reliable.replace({0:1, 1:0})"
   ]
  },
  {
   "cell_type": "markdown",
   "metadata": {},
   "source": [
    "---"
   ]
  },
  {
   "cell_type": "markdown",
   "metadata": {},
   "source": [
    "## Feature engineering\n",
    "\n",
    "dve hlavne skupinky dat\n",
    "\n",
    "- metadata (rozne)\n",
    "- obsahove"
   ]
  },
  {
   "cell_type": "code",
   "execution_count": 11,
   "metadata": {},
   "outputs": [],
   "source": [
    "label_names = list(filter(lambda x: x.endswith('_label'), df.columns))"
   ]
  },
  {
   "cell_type": "code",
   "execution_count": 12,
   "metadata": {},
   "outputs": [],
   "source": [
    "f_df = pd.DataFrame()"
   ]
  },
  {
   "cell_type": "code",
   "execution_count": 13,
   "metadata": {},
   "outputs": [],
   "source": [
    "# labely\n",
    "f_df = pd.concat([f_df] + [df[label_name] for label_name in label_names], axis=1)"
   ]
  },
  {
   "cell_type": "code",
   "execution_count": null,
   "metadata": {},
   "outputs": [],
   "source": []
  },
  {
   "cell_type": "code",
   "execution_count": 37,
   "metadata": {},
   "outputs": [],
   "source": [
    "features = [\n",
    "    \n",
    "]"
   ]
  },
  {
   "cell_type": "code",
   "execution_count": 51,
   "metadata": {},
   "outputs": [],
   "source": [
    "def add_features(df, f_df):\n",
    "    f_df = f_df.copy()\n",
    "    for feature_generator in features:\n",
    "        f_df = pd.concat([f_df, feature_generator(df)], axis=1)\n",
    "        \n",
    "    return f_df"
   ]
  },
  {
   "cell_type": "code",
   "execution_count": 52,
   "metadata": {},
   "outputs": [],
   "source": [
    "final_df = add_features(df, f_df)"
   ]
  },
  {
   "cell_type": "code",
   "execution_count": 53,
   "metadata": {},
   "outputs": [
    {
     "name": "stdout",
     "output_type": "stream",
     "text": [
      "<class 'pandas.core.frame.DataFrame'>\n",
      "Index: 160897 entries, 0 to 168190\n",
      "Data columns (total 6 columns):\n",
      " #   Column                   Non-Null Count   Dtype\n",
      "---  ------                   --------------   -----\n",
      " 0   fb_reaction_count_label  160897 non-null  int64\n",
      " 1   fb_comment_count_label   160897 non-null  int64\n",
      " 2   fb_share_count_label     160897 non-null  int64\n",
      " 3   fb_popularity_label      160897 non-null  int64\n",
      " 4   is_fake_news_label       160897 non-null  int64\n",
      " 5   abc                      160897 non-null  int64\n",
      "dtypes: int64(6)\n",
      "memory usage: 8.6+ MB\n"
     ]
    }
   ],
   "source": [
    "final_df.info()"
   ]
  },
  {
   "cell_type": "markdown",
   "metadata": {},
   "source": [
    "## Skalovanie a normalizacia"
   ]
  },
  {
   "cell_type": "code",
   "execution_count": 57,
   "metadata": {},
   "outputs": [],
   "source": [
    "# todo: find out if needed"
   ]
  },
  {
   "cell_type": "markdown",
   "metadata": {},
   "source": [
    "---"
   ]
  },
  {
   "cell_type": "markdown",
   "metadata": {},
   "source": [
    "## Rozdelenie dat"
   ]
  },
  {
   "cell_type": "code",
   "execution_count": 75,
   "metadata": {},
   "outputs": [],
   "source": [
    "train, test, validation = tuple(split_data(final_df, sizes=[2, 2, 1], shuffle=True, np_random=np_random))"
   ]
  },
  {
   "cell_type": "code",
   "execution_count": 76,
   "metadata": {},
   "outputs": [
    {
     "name": "stdout",
     "output_type": "stream",
     "text": [
      "[64360, 64358, 32179]\n"
     ]
    }
   ],
   "source": [
    "print([len(i) for i in [train,test,validation]])"
   ]
  }
 ],
 "metadata": {
  "kernelspec": {
   "display_name": "Python 3",
   "language": "python",
   "name": "python3"
  },
  "language_info": {
   "codemirror_mode": {
    "name": "ipython",
    "version": 3
   },
   "file_extension": ".py",
   "mimetype": "text/x-python",
   "name": "python",
   "nbconvert_exporter": "python",
   "pygments_lexer": "ipython3",
   "version": "3.7.3"
  }
 },
 "nbformat": 4,
 "nbformat_minor": 4
}
