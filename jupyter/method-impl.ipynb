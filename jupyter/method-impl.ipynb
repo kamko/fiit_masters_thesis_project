{
 "cells": [
  {
   "cell_type": "code",
   "execution_count": 1,
   "metadata": {},
   "outputs": [],
   "source": [
    "%matplotlib inline\n",
    "%load_ext autoreload\n",
    "%autoreload 2"
   ]
  },
  {
   "cell_type": "code",
   "execution_count": 2,
   "metadata": {},
   "outputs": [],
   "source": [
    "import sys\n",
    "\n",
    "import numpy as np\n",
    "import pandas as pd\n",
    "import seaborn as sns\n",
    "import matplotlib.pyplot as plt\n",
    "import sqlalchemy\n",
    "\n",
    "from common import create_engine\n",
    "from common import display_all\n",
    "from common import figsize\n",
    "from common import save_df, load_df\n",
    "from common import save_session, load_session\n",
    "\n",
    "\n",
    "from util import split_X_y_all, split_X_y, split_data, empty_features, column_feature, str_contains\n",
    "\n",
    "from pbar import Pbar\n",
    "\n",
    "from pandas.plotting import register_matplotlib_converters\n",
    "register_matplotlib_converters() # converters e.g. for datetime in plots"
   ]
  },
  {
   "cell_type": "code",
   "execution_count": 3,
   "metadata": {},
   "outputs": [],
   "source": [
    "SESSION_FILE_NAME = 'method-impl.session-db'\n",
    "\n",
    "load_session(SESSION_FILE_NAME)"
   ]
  },
  {
   "cell_type": "code",
   "execution_count": 4,
   "metadata": {},
   "outputs": [],
   "source": [
    "RANDOM_STATE = 123\n",
    "np_random = np.random.RandomState(RANDOM_STATE)"
   ]
  },
  {
   "cell_type": "markdown",
   "metadata": {},
   "source": [
    "### Load dataset"
   ]
  },
  {
   "cell_type": "code",
   "execution_count": 5,
   "metadata": {},
   "outputs": [],
   "source": [
    "df = load_df('final_data.pickle')"
   ]
  },
  {
   "cell_type": "code",
   "execution_count": 6,
   "metadata": {},
   "outputs": [
    {
     "data": {
      "text/html": [
       "<div>\n",
       "<style scoped>\n",
       "    .dataframe tbody tr th:only-of-type {\n",
       "        vertical-align: middle;\n",
       "    }\n",
       "\n",
       "    .dataframe tbody tr th {\n",
       "        vertical-align: top;\n",
       "    }\n",
       "\n",
       "    .dataframe thead th {\n",
       "        text-align: right;\n",
       "    }\n",
       "</style>\n",
       "<table border=\"1\" class=\"dataframe\">\n",
       "  <thead>\n",
       "    <tr style=\"text-align: right;\">\n",
       "      <th></th>\n",
       "      <th>id</th>\n",
       "      <th>url</th>\n",
       "      <th>title</th>\n",
       "      <th>perex</th>\n",
       "      <th>body</th>\n",
       "      <th>published_at</th>\n",
       "      <th>extracted_at</th>\n",
       "      <th>source_id</th>\n",
       "      <th>category</th>\n",
       "      <th>other_info</th>\n",
       "      <th>...</th>\n",
       "      <th>source_id</th>\n",
       "      <th>source_name</th>\n",
       "      <th>source_url</th>\n",
       "      <th>source_type</th>\n",
       "      <th>source_is_reliable</th>\n",
       "      <th>fb_sync_date</th>\n",
       "      <th>fb_reaction_count</th>\n",
       "      <th>fb_comment_count</th>\n",
       "      <th>fb_share_count</th>\n",
       "      <th>fb_popularity</th>\n",
       "    </tr>\n",
       "  </thead>\n",
       "  <tbody>\n",
       "    <tr>\n",
       "      <td>0</td>\n",
       "      <td>235048</td>\n",
       "      <td>https://www.naturalnewsblogs.com/the-secret-to...</td>\n",
       "      <td>The Secret to Happiness &amp;#8211; Revealed!</td>\n",
       "      <td>&lt;p&gt;&amp;#8220;Why are you so happy all of the time...</td>\n",
       "      <td>“Why are you so happy all of the time?”\\nI am ...</td>\n",
       "      <td>2013-08-07 12:36:20</td>\n",
       "      <td>2019-09-05 06:45:28.429274</td>\n",
       "      <td>142</td>\n",
       "      <td>[Health, Mental Health]</td>\n",
       "      <td>{'tags': ['choices', 'depression', 'happiness'...</td>\n",
       "      <td>...</td>\n",
       "      <td>142</td>\n",
       "      <td>naturalnewsblogs.com</td>\n",
       "      <td>http://naturalnewsblogs.com</td>\n",
       "      <td>news_website</td>\n",
       "      <td>0</td>\n",
       "      <td>2019-10-14 15:29:44.601408</td>\n",
       "      <td>0</td>\n",
       "      <td>0</td>\n",
       "      <td>0</td>\n",
       "      <td>0</td>\n",
       "    </tr>\n",
       "    <tr>\n",
       "      <td>1</td>\n",
       "      <td>235036</td>\n",
       "      <td>https://www.naturalnewsblogs.com/us-government...</td>\n",
       "      <td>US government claims 100% ownership over all y...</td>\n",
       "      <td>&lt;p&gt;(NaturalNews) The United States government ...</td>\n",
       "      <td>(NaturalNews) The United States government cla...</td>\n",
       "      <td>2013-05-19 18:50:37</td>\n",
       "      <td>2019-09-05 06:45:27.633650</td>\n",
       "      <td>142</td>\n",
       "      <td>[Health, News, Science, Weird, Biotechnology, ...</td>\n",
       "      <td>{'tags': ['gene patents', 'genetic slavery', '...</td>\n",
       "      <td>...</td>\n",
       "      <td>142</td>\n",
       "      <td>naturalnewsblogs.com</td>\n",
       "      <td>http://naturalnewsblogs.com</td>\n",
       "      <td>news_website</td>\n",
       "      <td>0</td>\n",
       "      <td>2019-10-14 15:29:44.601408</td>\n",
       "      <td>0</td>\n",
       "      <td>0</td>\n",
       "      <td>0</td>\n",
       "      <td>0</td>\n",
       "    </tr>\n",
       "    <tr>\n",
       "      <td>2</td>\n",
       "      <td>235039</td>\n",
       "      <td>https://www.naturalnewsblogs.com/angelina-joli...</td>\n",
       "      <td>Angelina Jolie copied by men! Surgeons now cut...</td>\n",
       "      <td>&lt;p&gt;(NaturalNews) Beyond merely inspiring women...</td>\n",
       "      <td>(NaturalNews) Beyond merely inspiring women to...</td>\n",
       "      <td>2013-05-20 18:54:30</td>\n",
       "      <td>2019-09-05 06:45:28.083048</td>\n",
       "      <td>142</td>\n",
       "      <td>[Health, Science, Weird, Celebrity, Hospitals ...</td>\n",
       "      <td>{'tags': ['Angelina Jolie', 'BRCA genes', 'pro...</td>\n",
       "      <td>...</td>\n",
       "      <td>142</td>\n",
       "      <td>naturalnewsblogs.com</td>\n",
       "      <td>http://naturalnewsblogs.com</td>\n",
       "      <td>news_website</td>\n",
       "      <td>0</td>\n",
       "      <td>2019-10-14 15:29:44.601408</td>\n",
       "      <td>0</td>\n",
       "      <td>0</td>\n",
       "      <td>0</td>\n",
       "      <td>0</td>\n",
       "    </tr>\n",
       "    <tr>\n",
       "      <td>3</td>\n",
       "      <td>235041</td>\n",
       "      <td>https://www.naturalnewsblogs.com/natural-news-...</td>\n",
       "      <td>Natural News releases latest laboratory test r...</td>\n",
       "      <td>&lt;p&gt;(NaturalNews) As Natural News readers know,...</td>\n",
       "      <td>(NaturalNews) As Natural News readers know, we...</td>\n",
       "      <td>2013-05-23 19:47:30</td>\n",
       "      <td>2019-09-05 06:45:28.167110</td>\n",
       "      <td>142</td>\n",
       "      <td>[Health, Food, Nutrition]</td>\n",
       "      <td>{'tags': ['clean chlorella', 'heavy metals', '...</td>\n",
       "      <td>...</td>\n",
       "      <td>142</td>\n",
       "      <td>naturalnewsblogs.com</td>\n",
       "      <td>http://naturalnewsblogs.com</td>\n",
       "      <td>news_website</td>\n",
       "      <td>0</td>\n",
       "      <td>2019-10-14 15:29:44.601408</td>\n",
       "      <td>0</td>\n",
       "      <td>0</td>\n",
       "      <td>0</td>\n",
       "      <td>0</td>\n",
       "    </tr>\n",
       "    <tr>\n",
       "      <td>4</td>\n",
       "      <td>235052</td>\n",
       "      <td>https://www.naturalnewsblogs.com/food-insecuri...</td>\n",
       "      <td>Food Insecurity: A Solution Grows Under Your Feet</td>\n",
       "      <td>&lt;p&gt;Food insecurity is a serious problem that p...</td>\n",
       "      <td>Food insecurity is a serious problem that plag...</td>\n",
       "      <td>2013-08-08 10:12:31</td>\n",
       "      <td>2019-09-05 06:45:28.607943</td>\n",
       "      <td>142</td>\n",
       "      <td>[Health, Nutritional Medicine, Food, Nutrition]</td>\n",
       "      <td>{'tags': ['broadleaf plantain', 'food insecuri...</td>\n",
       "      <td>...</td>\n",
       "      <td>142</td>\n",
       "      <td>naturalnewsblogs.com</td>\n",
       "      <td>http://naturalnewsblogs.com</td>\n",
       "      <td>news_website</td>\n",
       "      <td>0</td>\n",
       "      <td>2019-10-14 15:29:44.601408</td>\n",
       "      <td>0</td>\n",
       "      <td>0</td>\n",
       "      <td>0</td>\n",
       "      <td>0</td>\n",
       "    </tr>\n",
       "  </tbody>\n",
       "</table>\n",
       "<p>5 rows × 23 columns</p>\n",
       "</div>"
      ],
      "text/plain": [
       "       id                                                url  \\\n",
       "0  235048  https://www.naturalnewsblogs.com/the-secret-to...   \n",
       "1  235036  https://www.naturalnewsblogs.com/us-government...   \n",
       "2  235039  https://www.naturalnewsblogs.com/angelina-joli...   \n",
       "3  235041  https://www.naturalnewsblogs.com/natural-news-...   \n",
       "4  235052  https://www.naturalnewsblogs.com/food-insecuri...   \n",
       "\n",
       "                                               title  \\\n",
       "0          The Secret to Happiness &#8211; Revealed!   \n",
       "1  US government claims 100% ownership over all y...   \n",
       "2  Angelina Jolie copied by men! Surgeons now cut...   \n",
       "3  Natural News releases latest laboratory test r...   \n",
       "4  Food Insecurity: A Solution Grows Under Your Feet   \n",
       "\n",
       "                                               perex  \\\n",
       "0  <p>&#8220;Why are you so happy all of the time...   \n",
       "1  <p>(NaturalNews) The United States government ...   \n",
       "2  <p>(NaturalNews) Beyond merely inspiring women...   \n",
       "3  <p>(NaturalNews) As Natural News readers know,...   \n",
       "4  <p>Food insecurity is a serious problem that p...   \n",
       "\n",
       "                                                body        published_at  \\\n",
       "0  “Why are you so happy all of the time?”\\nI am ... 2013-08-07 12:36:20   \n",
       "1  (NaturalNews) The United States government cla... 2013-05-19 18:50:37   \n",
       "2  (NaturalNews) Beyond merely inspiring women to... 2013-05-20 18:54:30   \n",
       "3  (NaturalNews) As Natural News readers know, we... 2013-05-23 19:47:30   \n",
       "4  Food insecurity is a serious problem that plag... 2013-08-08 10:12:31   \n",
       "\n",
       "                extracted_at  source_id  \\\n",
       "0 2019-09-05 06:45:28.429274        142   \n",
       "1 2019-09-05 06:45:27.633650        142   \n",
       "2 2019-09-05 06:45:28.083048        142   \n",
       "3 2019-09-05 06:45:28.167110        142   \n",
       "4 2019-09-05 06:45:28.607943        142   \n",
       "\n",
       "                                            category  \\\n",
       "0                            [Health, Mental Health]   \n",
       "1  [Health, News, Science, Weird, Biotechnology, ...   \n",
       "2  [Health, Science, Weird, Celebrity, Hospitals ...   \n",
       "3                          [Health, Food, Nutrition]   \n",
       "4    [Health, Nutritional Medicine, Food, Nutrition]   \n",
       "\n",
       "                                          other_info  ...  source_id  \\\n",
       "0  {'tags': ['choices', 'depression', 'happiness'...  ...        142   \n",
       "1  {'tags': ['gene patents', 'genetic slavery', '...  ...        142   \n",
       "2  {'tags': ['Angelina Jolie', 'BRCA genes', 'pro...  ...        142   \n",
       "3  {'tags': ['clean chlorella', 'heavy metals', '...  ...        142   \n",
       "4  {'tags': ['broadleaf plantain', 'food insecuri...  ...        142   \n",
       "\n",
       "            source_name                   source_url   source_type  \\\n",
       "0  naturalnewsblogs.com  http://naturalnewsblogs.com  news_website   \n",
       "1  naturalnewsblogs.com  http://naturalnewsblogs.com  news_website   \n",
       "2  naturalnewsblogs.com  http://naturalnewsblogs.com  news_website   \n",
       "3  naturalnewsblogs.com  http://naturalnewsblogs.com  news_website   \n",
       "4  naturalnewsblogs.com  http://naturalnewsblogs.com  news_website   \n",
       "\n",
       "  source_is_reliable               fb_sync_date fb_reaction_count  \\\n",
       "0                  0 2019-10-14 15:29:44.601408                 0   \n",
       "1                  0 2019-10-14 15:29:44.601408                 0   \n",
       "2                  0 2019-10-14 15:29:44.601408                 0   \n",
       "3                  0 2019-10-14 15:29:44.601408                 0   \n",
       "4                  0 2019-10-14 15:29:44.601408                 0   \n",
       "\n",
       "   fb_comment_count fb_share_count  fb_popularity  \n",
       "0                 0              0              0  \n",
       "1                 0              0              0  \n",
       "2                 0              0              0  \n",
       "3                 0              0              0  \n",
       "4                 0              0              0  \n",
       "\n",
       "[5 rows x 23 columns]"
      ]
     },
     "execution_count": 6,
     "metadata": {},
     "output_type": "execute_result"
    }
   ],
   "source": [
    "df.head()"
   ]
  },
  {
   "cell_type": "code",
   "execution_count": 7,
   "metadata": {},
   "outputs": [
    {
     "name": "stdout",
     "output_type": "stream",
     "text": [
      "<class 'pandas.core.frame.DataFrame'>\n",
      "Int64Index: 164450 entries, 0 to 171743\n",
      "Data columns (total 23 columns):\n",
      "id                    164450 non-null int64\n",
      "url                   164450 non-null object\n",
      "title                 164450 non-null object\n",
      "perex                 140260 non-null object\n",
      "body                  164221 non-null object\n",
      "published_at          164450 non-null datetime64[ns]\n",
      "extracted_at          164450 non-null datetime64[ns]\n",
      "source_id             164450 non-null int64\n",
      "category              136428 non-null object\n",
      "other_info            164446 non-null object\n",
      "image_count           164450 non-null int64\n",
      "video_count           164450 non-null int64\n",
      "author_name           164450 non-null object\n",
      "source_id             164450 non-null int64\n",
      "source_name           164450 non-null object\n",
      "source_url            164450 non-null object\n",
      "source_type           164450 non-null object\n",
      "source_is_reliable    164450 non-null int64\n",
      "fb_sync_date          164450 non-null datetime64[ns]\n",
      "fb_reaction_count     164450 non-null int64\n",
      "fb_comment_count      164450 non-null int64\n",
      "fb_share_count        164450 non-null int64\n",
      "fb_popularity         164450 non-null int64\n",
      "dtypes: datetime64[ns](3), int64(10), object(10)\n",
      "memory usage: 30.1+ MB\n"
     ]
    }
   ],
   "source": [
    "df.info()"
   ]
  },
  {
   "cell_type": "markdown",
   "metadata": {},
   "source": [
    "-----"
   ]
  },
  {
   "cell_type": "markdown",
   "metadata": {},
   "source": [
    "Rozdelenie hodnot popularity do 5 skupin\n",
    "\n",
    "- `0 - 0.5`\n",
    "- `0.5 - 0.75`\n",
    "- `0.75 - 0.9`\n",
    "- `0.9 - 0.95`\n",
    "- `0.95 - 1`"
   ]
  },
  {
   "cell_type": "code",
   "execution_count": 8,
   "metadata": {},
   "outputs": [],
   "source": [
    "def add_labels(df, quantiles, column='fb_popularity'):\n",
    "    df = df.copy()\n",
    "    label_str = f'{column}_label'\n",
    "    \n",
    "    df[label_str] = -1\n",
    "    \n",
    "    label = 1    \n",
    "    for i in range(len(quantiles) - 1):\n",
    "        low = df[column].quantile(quantiles[i])\n",
    "        high = df[column].quantile(quantiles[i + 1])\n",
    "        \n",
    "        df.loc[(low <= df[column]) & (df[column] <= high), label_str] = int(label)\n",
    "        \n",
    "        label += 1\n",
    "    \n",
    "    return df.copy()"
   ]
  },
  {
   "cell_type": "code",
   "execution_count": 9,
   "metadata": {},
   "outputs": [
    {
     "name": "stdout",
     "output_type": "stream",
     "text": [
      "0.00          0.00\n",
      "0.50          0.00\n",
      "0.75         53.00\n",
      "0.90        459.00\n",
      "0.95       1369.55\n",
      "1.00    3929532.00\n",
      "Name: fb_reaction_count, dtype: float64\n",
      "0.00         0.0\n",
      "0.50         0.0\n",
      "0.75         8.0\n",
      "0.90        92.0\n",
      "0.95       310.0\n",
      "1.00    797490.0\n",
      "Name: fb_comment_count, dtype: float64\n",
      "0.00         0.0\n",
      "0.50         1.0\n",
      "0.75        35.0\n",
      "0.90       194.0\n",
      "0.95       529.0\n",
      "1.00    572708.0\n",
      "Name: fb_share_count, dtype: float64\n",
      "0.00          0.00\n",
      "0.50          2.00\n",
      "0.75        105.00\n",
      "0.90        771.00\n",
      "0.95       2251.55\n",
      "1.00    5197586.00\n",
      "Name: fb_popularity, dtype: float64\n"
     ]
    }
   ],
   "source": [
    "quantiles = [\n",
    "    0,\n",
    "    .50,\n",
    "    .75,\n",
    "    .90,\n",
    "    .95,\n",
    "    1\n",
    "]\n",
    "\n",
    "cols = [\n",
    "    'fb_reaction_count',\n",
    "    'fb_comment_count',\n",
    "    'fb_share_count',\n",
    "    'fb_popularity'    \n",
    "]\n",
    "\n",
    "for i in cols:\n",
    "    print(df[i].quantile(quantiles))\n",
    "    df = add_labels(df, quantiles, column=i)"
   ]
  },
  {
   "cell_type": "markdown",
   "metadata": {},
   "source": [
    "Pri jednotlivych zlozkach sme pri tomto rozdeleni nasli len 4 skupiny (lebo 1 == 2)"
   ]
  },
  {
   "cell_type": "markdown",
   "metadata": {},
   "source": [
    "---"
   ]
  },
  {
   "cell_type": "markdown",
   "metadata": {},
   "source": [
    "Jednoducha heuristika: ak je zdroj nedoveryhodny tak aj clanok je nedoveryhodny"
   ]
  },
  {
   "cell_type": "code",
   "execution_count": 10,
   "metadata": {},
   "outputs": [],
   "source": [
    "df['is_fake_news_label'] = df.source_is_reliable.replace({0:1, 1:0})"
   ]
  },
  {
   "cell_type": "markdown",
   "metadata": {},
   "source": [
    "---"
   ]
  },
  {
   "cell_type": "markdown",
   "metadata": {},
   "source": [
    "### data cleanup"
   ]
  },
  {
   "cell_type": "code",
   "execution_count": 11,
   "metadata": {},
   "outputs": [],
   "source": [
    "# clear body, perex, etc from html...."
   ]
  },
  {
   "cell_type": "code",
   "execution_count": 12,
   "metadata": {},
   "outputs": [],
   "source": [
    "# drop rows without body\n",
    "df = df[~df.body.isnull()]\n",
    "df = df[~df.title.isnull()]"
   ]
  },
  {
   "cell_type": "markdown",
   "metadata": {},
   "source": [
    "## Feature engineering\n",
    "\n",
    "dve hlavne skupinky dat\n",
    "\n",
    "- metadata (rozne)\n",
    "- obsahove"
   ]
  },
  {
   "cell_type": "code",
   "execution_count": 13,
   "metadata": {},
   "outputs": [],
   "source": [
    "label_names = list(filter(lambda x: x.endswith('_label'), df.columns))"
   ]
  },
  {
   "cell_type": "code",
   "execution_count": 37,
   "metadata": {},
   "outputs": [],
   "source": [
    "for ln in label_names:\n",
    "    df[ln] = pd.to_numeric(df[ln])"
   ]
  },
  {
   "cell_type": "code",
   "execution_count": 38,
   "metadata": {},
   "outputs": [],
   "source": [
    "f_df = pd.DataFrame()"
   ]
  },
  {
   "cell_type": "code",
   "execution_count": 39,
   "metadata": {},
   "outputs": [],
   "source": [
    "# labely\n",
    "f_df = pd.concat([f_df] + [df[label_name] for label_name in label_names], axis=1)"
   ]
  },
  {
   "cell_type": "markdown",
   "metadata": {},
   "source": [
    "df.info()"
   ]
  },
  {
   "cell_type": "code",
   "execution_count": 16,
   "metadata": {},
   "outputs": [],
   "source": [
    "from sklearn.feature_extraction.text import CountVectorizer\n",
    "from textblob import TextBlob"
   ]
  },
  {
   "cell_type": "code",
   "execution_count": 17,
   "metadata": {},
   "outputs": [],
   "source": [
    "def title_basic_features(df):\n",
    "    content_cv = CountVectorizer()\n",
    "    data = content_cv.fit_transform(df.body)\n",
    "\n",
    "    res = pd.DataFrame(index=df.index)\n",
    "    \n",
    "    res['title_word_count'] = data.sum(axis=1)\n",
    "    res['title_char_length'] = df.title.apply(lambda x: len(x))\n",
    "    \n",
    "    return res\n",
    "\n",
    "def title_sentiment(df):\n",
    "    return empty_features(df)"
   ]
  },
  {
   "cell_type": "code",
   "execution_count": 18,
   "metadata": {},
   "outputs": [],
   "source": [
    "def content_basic_features(df):\n",
    "    content_cv = CountVectorizer()\n",
    "    # todo preprocess body\n",
    "    data = content_cv.fit_transform(df.body)\n",
    "\n",
    "    res = pd.DataFrame(index=df.index)\n",
    "    \n",
    "    res['content_word_count'] = data.sum(axis=1)\n",
    "    res['content_char_length'] = df.body.apply(lambda x: len(x))\n",
    "    \n",
    "    return res\n",
    "\n",
    "def content_sentiment(df):\n",
    "    return empty_features(df)"
   ]
  },
  {
   "cell_type": "code",
   "execution_count": 19,
   "metadata": {},
   "outputs": [],
   "source": [
    "def media_count_total(df):\n",
    "    res = pd.DataFrame(index=df.index)\n",
    "    \n",
    "    res['media_count_total'] = df['image_count'] + df['video_count']\n",
    "    \n",
    "    return res\n",
    "    \n",
    "def media_count_image(df):\n",
    "    return column_feature(df, 'image_count')\n",
    "\n",
    "def media_count_video(df):\n",
    "    return column_feature(df, 'video_count')"
   ]
  },
  {
   "cell_type": "code",
   "execution_count": 20,
   "metadata": {},
   "outputs": [],
   "source": [
    "def published_on_day(df):\n",
    "    res = pd.DataFrame(index=df.index)\n",
    "    \n",
    "    res['published_on_day'] = df.published_at.dt.weekday + 1\n",
    "    \n",
    "    return res"
   ]
  },
  {
   "cell_type": "code",
   "execution_count": 21,
   "metadata": {},
   "outputs": [],
   "source": [
    "def is_collective_author(df):\n",
    "    \n",
    "    uniq_source_names = df.source_name.unique()\n",
    "    def make_a_guess(author_name):\n",
    "\n",
    "        return any((\n",
    "                    str_contains(author_name, 'admin', case=False),\n",
    "                    author_name.startswith('Neuroscience News Posts Science Research News Labs Universities Hospitals News Departments Around The World'),\n",
    "                    author_name in ['Neuroscience News',\n",
    "                                    'Wake Up World',\n",
    "                                    'Health Sciences Institute',\n",
    "                                    'REALdeal', \n",
    "                                    'nmheditor',\n",
    "                                    'The Mind Unleashed',\n",
    "                                    'Thinking Moms\\' Revolution',\n",
    "                                    'TheNewsDoctors',\n",
    "                                    'clnews',\n",
    "                                    'Associated Press',\n",
    "                                    'HealthDay',\n",
    "                                    'Infowars',\n",
    "                                    'Natural News Editors',\n",
    "                                    'https://www.facebook.com/WebMD',\n",
    "                                    'naturalnews', 'peakconsciousness', 'HealingwithoutHurting',\n",
    "                                    'HealthNutNews.com',\n",
    "                                   ],\n",
    "                    author_name.startswith('The Associated Press'),\n",
    "                    # ' and ' in author_name, # todo: je to kolektivny autor ak ich je len viac?\n",
    "                    author_name in uniq_source_names,   \n",
    "        ))\n",
    "    \n",
    "    res = pd.DataFrame(index=df.index)\n",
    "    \n",
    "    res['is_collective_author'] = df.author_name.map(make_a_guess)\n",
    "    \n",
    "    return res"
   ]
  },
  {
   "cell_type": "code",
   "execution_count": null,
   "metadata": {},
   "outputs": [],
   "source": []
  },
  {
   "cell_type": "code",
   "execution_count": null,
   "metadata": {},
   "outputs": [],
   "source": []
  },
  {
   "cell_type": "code",
   "execution_count": null,
   "metadata": {},
   "outputs": [],
   "source": []
  },
  {
   "cell_type": "code",
   "execution_count": 22,
   "metadata": {},
   "outputs": [],
   "source": [
    "features = [\n",
    "    title_basic_features,\n",
    "    title_sentiment,\n",
    "    \n",
    "    content_basic_features,\n",
    "    content_sentiment,\n",
    "    \n",
    "    media_count_total,\n",
    "    media_count_image,\n",
    "    media_count_video,\n",
    "    \n",
    "    published_on_day,\n",
    "    is_collective_author,\n",
    "]"
   ]
  },
  {
   "cell_type": "code",
   "execution_count": 23,
   "metadata": {},
   "outputs": [],
   "source": [
    "def add_features(df, f_df):\n",
    "    f_df = f_df.copy()\n",
    "    \n",
    "    pbar_conf = {\n",
    "        'refresh_rate': 1,\n",
    "        'action_names': [i.__name__ for i in features]\n",
    "    }\n",
    "    \n",
    "    for feature_generator in Pbar(features, **pbar_conf):\n",
    "        f_df = pd.concat([f_df, feature_generator(df)], axis=1)\n",
    "        \n",
    "    return f_df"
   ]
  },
  {
   "cell_type": "code",
   "execution_count": 24,
   "metadata": {},
   "outputs": [
    {
     "name": "stdout",
     "output_type": "stream",
     "text": [
      "[==================================================] -- 9 / 9 -- (finished)tive_author) -- 8 / 9 9\n"
     ]
    }
   ],
   "source": [
    "final_df = add_features(df, f_df)"
   ]
  },
  {
   "cell_type": "code",
   "execution_count": 25,
   "metadata": {},
   "outputs": [
    {
     "name": "stdout",
     "output_type": "stream",
     "text": [
      "<class 'pandas.core.frame.DataFrame'>\n",
      "Index: 164221 entries, 0 to 171743\n",
      "Data columns (total 14 columns):\n",
      "fb_reaction_count_label    164221 non-null int64\n",
      "fb_comment_count_label     164221 non-null int64\n",
      "fb_share_count_label       164221 non-null int64\n",
      "fb_popularity_label        164221 non-null int64\n",
      "is_fake_news_label         164221 non-null int64\n",
      "title_word_count           164221 non-null int64\n",
      "title_char_length          164221 non-null int64\n",
      "content_word_count         164221 non-null int64\n",
      "content_char_length        164221 non-null int64\n",
      "media_count_total          164221 non-null int64\n",
      "image_count                164221 non-null int64\n",
      "video_count                164221 non-null int64\n",
      "published_on_day           164221 non-null int64\n",
      "is_collective_author       164221 non-null bool\n",
      "dtypes: bool(1), int64(13)\n",
      "memory usage: 17.7+ MB\n"
     ]
    }
   ],
   "source": [
    "final_df.info()"
   ]
  },
  {
   "cell_type": "markdown",
   "metadata": {},
   "source": [
    "---"
   ]
  },
  {
   "cell_type": "markdown",
   "metadata": {},
   "source": [
    "## Rozdelenie dat"
   ]
  },
  {
   "cell_type": "code",
   "execution_count": 26,
   "metadata": {},
   "outputs": [],
   "source": [
    "train, test, validation = tuple(split_data(final_df, sizes=[2, 2, 1], shuffle=True, np_random=np_random))"
   ]
  },
  {
   "cell_type": "code",
   "execution_count": 27,
   "metadata": {},
   "outputs": [
    {
     "name": "stdout",
     "output_type": "stream",
     "text": [
      "[65689, 65688, 32844]\n"
     ]
    }
   ],
   "source": [
    "print([len(i) for i in [train,test,validation]])"
   ]
  },
  {
   "cell_type": "code",
   "execution_count": 28,
   "metadata": {},
   "outputs": [
    {
     "data": {
      "text/plain": [
       "['fb_reaction_count_label',\n",
       " 'fb_comment_count_label',\n",
       " 'fb_share_count_label',\n",
       " 'fb_popularity_label',\n",
       " 'is_fake_news_label']"
      ]
     },
     "execution_count": 28,
     "metadata": {},
     "output_type": "execute_result"
    }
   ],
   "source": [
    "label_names"
   ]
  },
  {
   "cell_type": "code",
   "execution_count": 29,
   "metadata": {},
   "outputs": [],
   "source": [
    "data = split_X_y_all(train, test, validation, selected_label='fb_popularity_label', all_labels=label_names)"
   ]
  },
  {
   "cell_type": "code",
   "execution_count": 35,
   "metadata": {},
   "outputs": [
    {
     "data": {
      "text/plain": [
       "0        1\n",
       "1        3\n",
       "2        2\n",
       "3        1\n",
       "4        1\n",
       "        ..\n",
       "65683    3\n",
       "65684    3\n",
       "65685    2\n",
       "65686    3\n",
       "65687    1\n",
       "Name: fb_popularity_label, Length: 65688, dtype: int32"
      ]
     },
     "execution_count": 35,
     "metadata": {},
     "output_type": "execute_result"
    }
   ],
   "source": [
    "data.test.y.astype(int)"
   ]
  },
  {
   "cell_type": "code",
   "execution_count": 30,
   "metadata": {},
   "outputs": [],
   "source": [
    "from sklearn.metrics import classification_report\n",
    "\n",
    "from sklearn.ensemble import RandomForestClassifier"
   ]
  },
  {
   "cell_type": "code",
   "execution_count": 31,
   "metadata": {},
   "outputs": [],
   "source": [
    "def fit_predict(clf, data):\n",
    "    clf.fit(data.train.X, data.train.y)\n",
    "    return clf.predict(data.test.X)"
   ]
  },
  {
   "cell_type": "code",
   "execution_count": 42,
   "metadata": {},
   "outputs": [
    {
     "name": "stdout",
     "output_type": "stream",
     "text": [
      "[====================================================] -- 1 / 1 -- (finished)estClassifier) -- 0 / 1\n",
      "              precision    recall  f1-score   support\n",
      "\n",
      "           1       0.60      0.80      0.69     32565\n",
      "           2       0.36      0.31      0.33     16684\n",
      "           3       0.31      0.20      0.24      9949\n",
      "           4       0.14      0.04      0.06      3205\n",
      "           5       0.15      0.04      0.07      3285\n",
      "\n",
      "    accuracy                           0.51     65688\n",
      "   macro avg       0.31      0.28      0.28     65688\n",
      "weighted avg       0.45      0.51      0.47     65688\n",
      "\n",
      "------------------------------------------------------\n"
     ]
    }
   ],
   "source": [
    "classifiers = [\n",
    "    RandomForestClassifier(n_estimators=100),\n",
    "\n",
    "]\n",
    "\n",
    "pbar_conf = {\n",
    "    'refresh_rate': 1,\n",
    "    'length': len(classifiers), \n",
    "    'pbar_width': 52,\n",
    "    'action_names': [i.__class__.__name__ for i in classifiers]\n",
    "}\n",
    "\n",
    "predictions = list(Pbar((fit_predict(clf, data) for clf in classifiers), **pbar_conf))\n",
    "\n",
    "for p in predictions:\n",
    "    print(classification_report(data.test.y, p))\n",
    "    print('-' * 54)"
   ]
  },
  {
   "cell_type": "code",
   "execution_count": null,
   "metadata": {},
   "outputs": [],
   "source": []
  },
  {
   "cell_type": "code",
   "execution_count": null,
   "metadata": {},
   "outputs": [],
   "source": [
    "save_session(SESSION_FILE_NAME)"
   ]
  }
 ],
 "metadata": {
  "kernelspec": {
   "display_name": "Python 3",
   "language": "python",
   "name": "python3"
  },
  "language_info": {
   "codemirror_mode": {
    "name": "ipython",
    "version": 3
   },
   "file_extension": ".py",
   "mimetype": "text/x-python",
   "name": "python",
   "nbconvert_exporter": "python",
   "pygments_lexer": "ipython3",
   "version": "3.7.4"
  }
 },
 "nbformat": 4,
 "nbformat_minor": 4
}
