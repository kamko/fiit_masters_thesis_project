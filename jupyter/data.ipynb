{
 "cells": [
  {
   "cell_type": "code",
   "execution_count": 7,
   "metadata": {},
   "outputs": [],
   "source": [
    "%matplotlib inline\n",
    "\n",
    "import importlib\n",
    "\n",
    "\n",
    "import numpy as np\n",
    "import pandas as pd\n",
    "import seaborn as sns\n",
    "import matplotlib.pyplot as plt\n",
    "import sqlalchemy\n",
    "\n",
    "import common\n",
    "importlib.reload(common)\n",
    "\n",
    "from common import create_engine\n",
    "from common import display_all\n",
    "from common import figsize\n",
    "from common import save_df\n",
    "\n",
    "\n",
    "from pandas.plotting import register_matplotlib_converters\n",
    "register_matplotlib_converters() # converters e.g. for datetime in plots"
   ]
  },
  {
   "cell_type": "code",
   "execution_count": 8,
   "metadata": {},
   "outputs": [],
   "source": [
    "engine = create_engine('db-conf.json', 'local')\n",
    "pd.sql = lambda sql: pd.read_sql(sqlalchemy.text(sql), con=engine)"
   ]
  },
  {
   "cell_type": "markdown",
   "metadata": {},
   "source": [
    "Vytvorenie materialized views kvoli obmedzeniu datovej mnoziny"
   ]
  },
  {
   "cell_type": "code",
   "execution_count": 11,
   "metadata": {},
   "outputs": [],
   "source": [
    "REFRESH_MVIEWS = False"
   ]
  },
  {
   "cell_type": "code",
   "execution_count": 10,
   "metadata": {},
   "outputs": [],
   "source": [
    "mviews_queries = [\n",
    "    # iba clanky z monitorov v kategoriach 'english' a 'medical' + publikovane po 'zaciatok-monitoringu' - 4 dni\n",
    "    '''\n",
    "    DROP MATERIALIZED VIEW IF EXISTS news_articles CASCADE;\n",
    "    CREATE MATERIALIZED VIEW new_articles AS (\n",
    "    SELECT *\n",
    "    FROM article\n",
    "    WHERE monitor_id in (1, 4, 5, 7, 8, 9, 10)\n",
    "      AND published_at >= '2019-10-10 00:00:00.000000');\n",
    "    ''',\n",
    "    \n",
    "    # maximalne id pozorovania pre danu kombinaciu (url, datum)\n",
    "    '''\n",
    "    DROP MATERIALIZED VIEW IF EXISTS article_fb_engagement_per_day CASCADE;\n",
    "    CREATE MATERIALIZED VIEW article_fb_engagement_per_day AS (\n",
    "    SELECT max(id) last_id_on_day, related_object_url as url, extracted_at::date as sync_on_day\n",
    "    FROM feedback_facebook\n",
    "    GROUP BY url, sync_on_day);\n",
    "    ''',\n",
    "    \n",
    "    # fb popularita + url + rozdiel medzi datumom publikovania a datumom ziskania dat z FB\n",
    "    '''\n",
    "    DROP MATERIALIZED VIEW IF EXISTS new_articles_fb_engagement CASCADE;\n",
    "    CREATE MATERIALIZED VIEW new_articles_fb_engagement AS (\n",
    "    SELECT fb.id,\n",
    "           fb.related_object_url                     as url,\n",
    "           fb.reaction_count,\n",
    "           fb.comment_count,\n",
    "           fb.share_count,\n",
    "           fb.comment_plugin_count,\n",
    "           afepd.sync_on_day,\n",
    "           na.published_at,\n",
    "           afepd.sync_on_day - na.published_at::date as days_after_publication\n",
    "    FROM article_fb_engagement_per_day afepd\n",
    "             JOIN feedback_facebook fb ON fb.id = afepd.last_id_on_day\n",
    "             JOIN new_articles na ON na.url = afepd.url);\n",
    "    '''\n",
    "]\n",
    "\n",
    "if REFRESH_MVIEWS:\n",
    "    with engine.connect() as connection:\n",
    "        for q in mviews_queries:\n",
    "            connection.execute(q)"
   ]
  },
  {
   "cell_type": "code",
   "execution_count": 168,
   "metadata": {},
   "outputs": [],
   "source": [
    "# - obsah clanku (+meta)\n",
    "# - meno autora\n",
    "# - pocet obrazkov / videii\n",
    "# - pocet claimov\n",
    "# - veracity (podla claimov)\n",
    "# - zdroj (nazov, url)\n",
    "# - anotacia doveryhodnosti zdroja\n",
    "\n",
    "df = pd.sql('''\n",
    "SELECT a.id,\n",
    "       a.url,\n",
    "       title,\n",
    "       perex,\n",
    "       body,\n",
    "       a.published_at,\n",
    "       extracted_at,\n",
    "       a.source_id,\n",
    "       category,\n",
    "       other_info,\n",
    "       coalesce(imgc.cnt, 0)                          as image_count,\n",
    "       coalesce(vidc.cnt, 0)                          as video_count,\n",
    "       av.veracity,\n",
    "       av.claims_false,\n",
    "       av.claims_mixture,\n",
    "       av.claims_mostly_false,\n",
    "       av.claims_mostly_true,\n",
    "       av.claims_true,\n",
    "       av.claims_unknown,\n",
    "       aut.name                                       as author_name,\n",
    "       s.id                                           as source_id,\n",
    "       s.name                                         as source_name,\n",
    "       s.url                                          as source_url,\n",
    "       stype                                          as source_type,\n",
    "       is_reliable::integer                           as source_is_reliable\n",
    "FROM new_articles a\n",
    "         JOIN source s on a.source_id = s.id\n",
    "         JOIN author aut on a.author_id = aut.id\n",
    "         LEFT JOIN (SELECT article_id, count(*) as cnt FROM media WHERE media_type = 'image' GROUP BY article_id) imgc\n",
    "                   ON a.id = imgc.article_id\n",
    "         LEFT JOIN (SELECT article_id, count(*) as cnt FROM media WHERE media_type = 'video' GROUP BY article_id) vidc\n",
    "                   ON a.id = vidc.article_id\n",
    "         JOIN article_veracity av on a.id = av.article_id\n",
    "WHERE s.is_reliable IS NOT NULL;\n",
    "''')"
   ]
  },
  {
   "cell_type": "code",
   "execution_count": 161,
   "metadata": {},
   "outputs": [
    {
     "name": "stdout",
     "output_type": "stream",
     "text": [
      "<class 'pandas.core.frame.DataFrame'>\n",
      "RangeIndex: 3932 entries, 0 to 3931\n",
      "Data columns (total 25 columns):\n",
      "id                     3932 non-null int64\n",
      "url                    3932 non-null object\n",
      "title                  3932 non-null object\n",
      "perex                  2927 non-null object\n",
      "body                   3927 non-null object\n",
      "published_at           3932 non-null datetime64[ns]\n",
      "extracted_at           3932 non-null datetime64[ns]\n",
      "source_id              3932 non-null int64\n",
      "category               2309 non-null object\n",
      "other_info             3930 non-null object\n",
      "image_count            3932 non-null int64\n",
      "video_count            3932 non-null int64\n",
      "veracity               3932 non-null object\n",
      "claims_false           3932 non-null int64\n",
      "claims_mixture         3932 non-null int64\n",
      "claims_mostly_false    3932 non-null int64\n",
      "claims_mostly_true     3932 non-null int64\n",
      "claims_true            3932 non-null int64\n",
      "claims_unknown         3932 non-null int64\n",
      "author_name            3932 non-null object\n",
      "source_id              3932 non-null int64\n",
      "source_name            3932 non-null object\n",
      "source_url             3932 non-null object\n",
      "source_type            3932 non-null object\n",
      "source_is_reliable     3932 non-null int64\n",
      "dtypes: datetime64[ns](2), int64(12), object(11)\n",
      "memory usage: 768.1+ KB\n"
     ]
    }
   ],
   "source": [
    "df.info()"
   ]
  },
  {
   "cell_type": "code",
   "execution_count": 162,
   "metadata": {},
   "outputs": [],
   "source": [
    "# url, popularita na fb, rozdiel sync - publikovanie (max 30 dni)\n",
    "\n",
    "DAYS_AFTER_POP_CUTOUT = 15\n",
    "\n",
    "fb = pd.sql(f'''\n",
    "SELECT url,\n",
    "       reaction_count,\n",
    "       share_count,\n",
    "       comment_count,\n",
    "       comment_plugin_count,\n",
    "       sync_on_day,\n",
    "       days_after_publication\n",
    "FROM new_articles_fb_engagement\n",
    "WHERE days_after_publication BETWEEN 0 AND {DAYS_AFTER_POP_CUTOUT};\n",
    "''')"
   ]
  },
  {
   "cell_type": "code",
   "execution_count": 163,
   "metadata": {},
   "outputs": [],
   "source": [
    "assert DAYS_AFTER_POP_CUTOUT >= fb.days_after_publication.max()"
   ]
  },
  {
   "cell_type": "code",
   "execution_count": 164,
   "metadata": {},
   "outputs": [
    {
     "name": "stdout",
     "output_type": "stream",
     "text": [
      "<class 'pandas.core.frame.DataFrame'>\n",
      "RangeIndex: 275847 entries, 0 to 275846\n",
      "Data columns (total 7 columns):\n",
      "url                       275847 non-null object\n",
      "reaction_count            275847 non-null int64\n",
      "share_count               275847 non-null int64\n",
      "comment_count             275847 non-null int64\n",
      "comment_plugin_count      275847 non-null int64\n",
      "sync_on_day               275847 non-null object\n",
      "days_after_publication    275847 non-null int64\n",
      "dtypes: int64(5), object(2)\n",
      "memory usage: 14.7+ MB\n"
     ]
    }
   ],
   "source": [
    "fb.info()"
   ]
  },
  {
   "cell_type": "code",
   "execution_count": 165,
   "metadata": {},
   "outputs": [],
   "source": [
    "def append_popularity_columns(df, fb):\n",
    "    df = df.copy()\n",
    "    fb = fb.copy()\n",
    "    \n",
    "    cols = [\n",
    "        'url',\n",
    "        'days_after_publication',\n",
    "        'reaction_count',\n",
    "        'share_count',\n",
    "        'comment_count'\n",
    "    ] \n",
    "    \n",
    "    fb = fb[cols].pivot_table(index='url',\n",
    "                         columns='days_after_publication')\n",
    "    fb.columns = [f'fb_ad_{j}_{i}' for i,j in fb.columns.values]\n",
    "\n",
    "    df = pd.concat((df.set_index('url'), fb), axis=1, join='inner')\n",
    "    return df.set_index('id')"
   ]
  },
  {
   "cell_type": "code",
   "execution_count": 169,
   "metadata": {},
   "outputs": [],
   "source": [
    "def append_fb_pop_sum(df):\n",
    "    df = df.copy()\n",
    "    for i in range(0, DAYS_AFTER_POP_CUTOUT + 1):\n",
    "        cols = [\n",
    "            f'fb_ad_{i}_comment_count',\n",
    "            f'fb_ad_{i}_share_count',\n",
    "            f'fb_ad_{i}_reaction_count'\n",
    "        ]\n",
    "        df[f'fb_popularity_ad_{i}'] = df[cols].apply(np.sum, axis=1)\n",
    "        print(df[f'fb_popularity_ad_{i}'].describe())\n",
    "    return df"
   ]
  },
  {
   "cell_type": "code",
   "execution_count": 170,
   "metadata": {
    "collapsed": true,
    "jupyter": {
     "outputs_hidden": true
    }
   },
   "outputs": [
    {
     "name": "stdout",
     "output_type": "stream",
     "text": [
      "count      3590.000000\n",
      "mean         88.519220\n",
      "std        2003.452489\n",
      "min           0.000000\n",
      "25%           0.000000\n",
      "50%           0.000000\n",
      "75%           0.000000\n",
      "max      114023.000000\n",
      "Name: fb_popularity_ad_0, dtype: float64\n",
      "count      3590.000000\n",
      "mean        456.911699\n",
      "std        6906.179127\n",
      "min           0.000000\n",
      "25%           0.000000\n",
      "50%           0.000000\n",
      "75%          62.750000\n",
      "max      324687.000000\n",
      "Name: fb_popularity_ad_1, dtype: float64\n",
      "count      3590.000000\n",
      "mean        687.403343\n",
      "std        9686.332035\n",
      "min           0.000000\n",
      "25%           0.000000\n",
      "50%           0.000000\n",
      "75%         118.500000\n",
      "max      447072.000000\n",
      "Name: fb_popularity_ad_2, dtype: float64\n",
      "count      3590.000000\n",
      "mean        879.268802\n",
      "std       12636.031674\n",
      "min           0.000000\n",
      "25%           0.000000\n",
      "50%           2.000000\n",
      "75%         172.500000\n",
      "max      599576.000000\n",
      "Name: fb_popularity_ad_3, dtype: float64\n",
      "count      3590.000000\n",
      "mean       1032.102507\n",
      "std       15613.401229\n",
      "min           0.000000\n",
      "25%           0.000000\n",
      "50%           6.000000\n",
      "75%         202.000000\n",
      "max      751260.000000\n",
      "Name: fb_popularity_ad_4, dtype: float64\n",
      "count      3590.000000\n",
      "mean       1154.622563\n",
      "std       17936.440146\n",
      "min           0.000000\n",
      "25%           0.000000\n",
      "50%           9.000000\n",
      "75%         224.000000\n",
      "max      866965.000000\n",
      "Name: fb_popularity_ad_5, dtype: float64\n",
      "count      3590.000000\n",
      "mean       1274.310585\n",
      "std       19727.752124\n",
      "min           0.000000\n",
      "25%           0.000000\n",
      "50%          13.500000\n",
      "75%         240.750000\n",
      "max      939001.000000\n",
      "Name: fb_popularity_ad_6, dtype: float64\n",
      "count      3590.000000\n",
      "mean       1395.622841\n",
      "std       21344.512501\n",
      "min           0.000000\n",
      "25%           0.000000\n",
      "50%          18.000000\n",
      "75%         258.000000\n",
      "max      988028.000000\n",
      "Name: fb_popularity_ad_7, dtype: float64\n",
      "count    3.590000e+03\n",
      "mean     1.462397e+03\n",
      "std      2.258299e+04\n",
      "min      0.000000e+00\n",
      "25%      0.000000e+00\n",
      "50%      2.200000e+01\n",
      "75%      2.655000e+02\n",
      "max      1.023109e+06\n",
      "Name: fb_popularity_ad_8, dtype: float64\n",
      "count    3.590000e+03\n",
      "mean     1.580667e+03\n",
      "std      2.379233e+04\n",
      "min      0.000000e+00\n",
      "25%      0.000000e+00\n",
      "50%      2.600000e+01\n",
      "75%      2.747500e+02\n",
      "max      1.042697e+06\n",
      "Name: fb_popularity_ad_9, dtype: float64\n",
      "count    3.590000e+03\n",
      "mean     1.706896e+03\n",
      "std      2.477899e+04\n",
      "min      0.000000e+00\n",
      "25%      0.000000e+00\n",
      "50%      3.100000e+01\n",
      "75%      3.047500e+02\n",
      "max      1.053383e+06\n",
      "Name: fb_popularity_ad_10, dtype: float64\n",
      "count    3.590000e+03\n",
      "mean     1.759168e+03\n",
      "std      2.540172e+04\n",
      "min      0.000000e+00\n",
      "25%      0.000000e+00\n",
      "50%      3.600000e+01\n",
      "75%      3.150000e+02\n",
      "max      1.061800e+06\n",
      "Name: fb_popularity_ad_11, dtype: float64\n",
      "count    3.590000e+03\n",
      "mean     1.798385e+03\n",
      "std      2.662939e+04\n",
      "min      0.000000e+00\n",
      "25%      0.000000e+00\n",
      "50%      3.650000e+01\n",
      "75%      3.170000e+02\n",
      "max      1.138921e+06\n",
      "Name: fb_popularity_ad_12, dtype: float64\n",
      "count    3.590000e+03\n",
      "mean     1.819628e+03\n",
      "std      2.734712e+04\n",
      "min      0.000000e+00\n",
      "25%      0.000000e+00\n",
      "50%      3.700000e+01\n",
      "75%      3.200000e+02\n",
      "max      1.169861e+06\n",
      "Name: fb_popularity_ad_13, dtype: float64\n",
      "count    3.590000e+03\n",
      "mean     1.840868e+03\n",
      "std      2.788213e+04\n",
      "min      0.000000e+00\n",
      "25%      0.000000e+00\n",
      "50%      3.800000e+01\n",
      "75%      3.207500e+02\n",
      "max      1.187017e+06\n",
      "Name: fb_popularity_ad_14, dtype: float64\n",
      "count    3.590000e+03\n",
      "mean     1.868253e+03\n",
      "std      2.844449e+04\n",
      "min      0.000000e+00\n",
      "25%      0.000000e+00\n",
      "50%      4.100000e+01\n",
      "75%      3.360000e+02\n",
      "max      1.201404e+06\n",
      "Name: fb_popularity_ad_15, dtype: float64\n"
     ]
    }
   ],
   "source": [
    "xdf = append_popularity_columns(df, fb)\n",
    "xdf = append_fb_pop_sum(xdf)\n",
    "\n",
    "df = xdf"
   ]
  },
  {
   "cell_type": "code",
   "execution_count": 151,
   "metadata": {},
   "outputs": [
    {
     "name": "stdout",
     "output_type": "stream",
     "text": [
      "<class 'pandas.core.frame.DataFrame'>\n",
      "Int64Index: 3590 entries, 428781 to 804137\n",
      "Data columns (total 87 columns):\n",
      "title                      3590 non-null object\n",
      "perex                      2754 non-null object\n",
      "body                       3585 non-null object\n",
      "published_at               3590 non-null datetime64[ns]\n",
      "extracted_at               3590 non-null datetime64[ns]\n",
      "source_id                  3590 non-null int64\n",
      "category                   2149 non-null object\n",
      "other_info                 3588 non-null object\n",
      "image_count                3590 non-null int64\n",
      "video_count                3590 non-null int64\n",
      "veracity                   3590 non-null object\n",
      "claims_false               3590 non-null int64\n",
      "claims_mixture             3590 non-null int64\n",
      "claims_mostly_false        3590 non-null int64\n",
      "claims_mostly_true         3590 non-null int64\n",
      "claims_true                3590 non-null int64\n",
      "claims_unknown             3590 non-null int64\n",
      "author_name                3590 non-null object\n",
      "source_id                  3590 non-null int64\n",
      "source_name                3590 non-null object\n",
      "source_url                 3590 non-null object\n",
      "source_type                3590 non-null object\n",
      "source_is_reliable         3590 non-null int64\n",
      "fb_ad_0_comment_count      1259 non-null float64\n",
      "fb_ad_1_comment_count      2108 non-null float64\n",
      "fb_ad_2_comment_count      2362 non-null float64\n",
      "fb_ad_3_comment_count      2552 non-null float64\n",
      "fb_ad_4_comment_count      2727 non-null float64\n",
      "fb_ad_5_comment_count      2747 non-null float64\n",
      "fb_ad_6_comment_count      2809 non-null float64\n",
      "fb_ad_7_comment_count      2866 non-null float64\n",
      "fb_ad_8_comment_count      2906 non-null float64\n",
      "fb_ad_9_comment_count      2967 non-null float64\n",
      "fb_ad_10_comment_count     3045 non-null float64\n",
      "fb_ad_11_comment_count     3115 non-null float64\n",
      "fb_ad_12_comment_count     3129 non-null float64\n",
      "fb_ad_13_comment_count     3134 non-null float64\n",
      "fb_ad_14_comment_count     3137 non-null float64\n",
      "fb_ad_15_comment_count     3167 non-null float64\n",
      "fb_ad_0_reaction_count     1259 non-null float64\n",
      "fb_ad_1_reaction_count     2108 non-null float64\n",
      "fb_ad_2_reaction_count     2362 non-null float64\n",
      "fb_ad_3_reaction_count     2552 non-null float64\n",
      "fb_ad_4_reaction_count     2727 non-null float64\n",
      "fb_ad_5_reaction_count     2747 non-null float64\n",
      "fb_ad_6_reaction_count     2809 non-null float64\n",
      "fb_ad_7_reaction_count     2866 non-null float64\n",
      "fb_ad_8_reaction_count     2906 non-null float64\n",
      "fb_ad_9_reaction_count     2967 non-null float64\n",
      "fb_ad_10_reaction_count    3045 non-null float64\n",
      "fb_ad_11_reaction_count    3115 non-null float64\n",
      "fb_ad_12_reaction_count    3129 non-null float64\n",
      "fb_ad_13_reaction_count    3134 non-null float64\n",
      "fb_ad_14_reaction_count    3137 non-null float64\n",
      "fb_ad_15_reaction_count    3167 non-null float64\n",
      "fb_ad_0_share_count        1259 non-null float64\n",
      "fb_ad_1_share_count        2108 non-null float64\n",
      "fb_ad_2_share_count        2362 non-null float64\n",
      "fb_ad_3_share_count        2552 non-null float64\n",
      "fb_ad_4_share_count        2727 non-null float64\n",
      "fb_ad_5_share_count        2747 non-null float64\n",
      "fb_ad_6_share_count        2809 non-null float64\n",
      "fb_ad_7_share_count        2866 non-null float64\n",
      "fb_ad_8_share_count        2906 non-null float64\n",
      "fb_ad_9_share_count        2967 non-null float64\n",
      "fb_ad_10_share_count       3045 non-null float64\n",
      "fb_ad_11_share_count       3115 non-null float64\n",
      "fb_ad_12_share_count       3129 non-null float64\n",
      "fb_ad_13_share_count       3134 non-null float64\n",
      "fb_ad_14_share_count       3137 non-null float64\n",
      "fb_ad_15_share_count       3167 non-null float64\n",
      "fb_popularity_ad_0         3590 non-null float64\n",
      "fb_popularity_ad_1         3590 non-null float64\n",
      "fb_popularity_ad_2         3590 non-null float64\n",
      "fb_popularity_ad_3         3590 non-null float64\n",
      "fb_popularity_ad_4         3590 non-null float64\n",
      "fb_popularity_ad_5         3590 non-null float64\n",
      "fb_popularity_ad_6         3590 non-null float64\n",
      "fb_popularity_ad_7         3590 non-null float64\n",
      "fb_popularity_ad_8         3590 non-null float64\n",
      "fb_popularity_ad_9         3590 non-null float64\n",
      "fb_popularity_ad_10        3590 non-null float64\n",
      "fb_popularity_ad_11        3590 non-null float64\n",
      "fb_popularity_ad_12        3590 non-null float64\n",
      "fb_popularity_ad_13        3590 non-null float64\n",
      "fb_popularity_ad_14        3590 non-null float64\n",
      "fb_popularity_ad_15        3590 non-null float64\n",
      "dtypes: datetime64[ns](2), float64(64), int64(11), object(10)\n",
      "memory usage: 2.4+ MB\n"
     ]
    }
   ],
   "source": [
    "df.info()"
   ]
  },
  {
   "cell_type": "code",
   "execution_count": 152,
   "metadata": {},
   "outputs": [
    {
     "data": {
      "text/plain": [
       "<matplotlib.axes._subplots.AxesSubplot at 0x2d8515bf7c8>"
      ]
     },
     "execution_count": 152,
     "metadata": {},
     "output_type": "execute_result"
    },
    {
     "data": {
      "image/png": "[encoded data removed]",
      "text/plain": [
       "<Figure size 432x288 with 1 Axes>"
      ]
     },
     "metadata": {
      "needs_background": "light"
     },
     "output_type": "display_data"
    }
   ],
   "source": [
    "sns.countplot(x='source_is_reliable', data=df)"
   ]
  },
  {
   "cell_type": "code",
   "execution_count": 153,
   "metadata": {},
   "outputs": [
    {
     "name": "stdout",
     "output_type": "stream",
     "text": [
      "after 0 days: 1259 fb observations\n",
      "after 1 days: 2108 fb observations\n",
      "after 2 days: 2362 fb observations\n",
      "after 3 days: 2552 fb observations\n",
      "after 4 days: 2727 fb observations\n",
      "after 5 days: 2747 fb observations\n",
      "after 6 days: 2809 fb observations\n",
      "after 7 days: 2866 fb observations\n",
      "after 8 days: 2906 fb observations\n",
      "after 9 days: 2967 fb observations\n",
      "after 10 days: 3045 fb observations\n",
      "after 11 days: 3115 fb observations\n",
      "after 12 days: 3129 fb observations\n",
      "after 13 days: 3134 fb observations\n",
      "after 14 days: 3137 fb observations\n",
      "after 15 days: 3167 fb observations\n"
     ]
    }
   ],
   "source": [
    "for i in range(0, DAYS_AFTER_POP_CUTOUT + 1):\n",
    "    count = len(df[df[f'fb_ad_{i}_comment_count'].notna()])\n",
    "    print(f'after {i} days: {count} fb observations')"
   ]
  },
  {
   "cell_type": "code",
   "execution_count": 154,
   "metadata": {},
   "outputs": [
    {
     "name": "stdout",
     "output_type": "stream",
     "text": [
      "at least 3 observations in first 5 days: 1274\n"
     ]
    }
   ],
   "source": [
    "def cell(n_days=7, n_obs=3): \n",
    "    rr_fb_cc = df[[f'fb_ad_{i}_comment_count' for i in range(0, n_days + 1)]]\n",
    "    rr_fb_cc = rr_fb_cc.apply(lambda x: pd.isna(x).sum(), axis=1)\n",
    "\n",
    "    print(f'at least {n_obs} observations in first {n_days} days: {(rr_fb_cc >= n_obs).sum()}')\n",
    "    \n",
    "cell(5, 3)"
   ]
  },
  {
   "cell_type": "code",
   "execution_count": 155,
   "metadata": {},
   "outputs": [
    {
     "name": "stdout",
     "output_type": "stream",
     "text": [
      "avg_claim_count == 2.866573816155989\n",
      "rows_with_zero_claims == 0\n"
     ]
    }
   ],
   "source": [
    "claim_cols = [cn for cn in df.columns if cn.startswith('claims_')]\n",
    "df_cc = df[claim_cols]\n",
    "avg_claim_count = df_cc.apply(sum, axis=1).mean()\n",
    "rows_with_zero_claims = len(df) - (df[claim_cols].apply(sum, axis=1) > 0).sum()\n",
    "\n",
    "print(f'avg_claim_count == {avg_claim_count}')\n",
    "print(f'rows_with_zero_claims == {rows_with_zero_claims}')"
   ]
  },
  {
   "cell_type": "code",
   "execution_count": 156,
   "metadata": {},
   "outputs": [
    {
     "ename": "SyntaxError",
     "evalue": "invalid syntax (<ipython-input-156-919a52495825>, line 4)",
     "output_type": "error",
     "traceback": [
      "\u001b[1;36m  File \u001b[1;32m\"<ipython-input-156-919a52495825>\"\u001b[1;36m, line \u001b[1;32m4\u001b[0m\n\u001b[1;33m    after_days = f'fb_ad_{after_days}_comment_count',\u001b[0m\n\u001b[1;37m               ^\u001b[0m\n\u001b[1;31mSyntaxError\u001b[0m\u001b[1;31m:\u001b[0m invalid syntax\n"
     ]
    }
   ],
   "source": []
  },
  {
   "cell_type": "code",
   "execution_count": null,
   "metadata": {},
   "outputs": [],
   "source": []
  },
  {
   "cell_type": "code",
   "execution_count": null,
   "metadata": {},
   "outputs": [],
   "source": []
  },
  {
   "cell_type": "code",
   "execution_count": 177,
   "metadata": {},
   "outputs": [
    {
     "data": {
      "text/plain": [
       "naturalnews.com                  608\n",
       "medicinenet.com                  410\n",
       "neurosciencenews.com             235\n",
       "medicaldaily.com                 228\n",
       "statnews.com                     173\n",
       "webmd.com                        153\n",
       "medicalnewstoday.com             136\n",
       "healthnutnews.com                134\n",
       "foxnews.com                      113\n",
       "healthcentral.com                103\n",
       "naturalhealth365.com             103\n",
       "nytimes.com                       88\n",
       "consciouslifenews.com             84\n",
       "healthy-holistic-living.com       81\n",
       "healthimpactnews.com              70\n",
       "emedicinehealth.com               70\n",
       "latimes.com                       65\n",
       "collective-evolution.com          55\n",
       "vaxopedia.org                     55\n",
       "themindunleashed.com              54\n",
       "thenewsdoctors.com                52\n",
       "organicfacts.net                  49\n",
       "allianceforadvancedhealth.com     44\n",
       "ageofautism.com                   44\n",
       "infowars.com                      43\n",
       "vaccineimpact.com                 41\n",
       "hsionline.com                     35\n",
       "vaxxter.com                       26\n",
       "cancer.org                        21\n",
       "lifespa.com                       21\n",
       "thetruthaboutcancer.com           19\n",
       "iheartintelligence.com            18\n",
       "realfarmacy.com                   18\n",
       "wakeup-world.com                  15\n",
       "who.int                           13\n",
       "cancer.gov                        13\n",
       "sciencebasedmedicine.org          12\n",
       "naturalnewsblogs.com               9\n",
       "educateinspirechange.org           8\n",
       "althealthworks.com                 8\n",
       "thesacredscience.com               7\n",
       "youngwomenshealth.org              7\n",
       "healthadvocate.com                 6\n",
       "thinkingmomsrevolution.com         5\n",
       "medicalkidnap.com                  5\n",
       "genuinehealth.com                  5\n",
       "medlineplus.gov                    5\n",
       "naturalcures.com                   4\n",
       "lifeandhealth.org                  4\n",
       "coconutoil.com                     3\n",
       "naturalsociety.com                 3\n",
       "foodbabe.com                       3\n",
       "kellybroganmd.com                  3\n",
       "healthline.com                     1\n",
       "justhealthyway.com                 1\n",
       "sanevax.org                        1\n",
       "Name: source_name, dtype: int64"
      ]
     },
     "execution_count": 177,
     "metadata": {},
     "output_type": "execute_result"
    }
   ],
   "source": [
    "df.source_name.value_counts()"
   ]
  },
  {
   "cell_type": "code",
   "execution_count": null,
   "metadata": {},
   "outputs": [],
   "source": []
  },
  {
   "cell_type": "markdown",
   "metadata": {},
   "source": [
    "### Save final data"
   ]
  },
  {
   "cell_type": "code",
   "execution_count": 181,
   "metadata": {},
   "outputs": [],
   "source": [
    "save_df(df, 'final_data.pickle')"
   ]
  }
 ],
 "metadata": {
  "kernelspec": {
   "display_name": "Python 3",
   "language": "python",
   "name": "python3"
  },
  "language_info": {
   "codemirror_mode": {
    "name": "ipython",
    "version": 3
   },
   "file_extension": ".py",
   "mimetype": "text/x-python",
   "name": "python",
   "nbconvert_exporter": "python",
   "pygments_lexer": "ipython3",
   "version": "3.7.4"
  }
 },
 "nbformat": 4,
 "nbformat_minor": 4
}
